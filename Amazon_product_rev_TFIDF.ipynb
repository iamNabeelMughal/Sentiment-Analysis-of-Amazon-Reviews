{
  "nbformat": 4,
  "nbformat_minor": 0,
  "metadata": {
    "colab": {
      "name": "Amazon product rev TFIDF-checkpoint.ipynb",
      "provenance": [],
      "collapsed_sections": [
        "fitHYYfknASi",
        "r13YRgSYnAS-"
      ],
      "include_colab_link": true
    },
    "language_info": {
      "codemirror_mode": {
        "name": "ipython",
        "version": 3
      },
      "file_extension": ".py",
      "mimetype": "text/x-python",
      "name": "python",
      "nbconvert_exporter": "python",
      "pygments_lexer": "ipython3",
      "version": "3.7.3"
    },
    "kernelspec": {
      "name": "python3",
      "display_name": "Python 3"
    },
    "accelerator": "TPU"
  },
  "cells": [
    {
      "cell_type": "markdown",
      "metadata": {
        "id": "view-in-github",
        "colab_type": "text"
      },
      "source": [
        "<a href=\"https://colab.research.google.com/github/iamNabeelMughal/Sentiment-Analysis-of-Amazon-Reviews/blob/main/Amazon_product_rev_TFIDF.ipynb\" target=\"_parent\"><img src=\"https://colab.research.google.com/assets/colab-badge.svg\" alt=\"Open In Colab\"/></a>"
      ]
    },
    {
      "cell_type": "markdown",
      "metadata": {
        "id": "ORTYMQsknALD"
      },
      "source": [
        "# Sentiment Analysis"
      ]
    },
    {
      "cell_type": "markdown",
      "metadata": {
        "id": "F3JF512hnALG"
      },
      "source": [
        "### Import Libraries"
      ]
    },
    {
      "cell_type": "code",
      "metadata": {
        "id": "9biZYMHXGE22",
        "colab": {
          "base_uri": "https://localhost:8080/",
          "height": 221
        },
        "outputId": "28d501c2-5683-4e75-c253-4c3261a029f7"
      },
      "source": [
        "# memory footprint support libraries/code\n",
        "!ln -sf /opt/bin/nvidia-smi /usr/bin/nvidia-smi\n",
        "!pip install gputil\n",
        "!pip install psutil\n",
        "!pip install humanize\n",
        "import psutil\n",
        "import humanize\n",
        "import os\n",
        "import GPUtil as GPU\n",
        "GPUs = GPU.getGPUs()\n",
        "# XXX: only one GPU on Colab and isn’t guaranteed\n",
        "gpu = GPUs[0]\n",
        "def printm():\n",
        " process = psutil.Process(os.getpid())\n",
        " print(\"Gen RAM Free: \" + humanize.naturalsize( psutil.virtual_memory().available ), \" | Proc size: \" + humanize.naturalsize( process.memory_info().rss))\n",
        " print(\"GPU RAM Free: {0:.0f}MB | Used: {1:.0f}MB | Util {2:3.0f}% | Total {3:.0f}MB\".format(gpu.memoryFree, gpu.memoryUsed, gpu.memoryUtil*100, gpu.memoryTotal))\n",
        "printm()"
      ],
      "execution_count": null,
      "outputs": [
        {
          "output_type": "stream",
          "text": [
            "Collecting gputil\n",
            "  Downloading https://files.pythonhosted.org/packages/ed/0e/5c61eedde9f6c87713e89d794f01e378cfd9565847d4576fa627d758c554/GPUtil-1.4.0.tar.gz\n",
            "Building wheels for collected packages: gputil\n",
            "  Building wheel for gputil (setup.py) ... \u001b[?25l\u001b[?25hdone\n",
            "  Stored in directory: /root/.cache/pip/wheels/3d/77/07/80562de4bb0786e5ea186911a2c831fdd0018bda69beab71fd\n",
            "Successfully built gputil\n",
            "Installing collected packages: gputil\n",
            "Successfully installed gputil-1.4.0\n",
            "Requirement already satisfied: psutil in /usr/local/lib/python3.6/dist-packages (5.4.8)\n",
            "Requirement already satisfied: humanize in /usr/local/lib/python3.6/dist-packages (0.5.1)\n",
            "Gen RAM Free: 13.0 GB  | Proc size: 120.4 MB\n",
            "GPU RAM Free: 15079MB | Used: 0MB | Util   0% | Total 15079MB\n"
          ],
          "name": "stdout"
        }
      ]
    },
    {
      "cell_type": "code",
      "metadata": {
        "id": "2NVqM4fOafjD",
        "colab": {
          "base_uri": "https://localhost:8080/",
          "height": 35
        },
        "outputId": "241af281-853f-4faa-deac-4767b8ad9970"
      },
      "source": [
        "!cat AmazonTest.csv"
      ],
      "execution_count": null,
      "outputs": [
        {
          "output_type": "stream",
          "text": [
            "cat: AmazonTest.csv: No such file or directory\n"
          ],
          "name": "stdout"
        }
      ]
    },
    {
      "cell_type": "code",
      "metadata": {
        "id": "BU2sLvp-bO1W",
        "colab": {
          "resources": {
            "http://localhost:8080/nbextensions/google.colab/files.js": {
              "data": "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",
              "ok": true,
              "headers": [
                [
                  "content-type",
                  "application/javascript"
                ]
              ],
              "status": 200,
              "status_text": ""
            }
          },
          "base_uri": "https://localhost:8080/",
          "height": 39
        },
        "outputId": "385a538b-994a-49e1-f924-9135c672af68"
      },
      "source": [
        "from google.colab import files\n",
        "\n",
        "import pandas as pd\n",
        "\n",
        "uploaded = files.upload()\n"
      ],
      "execution_count": null,
      "outputs": [
        {
          "output_type": "display_data",
          "data": {
            "text/html": [
              "\n",
              "     <input type=\"file\" id=\"files-a21bba41-7619-4df7-948d-1f03eb8883bb\" name=\"files[]\" multiple disabled />\n",
              "     <output id=\"result-a21bba41-7619-4df7-948d-1f03eb8883bb\">\n",
              "      Upload widget is only available when the cell has been executed in the\n",
              "      current browser session. Please rerun this cell to enable.\n",
              "      </output>\n",
              "      <script src=\"/nbextensions/google.colab/files.js\"></script> "
            ],
            "text/plain": [
              "<IPython.core.display.HTML object>"
            ]
          },
          "metadata": {
            "tags": []
          }
        }
      ]
    },
    {
      "cell_type": "code",
      "metadata": {
        "id": "rE4mFxx_Yr-h",
        "colab": {
          "base_uri": "https://localhost:8080/",
          "height": 417
        },
        "outputId": "5f318dad-3579-444b-8caa-cdf8fd41b5d0"
      },
      "source": [
        "from tensorflow.python.client import device_lib\n",
        "\n",
        "print(\"Show System RAM Memory:\\n\\n\")\n",
        "!cat /proc/meminfo | egrep \"MemTotal*\"\n",
        "\n",
        "\n",
        "print(\"\\n\\nShow Devices:\\n\\n\"+str(device_lib.list_local_devices()))"
      ],
      "execution_count": null,
      "outputs": [
        {
          "output_type": "stream",
          "text": [
            "Show System RAM Memory:\n",
            "\n",
            "\n",
            "MemTotal:       13335276 kB\n",
            "\n",
            "\n",
            "Show Devices:\n",
            "\n",
            "[name: \"/device:CPU:0\"\n",
            "device_type: \"CPU\"\n",
            "memory_limit: 268435456\n",
            "locality {\n",
            "}\n",
            "incarnation: 8918587393353594048\n",
            ", name: \"/device:XLA_CPU:0\"\n",
            "device_type: \"XLA_CPU\"\n",
            "memory_limit: 17179869184\n",
            "locality {\n",
            "}\n",
            "incarnation: 1677682844802303436\n",
            "physical_device_desc: \"device: XLA_CPU device\"\n",
            "]\n"
          ],
          "name": "stdout"
        }
      ]
    },
    {
      "cell_type": "code",
      "metadata": {
        "id": "tbOWLcAHnALI"
      },
      "source": [
        "import re\n",
        "import string\n",
        "import scipy\n",
        "import pickle\n",
        "import pandas as pd\n",
        "import numpy as np\n",
        "from sklearn.feature_extraction.text import *\n",
        "from sklearn.preprocessing import LabelEncoder\n",
        "from sklearn.linear_model import LogisticRegression\n",
        "from sklearn.naive_bayes import BernoulliNB\n",
        "from sklearn.ensemble import RandomForestClassifier\n",
        "from sklearn.svm import LinearSVC\n",
        "from sklearn.metrics import accuracy_score \n",
        "#from prettytable import PrettyTable\n",
        "from astropy.table import Table, Column"
      ],
      "execution_count": null,
      "outputs": []
    },
    {
      "cell_type": "code",
      "metadata": {
        "id": "LXM8b81_nALV"
      },
      "source": [
        "train_file_path = 'AmazonTrain4.csv'\n",
        "test_file_path = 'AmazonTest4.csv'"
      ],
      "execution_count": null,
      "outputs": []
    },
    {
      "cell_type": "code",
      "metadata": {
        "id": "zaL4pN5DnALm"
      },
      "source": [
        "train_dataset = pd.read_csv(r\"AmazonTrain.csv\")\n",
        "test_dataset = pd.read_csv(r\"AmazonTest.csv\")"
      ],
      "execution_count": null,
      "outputs": []
    },
    {
      "cell_type": "markdown",
      "metadata": {
        "id": "wV9RoyLNnALu"
      },
      "source": [
        "### Understand Data"
      ]
    },
    {
      "cell_type": "code",
      "metadata": {
        "id": "mENBBgRKnALx",
        "colab": {
          "base_uri": "https://localhost:8080/",
          "height": 1237
        },
        "outputId": "8f5a867c-1b2b-4532-e71f-d8c0c5713682"
      },
      "source": [
        "print(\"Train Dataset:\\n\")\n",
        "\n",
        "train_dataset.index.names = ['index']\n",
        "train_dataset.columns.name = train_dataset.index.name\n",
        "train_dataset.index.name = None\n",
        "print(train_dataset)"
      ],
      "execution_count": null,
      "outputs": [
        {
          "output_type": "stream",
          "text": [
            "Train Dataset:\n",
            "\n",
            "index  positive  Useful for remodels: I recently remodeled my house and these came in extremely useful for boring through studs for electrical and plumbing... as well as prepping doors for hardware.\n",
            "0      positive   decent get what u pay for: I got this set for...                                                                                                                                    \n",
            "1      positive   Rock solid: Perfect solution - stable and acc...                                                                                                                                    \n",
            "2      positive   Fun, humorous, and touching!: I highly recomm...                                                                                                                                    \n",
            "3      positive   Horror that isn't for the faint-hearted: Of t...                                                                                                                                    \n",
            "4      positive   master and margarita fully filmed: after read...                                                                                                                                    \n",
            "5      positive   Love these pens: I started writing with these...                                                                                                                                    \n",
            "6      negative   Bill: liar, draft dodger, amoral, our Prez .....                                                                                                                                    \n",
            "7      negative   not even close...: I was very let down by thi...                                                                                                                                    \n",
            "8      positive   nice little camera: easy to carry, easy to sh...                                                                                                                                    \n",
            "9      positive   Where is EUCLID?: I know little about the per...                                                                                                                                    \n",
            "10     negative   Better to Stay Medievalist than Becoming Bad ...                                                                                                                                    \n",
            "11     positive   Great guitar for the price: I bought the S35 ...                                                                                                                                    \n",
            "12     positive   Great deal with prime membership: I was looki...                                                                                                                                    \n",
            "13     negative   Don't buy: I got this Guitar as a gift, I don...                                                                                                                                    \n",
            "14     positive   Great Guitar!: Bought this for my husband for...                                                                                                                                    \n",
            "15     positive   This is a good guitar.: This is a nice guitar...                                                                                                                                    \n",
            "16     negative   headset wireless: excellent headset... but th...                                                                                                                                    \n",
            "17     negative   A sharp drop off from the first novel . . .: ...                                                                                                                                    \n",
            "18     negative   Finger pincher!: This olive pitter pinches yo...                                                                                                                                    \n",
            "19     positive   I can't believe it's only available from 3rd ...                                                                                                                                    \n",
            "20     negative   disappointed: I had a similar product that wo...                                                                                                                                    \n",
            "21     positive   One for work and home: In my opinion there ar...                                                                                                                                    \n",
            "22     positive   This is great electrical tape: This is an exc...                                                                                                                                    \n",
            "23     positive   Another Happy Customer: After taking a class ...                                                                                                                                    \n",
            "24     negative   Staedtler(R) Multi-4(TM) Multipurpose Writing...                                                                                                                                    \n",
            "25     positive   A boy goes to a site on the net and finds a g...                                                                                                                                    \n",
            "26     positive   Dress for Diana - a review: Book arrived, via...                                                                                                                                    \n",
            "27     negative   What was the SS Really All About?: Having jus...                                                                                                                                    \n",
            "28     positive   Another Excellent Thermaltake PSU!: I bought ...                                                                                                                                    \n",
            "29     negative   You should always read the blurb: I accept re...                                                                                                                                    \n",
            "...         ...                                                ...                                                                                                                                    \n",
            "29969  negative   buyer beware short lifespan: Today I am final...                                                                                                                                    \n",
            "29970  negative   I have a popper too!: Have the Zenith plasma ...                                                                                                                                    \n",
            "29971  negative   add me to the list of LG & Zenith popping noi...                                                                                                                                    \n",
            "29972  negative   You will need a new one every two years!: Bou...                                                                                                                                    \n",
            "29973  positive   An excellent apologetic tool and defense!: A ...                                                                                                                                    \n",
            "29974  positive   Enjoyable read about a great story: The autho...                                                                                                                                    \n",
            "29975  negative   Rippoff: As it is typed Blues Saraceno (VHS) ...                                                                                                                                    \n",
            "29976  positive   Great Book! Backstreet Boys are not Passe or ...                                                                                                                                    \n",
            "29977  negative   discovery? true.: I am a CS student and had t...                                                                                                                                    \n",
            "29978  positive   Loved The Show !!!: I greatly enjoyed this sh...                                                                                                                                    \n",
            "29979  positive   Awesome thriller..IT IS NOT AN EROTIC NOVEL: ...                                                                                                                                    \n",
            "29980  positive   A good place to start: This book contains a l...                                                                                                                                    \n",
            "29981  positive   Loved it: This book chronicles psychological ...                                                                                                                                    \n",
            "29982  positive   awesome: you get a lot of ylar for your money...                                                                                                                                    \n",
            "29983  positive   Cherry cherries: These are slightly sour or b...                                                                                                                                    \n",
            "29984  negative   Only allows charging - WILL NOT WORK FOR TRAN...                                                                                                                                    \n",
            "29985  negative   Cable Defective, Worked Intermittently: Cable...                                                                                                                                    \n",
            "29986  negative   False advertising, not what title says.: This...                                                                                                                                    \n",
            "29987  positive   its ok: it does everything it is supposed to ...                                                                                                                                    \n",
            "29988  negative   Destroyed not one, but two IPods!: Like descr...                                                                                                                                    \n",
            "29989  negative   buy the factory model: the price was right on...                                                                                                                                    \n",
            "29990  negative   Awful: As others stated, while the picture sh...                                                                                                                                    \n",
            "29991  negative   Meh...but worth the price: I only got one but...                                                                                                                                    \n",
            "29992  negative   Non-genuine cable with a cheap connector; fai...                                                                                                                                    \n",
            "29993  negative   cheap....doesnt work: we ordered two one form...                                                                                                                                    \n",
            "29994  positive   Not Apple but just as good: Doesn't have the ...                                                                                                                                    \n",
            "29995  negative   FAKE: The down side to buying products online...                                                                                                                                    \n",
            "29996  negative   Not the same as an Apple cable: These cables ...                                                                                                                                    \n",
            "29997  negative   Dangerous product: The connection from the ca...                                                                                                                                    \n",
            "29998  negative   Waste of money: None of these fit an iPhone f...                                                                                                                                    \n",
            "\n",
            "[29999 rows x 2 columns]\n"
          ],
          "name": "stdout"
        }
      ]
    },
    {
      "cell_type": "code",
      "metadata": {
        "id": "vJTKiYyTnAL6",
        "colab": {
          "base_uri": "https://localhost:8080/",
          "height": 255
        },
        "outputId": "dee876a9-f1e3-4876-ffad-d935cd8e0093"
      },
      "source": [
        "print(\"\\n\\n\\nTrain Dataset Columns:\\n\")\n",
        "print(train_dataset.columns)\n",
        "print(\"\\n\\n\\nNumber of instances in Train Dataset:\\n\")\n",
        "print(\"Train instances: \", train_dataset.shape[0])"
      ],
      "execution_count": null,
      "outputs": [
        {
          "output_type": "stream",
          "text": [
            "\n",
            "\n",
            "\n",
            "Train Dataset Columns:\n",
            "\n",
            "Index(['positive', ' Useful for remodels: I recently remodeled my house and these came in extremely useful for boring through studs for electrical and plumbing... as well as prepping doors for hardware.'], dtype='object', name='index')\n",
            "\n",
            "\n",
            "\n",
            "Number of instances in Train Dataset:\n",
            "\n",
            "Train instances:  29999\n"
          ],
          "name": "stdout"
        }
      ]
    },
    {
      "cell_type": "code",
      "metadata": {
        "id": "f-3zPUOUnAMH",
        "colab": {
          "base_uri": "https://localhost:8080/",
          "height": 1272
        },
        "outputId": "bba3ccfa-3a33-4514-a44a-22ecd840d1dd"
      },
      "source": [
        "print(\"\\n\\n\\nTest Dataset\\n\")\n",
        "test_dataset.index.names = ['index']\n",
        "test_dataset.columns.name = test_dataset.index.name\n",
        "test_dataset.index.name = None\n",
        "print(test_dataset)"
      ],
      "execution_count": null,
      "outputs": [
        {
          "output_type": "stream",
          "text": [
            "\n",
            "\n",
            "\n",
            "Test Dataset\n",
            "\n",
            "index Sentiment                                             Phrase\n",
            "0      negative   Throwing away dollars: The first one I receiv...\n",
            "1      negative   Charging only (will not sync): Be forewarned,...\n",
            "2      negative   Not a real apple cable: This isn't a real app...\n",
            "3      negative   Unreliable Merchant: Ordered this item. My ca...\n",
            "4      negative   Poor: I bought 3 of these. I thought I will j...\n",
            "5      negative   Doesn't charge iPhone: It doesn't charge my i...\n",
            "6      negative   The cables do not work well: The cables do no...\n",
            "7      negative   NOT the real deal: Contrary to what is advert...\n",
            "8      negative   This is not the product shown in the picture....\n",
            "9      negative   Buyer Beware - Not as advertised: This cable ...\n",
            "10     negative   HORRIBLE!: I bought this because my old cord ...\n",
            "11     negative   Nice Connector....but....: This is a nice con...\n",
            "12     positive   Worth the money: Since im always loosing my c...\n",
            "13     negative   WORKS WITH ELECTRICAL OUTLET: THIS CABLE ONLY...\n",
            "14     negative   DO NOT BUY THIS: This is a waste of money for...\n",
            "15     positive   Good Product, Extremely Slow Delivery: The it...\n",
            "16     negative   Product is worthless: I bought this cable and...\n",
            "17     positive   USB connector cables for iPhone: This product...\n",
            "18     negative   did not work: I am very unsatisfied with this...\n",
            "19     negative   Dock to USB 2.0 cable for ipod: I bought this...\n",
            "20     negative   cheap and not worth 2 dollars: The cable disc...\n",
            "21     negative   Broken, bad, no: This broke with light usage ...\n",
            "22     positive   great value: The cord works great and the pri...\n",
            "23     positive   Good but not great: I enjoyed watching this, ...\n",
            "24     positive   SUPERMAN/BATMAN: PUBLIC ENEMIES: This was a g...\n",
            "25     positive   Perfect molds: My wife and I love to work aro...\n",
            "26     negative   complete lack of logic: I could barely finish...\n",
            "27     positive   WONDERFUL PRODUCT GREAT SERVICE: these are th...\n",
            "28     negative   A disappointment - both writing and from a te...\n",
            "29     positive   The free-be bin: I honestly picked this book ...\n",
            "...         ...                                                ...\n",
            "9970   negative   One book too many: Number two of a trilogy is...\n",
            "9971   positive   Don Juan explained by Asimov: If you have thi...\n",
            "9972   positive   WONDERFUL IDEAS TO PERK-UP ANY MARRIAGE: I'VE...\n",
            "9973   negative   Not for the faint of heart!: The picture qual...\n",
            "9974   negative   Hungarian? Cookbook?: If you want to read fun...\n",
            "9975   positive   We love Miffy!: I hope I'm not the only one o...\n",
            "9976   positive   Kodak Graphite Black Camera Bag/small: I have...\n",
            "9977   positive   Received as a Christening Gift: My son receiv...\n",
            "9978   negative   Yeah, maybe on the cover: I used this book fo...\n",
            "9979   negative   Stay away from this phone!: I am on round 3 o...\n",
            "9980   positive   Awesome Phone!: I've had this phone for 4 yea...\n",
            "9981   negative   Worst phone ever: I got this sony ericsson Z5...\n",
            "9982   negative   Not a ultra last battery and last about 10 sh...\n",
            "9983   positive   Great gift for a Rey Misterio fan: My nephew ...\n",
            "9984   positive   Popularity Contest: If one more person writin...\n",
            "9985   positive   heavy duty: Nordic ware is got to be the most...\n",
            "9986   positive   The Hickey Brothers- Brian and Ray: Brian was...\n",
            "9987   positive   Thank heavens that Zane is back!: Couldn't wa...\n",
            "9988   negative   uh' oh...I smell Cheese!!!: good movie. but l...\n",
            "9989   negative   this movie is poor.: I love the first sniper ...\n",
            "9990   positive   Substantive and Relevant: I really like two t...\n",
            "9991   positive   Finally a device that works!: With so many sc...\n",
            "9992   negative   Big money buys bad information: A lot of the ...\n",
            "9993   positive   Creates Soft Feet: I'm always skeptical about...\n",
            "9994   negative   waste of money :( soooo tiny.: when i pulled ...\n",
            "9995   positive   Good Booster: We got this booster seat when m...\n",
            "9996   negative   DO NOT BUY: this is a bad dvd. steve-o isnt e...\n",
            "9997   negative   Pompous, dreadful: Really awful amateur work....\n",
            "9998   positive   THIS BOOK IS HOT!: The first chapter is a wee...\n",
            "9999   positive   Easy to Replace: Cheaper than buying a whole ...\n",
            "\n",
            "[10000 rows x 2 columns]\n"
          ],
          "name": "stdout"
        }
      ]
    },
    {
      "cell_type": "code",
      "metadata": {
        "id": "A8qCz5jznAMR",
        "colab": {
          "base_uri": "https://localhost:8080/",
          "height": 235
        },
        "outputId": "5871eafa-8a75-4963-92d6-5f45ac2b2759"
      },
      "source": [
        "print(\"\\n\\n\\nTest Dataset Columns:\\n\")\n",
        "print(test_dataset.columns)\n",
        "print(\"\\n\\n\\nNumber of instances in Test Dataset:\\n\")\n",
        "print(\"Test instances: \", test_dataset.shape[0])"
      ],
      "execution_count": null,
      "outputs": [
        {
          "output_type": "stream",
          "text": [
            "\n",
            "\n",
            "\n",
            "Test Dataset Columns:\n",
            "\n",
            "Index(['Sentiment', 'Phrase'], dtype='object', name='index')\n",
            "\n",
            "\n",
            "\n",
            "Number of instances in Test Dataset:\n",
            "\n",
            "Test instances:  10000\n"
          ],
          "name": "stdout"
        }
      ]
    },
    {
      "cell_type": "code",
      "metadata": {
        "id": "UOb7TxsVnAMZ",
        "colab": {
          "base_uri": "https://localhost:8080/",
          "height": 740
        },
        "outputId": "55b613c0-bfbe-41b2-c9ae-6b2e162b493b"
      },
      "source": [
        "train_positive = train_dataset[train_dataset['Sentiment'] ==1]\n",
        "train_negative = train_dataset[train_dataset['Sentiment'] ==0]\n",
        "print(\"Reviews 'Positive' in Train Dataset:\\n\")\n",
        "train_positive.index.names = ['index']\n",
        "train_positive.columns.name = train_positive.index.name\n",
        "train_positive.index.name = None\n",
        "print(train_positive)"
      ],
      "execution_count": null,
      "outputs": [
        {
          "output_type": "error",
          "ename": "KeyError",
          "evalue": "ignored",
          "traceback": [
            "\u001b[0;31m---------------------------------------------------------------------------\u001b[0m",
            "\u001b[0;31mKeyError\u001b[0m                                  Traceback (most recent call last)",
            "\u001b[0;32m/usr/local/lib/python3.6/dist-packages/pandas/core/indexes/base.py\u001b[0m in \u001b[0;36mget_loc\u001b[0;34m(self, key, method, tolerance)\u001b[0m\n\u001b[1;32m   2656\u001b[0m             \u001b[0;32mtry\u001b[0m\u001b[0;34m:\u001b[0m\u001b[0;34m\u001b[0m\u001b[0;34m\u001b[0m\u001b[0m\n\u001b[0;32m-> 2657\u001b[0;31m                 \u001b[0;32mreturn\u001b[0m \u001b[0mself\u001b[0m\u001b[0;34m.\u001b[0m\u001b[0m_engine\u001b[0m\u001b[0;34m.\u001b[0m\u001b[0mget_loc\u001b[0m\u001b[0;34m(\u001b[0m\u001b[0mkey\u001b[0m\u001b[0;34m)\u001b[0m\u001b[0;34m\u001b[0m\u001b[0;34m\u001b[0m\u001b[0m\n\u001b[0m\u001b[1;32m   2658\u001b[0m             \u001b[0;32mexcept\u001b[0m \u001b[0mKeyError\u001b[0m\u001b[0;34m:\u001b[0m\u001b[0;34m\u001b[0m\u001b[0;34m\u001b[0m\u001b[0m\n",
            "\u001b[0;32mpandas/_libs/index.pyx\u001b[0m in \u001b[0;36mpandas._libs.index.IndexEngine.get_loc\u001b[0;34m()\u001b[0m\n",
            "\u001b[0;32mpandas/_libs/index.pyx\u001b[0m in \u001b[0;36mpandas._libs.index.IndexEngine.get_loc\u001b[0;34m()\u001b[0m\n",
            "\u001b[0;32mpandas/_libs/hashtable_class_helper.pxi\u001b[0m in \u001b[0;36mpandas._libs.hashtable.PyObjectHashTable.get_item\u001b[0;34m()\u001b[0m\n",
            "\u001b[0;32mpandas/_libs/hashtable_class_helper.pxi\u001b[0m in \u001b[0;36mpandas._libs.hashtable.PyObjectHashTable.get_item\u001b[0;34m()\u001b[0m\n",
            "\u001b[0;31mKeyError\u001b[0m: 'Sentiment'",
            "\nDuring handling of the above exception, another exception occurred:\n",
            "\u001b[0;31mKeyError\u001b[0m                                  Traceback (most recent call last)",
            "\u001b[0;32m<ipython-input-34-57355c481038>\u001b[0m in \u001b[0;36m<module>\u001b[0;34m()\u001b[0m\n\u001b[0;32m----> 1\u001b[0;31m \u001b[0mtrain_positive\u001b[0m \u001b[0;34m=\u001b[0m \u001b[0mtrain_dataset\u001b[0m\u001b[0;34m[\u001b[0m\u001b[0mtrain_dataset\u001b[0m\u001b[0;34m[\u001b[0m\u001b[0;34m'Sentiment'\u001b[0m\u001b[0;34m]\u001b[0m \u001b[0;34m==\u001b[0m\u001b[0;36m1\u001b[0m\u001b[0;34m]\u001b[0m\u001b[0;34m\u001b[0m\u001b[0;34m\u001b[0m\u001b[0m\n\u001b[0m\u001b[1;32m      2\u001b[0m \u001b[0mtrain_negative\u001b[0m \u001b[0;34m=\u001b[0m \u001b[0mtrain_dataset\u001b[0m\u001b[0;34m[\u001b[0m\u001b[0mtrain_dataset\u001b[0m\u001b[0;34m[\u001b[0m\u001b[0;34m'Sentiment'\u001b[0m\u001b[0;34m]\u001b[0m \u001b[0;34m==\u001b[0m\u001b[0;36m0\u001b[0m\u001b[0;34m]\u001b[0m\u001b[0;34m\u001b[0m\u001b[0;34m\u001b[0m\u001b[0m\n\u001b[1;32m      3\u001b[0m \u001b[0mprint\u001b[0m\u001b[0;34m(\u001b[0m\u001b[0;34m\"Reviews 'Positive' in Train Dataset:\\n\"\u001b[0m\u001b[0;34m)\u001b[0m\u001b[0;34m\u001b[0m\u001b[0;34m\u001b[0m\u001b[0m\n\u001b[1;32m      4\u001b[0m \u001b[0mtrain_positive\u001b[0m\u001b[0;34m.\u001b[0m\u001b[0mindex\u001b[0m\u001b[0;34m.\u001b[0m\u001b[0mnames\u001b[0m \u001b[0;34m=\u001b[0m \u001b[0;34m[\u001b[0m\u001b[0;34m'index'\u001b[0m\u001b[0;34m]\u001b[0m\u001b[0;34m\u001b[0m\u001b[0;34m\u001b[0m\u001b[0m\n\u001b[1;32m      5\u001b[0m \u001b[0mtrain_positive\u001b[0m\u001b[0;34m.\u001b[0m\u001b[0mcolumns\u001b[0m\u001b[0;34m.\u001b[0m\u001b[0mname\u001b[0m \u001b[0;34m=\u001b[0m \u001b[0mtrain_positive\u001b[0m\u001b[0;34m.\u001b[0m\u001b[0mindex\u001b[0m\u001b[0;34m.\u001b[0m\u001b[0mname\u001b[0m\u001b[0;34m\u001b[0m\u001b[0;34m\u001b[0m\u001b[0m\n",
            "\u001b[0;32m/usr/local/lib/python3.6/dist-packages/pandas/core/frame.py\u001b[0m in \u001b[0;36m__getitem__\u001b[0;34m(self, key)\u001b[0m\n\u001b[1;32m   2925\u001b[0m             \u001b[0;32mif\u001b[0m \u001b[0mself\u001b[0m\u001b[0;34m.\u001b[0m\u001b[0mcolumns\u001b[0m\u001b[0;34m.\u001b[0m\u001b[0mnlevels\u001b[0m \u001b[0;34m>\u001b[0m \u001b[0;36m1\u001b[0m\u001b[0;34m:\u001b[0m\u001b[0;34m\u001b[0m\u001b[0;34m\u001b[0m\u001b[0m\n\u001b[1;32m   2926\u001b[0m                 \u001b[0;32mreturn\u001b[0m \u001b[0mself\u001b[0m\u001b[0;34m.\u001b[0m\u001b[0m_getitem_multilevel\u001b[0m\u001b[0;34m(\u001b[0m\u001b[0mkey\u001b[0m\u001b[0;34m)\u001b[0m\u001b[0;34m\u001b[0m\u001b[0;34m\u001b[0m\u001b[0m\n\u001b[0;32m-> 2927\u001b[0;31m             \u001b[0mindexer\u001b[0m \u001b[0;34m=\u001b[0m \u001b[0mself\u001b[0m\u001b[0;34m.\u001b[0m\u001b[0mcolumns\u001b[0m\u001b[0;34m.\u001b[0m\u001b[0mget_loc\u001b[0m\u001b[0;34m(\u001b[0m\u001b[0mkey\u001b[0m\u001b[0;34m)\u001b[0m\u001b[0;34m\u001b[0m\u001b[0;34m\u001b[0m\u001b[0m\n\u001b[0m\u001b[1;32m   2928\u001b[0m             \u001b[0;32mif\u001b[0m \u001b[0mis_integer\u001b[0m\u001b[0;34m(\u001b[0m\u001b[0mindexer\u001b[0m\u001b[0;34m)\u001b[0m\u001b[0;34m:\u001b[0m\u001b[0;34m\u001b[0m\u001b[0;34m\u001b[0m\u001b[0m\n\u001b[1;32m   2929\u001b[0m                 \u001b[0mindexer\u001b[0m \u001b[0;34m=\u001b[0m \u001b[0;34m[\u001b[0m\u001b[0mindexer\u001b[0m\u001b[0;34m]\u001b[0m\u001b[0;34m\u001b[0m\u001b[0;34m\u001b[0m\u001b[0m\n",
            "\u001b[0;32m/usr/local/lib/python3.6/dist-packages/pandas/core/indexes/base.py\u001b[0m in \u001b[0;36mget_loc\u001b[0;34m(self, key, method, tolerance)\u001b[0m\n\u001b[1;32m   2657\u001b[0m                 \u001b[0;32mreturn\u001b[0m \u001b[0mself\u001b[0m\u001b[0;34m.\u001b[0m\u001b[0m_engine\u001b[0m\u001b[0;34m.\u001b[0m\u001b[0mget_loc\u001b[0m\u001b[0;34m(\u001b[0m\u001b[0mkey\u001b[0m\u001b[0;34m)\u001b[0m\u001b[0;34m\u001b[0m\u001b[0;34m\u001b[0m\u001b[0m\n\u001b[1;32m   2658\u001b[0m             \u001b[0;32mexcept\u001b[0m \u001b[0mKeyError\u001b[0m\u001b[0;34m:\u001b[0m\u001b[0;34m\u001b[0m\u001b[0;34m\u001b[0m\u001b[0m\n\u001b[0;32m-> 2659\u001b[0;31m                 \u001b[0;32mreturn\u001b[0m \u001b[0mself\u001b[0m\u001b[0;34m.\u001b[0m\u001b[0m_engine\u001b[0m\u001b[0;34m.\u001b[0m\u001b[0mget_loc\u001b[0m\u001b[0;34m(\u001b[0m\u001b[0mself\u001b[0m\u001b[0;34m.\u001b[0m\u001b[0m_maybe_cast_indexer\u001b[0m\u001b[0;34m(\u001b[0m\u001b[0mkey\u001b[0m\u001b[0;34m)\u001b[0m\u001b[0;34m)\u001b[0m\u001b[0;34m\u001b[0m\u001b[0;34m\u001b[0m\u001b[0m\n\u001b[0m\u001b[1;32m   2660\u001b[0m         \u001b[0mindexer\u001b[0m \u001b[0;34m=\u001b[0m \u001b[0mself\u001b[0m\u001b[0;34m.\u001b[0m\u001b[0mget_indexer\u001b[0m\u001b[0;34m(\u001b[0m\u001b[0;34m[\u001b[0m\u001b[0mkey\u001b[0m\u001b[0;34m]\u001b[0m\u001b[0;34m,\u001b[0m \u001b[0mmethod\u001b[0m\u001b[0;34m=\u001b[0m\u001b[0mmethod\u001b[0m\u001b[0;34m,\u001b[0m \u001b[0mtolerance\u001b[0m\u001b[0;34m=\u001b[0m\u001b[0mtolerance\u001b[0m\u001b[0;34m)\u001b[0m\u001b[0;34m\u001b[0m\u001b[0;34m\u001b[0m\u001b[0m\n\u001b[1;32m   2661\u001b[0m         \u001b[0;32mif\u001b[0m \u001b[0mindexer\u001b[0m\u001b[0;34m.\u001b[0m\u001b[0mndim\u001b[0m \u001b[0;34m>\u001b[0m \u001b[0;36m1\u001b[0m \u001b[0;32mor\u001b[0m \u001b[0mindexer\u001b[0m\u001b[0;34m.\u001b[0m\u001b[0msize\u001b[0m \u001b[0;34m>\u001b[0m \u001b[0;36m1\u001b[0m\u001b[0;34m:\u001b[0m\u001b[0;34m\u001b[0m\u001b[0;34m\u001b[0m\u001b[0m\n",
            "\u001b[0;32mpandas/_libs/index.pyx\u001b[0m in \u001b[0;36mpandas._libs.index.IndexEngine.get_loc\u001b[0;34m()\u001b[0m\n",
            "\u001b[0;32mpandas/_libs/index.pyx\u001b[0m in \u001b[0;36mpandas._libs.index.IndexEngine.get_loc\u001b[0;34m()\u001b[0m\n",
            "\u001b[0;32mpandas/_libs/hashtable_class_helper.pxi\u001b[0m in \u001b[0;36mpandas._libs.hashtable.PyObjectHashTable.get_item\u001b[0;34m()\u001b[0m\n",
            "\u001b[0;32mpandas/_libs/hashtable_class_helper.pxi\u001b[0m in \u001b[0;36mpandas._libs.hashtable.PyObjectHashTable.get_item\u001b[0;34m()\u001b[0m\n",
            "\u001b[0;31mKeyError\u001b[0m: 'Sentiment'"
          ]
        }
      ]
    },
    {
      "cell_type": "code",
      "metadata": {
        "id": "rNOtjYYGnAMt",
        "colab": {
          "base_uri": "https://localhost:8080/",
          "height": 108
        },
        "outputId": "261d5698-1749-4c7c-d9a1-7c49ebe5b75d"
      },
      "source": [
        "test_positive = test_dataset[test_dataset['Sentiment'] ==1]\n",
        "test_negative = test_dataset[test_dataset['Sentiment'] ==0]\n",
        "print(\"Reviews 'Positive' in Test Dataset:\\n\")\n",
        "test_positive.index.names = ['index']\n",
        "test_positive.columns.name = test_positive.index.name\n",
        "test_positive.index.name = None\n",
        "print(test_positive)"
      ],
      "execution_count": null,
      "outputs": [
        {
          "output_type": "stream",
          "text": [
            "Reviews 'Positive' in Test Dataset:\n",
            "\n",
            "Empty DataFrame\n",
            "Columns: [Sentiment, Phrase]\n",
            "Index: []\n"
          ],
          "name": "stdout"
        }
      ]
    },
    {
      "cell_type": "code",
      "metadata": {
        "id": "0sHES7uFnAM8",
        "colab": {
          "base_uri": "https://localhost:8080/",
          "height": 108
        },
        "outputId": "2ec6362b-c444-4360-a896-52c605c6e9ec"
      },
      "source": [
        "print(\"Reviews 'Negative' in Test Dataset:\\n\")\n",
        "test_negative.index.names = ['index']\n",
        "test_negative.columns.name = test_negative.index.name\n",
        "test_negative.index.name = None\n",
        "print(test_negative)"
      ],
      "execution_count": null,
      "outputs": [
        {
          "output_type": "stream",
          "text": [
            "Reviews 'Negative' in Test Dataset:\n",
            "\n",
            "Empty DataFrame\n",
            "Columns: [Sentiment, Phrase]\n",
            "Index: []\n"
          ],
          "name": "stdout"
        }
      ]
    },
    {
      "cell_type": "code",
      "metadata": {
        "id": "r1vrnyh1nANK",
        "colab": {
          "base_uri": "https://localhost:8080/",
          "height": 207
        },
        "outputId": "97633144-5280-4f1f-d7be-78aede82a488"
      },
      "source": [
        "train_positive_words = pd.Series(''.join(train_positive['Phrase'].astype(str)).lower().split(\" \")).value_counts()\n",
        "\n",
        "train_negative_words = pd.Series(''.join(train_negative['Phrase'].astype(str)).lower().split(\" \")).value_counts()"
      ],
      "execution_count": null,
      "outputs": [
        {
          "output_type": "error",
          "ename": "NameError",
          "evalue": "ignored",
          "traceback": [
            "\u001b[0;31m---------------------------------------------------------------------------\u001b[0m",
            "\u001b[0;31mNameError\u001b[0m                                 Traceback (most recent call last)",
            "\u001b[0;32m<ipython-input-37-2efe910fe3c0>\u001b[0m in \u001b[0;36m<module>\u001b[0;34m()\u001b[0m\n\u001b[0;32m----> 1\u001b[0;31m \u001b[0mtrain_positive_words\u001b[0m \u001b[0;34m=\u001b[0m \u001b[0mpd\u001b[0m\u001b[0;34m.\u001b[0m\u001b[0mSeries\u001b[0m\u001b[0;34m(\u001b[0m\u001b[0;34m''\u001b[0m\u001b[0;34m.\u001b[0m\u001b[0mjoin\u001b[0m\u001b[0;34m(\u001b[0m\u001b[0mtrain_positive\u001b[0m\u001b[0;34m[\u001b[0m\u001b[0;34m'Phrase'\u001b[0m\u001b[0;34m]\u001b[0m\u001b[0;34m.\u001b[0m\u001b[0mastype\u001b[0m\u001b[0;34m(\u001b[0m\u001b[0mstr\u001b[0m\u001b[0;34m)\u001b[0m\u001b[0;34m)\u001b[0m\u001b[0;34m.\u001b[0m\u001b[0mlower\u001b[0m\u001b[0;34m(\u001b[0m\u001b[0;34m)\u001b[0m\u001b[0;34m.\u001b[0m\u001b[0msplit\u001b[0m\u001b[0;34m(\u001b[0m\u001b[0;34m\" \"\u001b[0m\u001b[0;34m)\u001b[0m\u001b[0;34m)\u001b[0m\u001b[0;34m.\u001b[0m\u001b[0mvalue_counts\u001b[0m\u001b[0;34m(\u001b[0m\u001b[0;34m)\u001b[0m\u001b[0;34m\u001b[0m\u001b[0;34m\u001b[0m\u001b[0m\n\u001b[0m\u001b[1;32m      2\u001b[0m \u001b[0;34m\u001b[0m\u001b[0m\n\u001b[1;32m      3\u001b[0m \u001b[0mtrain_negative_words\u001b[0m \u001b[0;34m=\u001b[0m \u001b[0mpd\u001b[0m\u001b[0;34m.\u001b[0m\u001b[0mSeries\u001b[0m\u001b[0;34m(\u001b[0m\u001b[0;34m''\u001b[0m\u001b[0;34m.\u001b[0m\u001b[0mjoin\u001b[0m\u001b[0;34m(\u001b[0m\u001b[0mtrain_negative\u001b[0m\u001b[0;34m[\u001b[0m\u001b[0;34m'Phrase'\u001b[0m\u001b[0;34m]\u001b[0m\u001b[0;34m.\u001b[0m\u001b[0mastype\u001b[0m\u001b[0;34m(\u001b[0m\u001b[0mstr\u001b[0m\u001b[0;34m)\u001b[0m\u001b[0;34m)\u001b[0m\u001b[0;34m.\u001b[0m\u001b[0mlower\u001b[0m\u001b[0;34m(\u001b[0m\u001b[0;34m)\u001b[0m\u001b[0;34m.\u001b[0m\u001b[0msplit\u001b[0m\u001b[0;34m(\u001b[0m\u001b[0;34m\" \"\u001b[0m\u001b[0;34m)\u001b[0m\u001b[0;34m)\u001b[0m\u001b[0;34m.\u001b[0m\u001b[0mvalue_counts\u001b[0m\u001b[0;34m(\u001b[0m\u001b[0;34m)\u001b[0m\u001b[0;34m\u001b[0m\u001b[0;34m\u001b[0m\u001b[0m\n",
            "\u001b[0;31mNameError\u001b[0m: name 'train_positive' is not defined"
          ]
        }
      ]
    },
    {
      "cell_type": "code",
      "metadata": {
        "id": "nSdDVgrBnANP",
        "colab": {
          "base_uri": "https://localhost:8080/",
          "height": 335
        },
        "outputId": "fde52dda-2b15-4c01-b50c-b8ae61d8dab8"
      },
      "source": [
        "print(\"\\n\\n\\nWords used 'Positive' in train data:\\n\")\n",
        "print(\"Words Count\\n\")\n",
        "print(train_positive_words)"
      ],
      "execution_count": null,
      "outputs": [
        {
          "output_type": "stream",
          "text": [
            "\n",
            "\n",
            "\n",
            "Words used 'Positive' in train data:\n",
            "\n",
            "Words Count\n",
            "\n"
          ],
          "name": "stdout"
        },
        {
          "output_type": "error",
          "ename": "NameError",
          "evalue": "ignored",
          "traceback": [
            "\u001b[0;31m---------------------------------------------------------------------------\u001b[0m",
            "\u001b[0;31mNameError\u001b[0m                                 Traceback (most recent call last)",
            "\u001b[0;32m<ipython-input-38-59b7e108e513>\u001b[0m in \u001b[0;36m<module>\u001b[0;34m()\u001b[0m\n\u001b[1;32m      1\u001b[0m \u001b[0mprint\u001b[0m\u001b[0;34m(\u001b[0m\u001b[0;34m\"\\n\\n\\nWords used 'Positive' in train data:\\n\"\u001b[0m\u001b[0;34m)\u001b[0m\u001b[0;34m\u001b[0m\u001b[0;34m\u001b[0m\u001b[0m\n\u001b[1;32m      2\u001b[0m \u001b[0mprint\u001b[0m\u001b[0;34m(\u001b[0m\u001b[0;34m\"Words Count\\n\"\u001b[0m\u001b[0;34m)\u001b[0m\u001b[0;34m\u001b[0m\u001b[0;34m\u001b[0m\u001b[0m\n\u001b[0;32m----> 3\u001b[0;31m \u001b[0mprint\u001b[0m\u001b[0;34m(\u001b[0m\u001b[0mtrain_positive_words\u001b[0m\u001b[0;34m)\u001b[0m\u001b[0;34m\u001b[0m\u001b[0;34m\u001b[0m\u001b[0m\n\u001b[0m",
            "\u001b[0;31mNameError\u001b[0m: name 'train_positive_words' is not defined"
          ]
        }
      ]
    },
    {
      "cell_type": "code",
      "metadata": {
        "id": "xiR_y3cTnANb",
        "colab": {
          "base_uri": "https://localhost:8080/",
          "height": 335
        },
        "outputId": "2a5dae88-d6a6-4764-c5ed-cfb8e513baeb"
      },
      "source": [
        "print(\"\\n\\n\\nWords used 'Negative' in train data:\\n\")\n",
        "print(\"Words Count\\n\")\n",
        "print(train_negative_words)"
      ],
      "execution_count": null,
      "outputs": [
        {
          "output_type": "stream",
          "text": [
            "\n",
            "\n",
            "\n",
            "Words used 'Negative' in train data:\n",
            "\n",
            "Words Count\n",
            "\n"
          ],
          "name": "stdout"
        },
        {
          "output_type": "error",
          "ename": "NameError",
          "evalue": "ignored",
          "traceback": [
            "\u001b[0;31m---------------------------------------------------------------------------\u001b[0m",
            "\u001b[0;31mNameError\u001b[0m                                 Traceback (most recent call last)",
            "\u001b[0;32m<ipython-input-39-dd477598fd42>\u001b[0m in \u001b[0;36m<module>\u001b[0;34m()\u001b[0m\n\u001b[1;32m      1\u001b[0m \u001b[0mprint\u001b[0m\u001b[0;34m(\u001b[0m\u001b[0;34m\"\\n\\n\\nWords used 'Negative' in train data:\\n\"\u001b[0m\u001b[0;34m)\u001b[0m\u001b[0;34m\u001b[0m\u001b[0;34m\u001b[0m\u001b[0m\n\u001b[1;32m      2\u001b[0m \u001b[0mprint\u001b[0m\u001b[0;34m(\u001b[0m\u001b[0;34m\"Words Count\\n\"\u001b[0m\u001b[0;34m)\u001b[0m\u001b[0;34m\u001b[0m\u001b[0;34m\u001b[0m\u001b[0m\n\u001b[0;32m----> 3\u001b[0;31m \u001b[0mprint\u001b[0m\u001b[0;34m(\u001b[0m\u001b[0mtrain_negative_words\u001b[0m\u001b[0;34m)\u001b[0m\u001b[0;34m\u001b[0m\u001b[0;34m\u001b[0m\u001b[0m\n\u001b[0m",
            "\u001b[0;31mNameError\u001b[0m: name 'train_negative_words' is not defined"
          ]
        }
      ]
    },
    {
      "cell_type": "code",
      "metadata": {
        "id": "4n5Cx0s4nANp"
      },
      "source": [
        "test_positive_words = pd.Series(''.join(train_positive['Phrase'].astype(str)).lower().split(\" \")).value_counts()\n",
        "\n",
        "test_negative_words = pd.Series(''.join(train_negative['Phrase'].astype(str)).lower().split(\" \")).value_counts()"
      ],
      "execution_count": null,
      "outputs": []
    },
    {
      "cell_type": "code",
      "metadata": {
        "id": "7E7-4YL0nANv",
        "colab": {
          "base_uri": "https://localhost:8080/",
          "height": 170
        },
        "outputId": "ee949517-451f-47b2-ea74-a615c00e2412"
      },
      "source": [
        "print(\"\\n\\n\\nWords used 'Positive' in test data:\\n\")\n",
        "print(\"Words Count\\n\")\n",
        "print(test_positive_words)"
      ],
      "execution_count": null,
      "outputs": [
        {
          "output_type": "stream",
          "text": [
            "\n",
            "\n",
            "\n",
            "Words used 'Positive' in test data:\n",
            "\n",
            "Words Count\n",
            "\n",
            "    1\n",
            "dtype: int64\n"
          ],
          "name": "stdout"
        }
      ]
    },
    {
      "cell_type": "code",
      "metadata": {
        "id": "jLPrgXZ0nAN8",
        "colab": {
          "base_uri": "https://localhost:8080/",
          "height": 170
        },
        "outputId": "2d909bdb-3578-4307-b244-04529fba70d2"
      },
      "source": [
        "print(\"\\n\\n\\nWords used 'Negative' in test data:\\n\")\n",
        "print(\"Words Count\\n\")\n",
        "print(test_negative_words)"
      ],
      "execution_count": null,
      "outputs": [
        {
          "output_type": "stream",
          "text": [
            "\n",
            "\n",
            "\n",
            "Words used 'Negative' in test data:\n",
            "\n",
            "Words Count\n",
            "\n",
            "    1\n",
            "dtype: int64\n"
          ],
          "name": "stdout"
        }
      ]
    },
    {
      "cell_type": "code",
      "metadata": {
        "id": "2RxQDDV1nAOH",
        "colab": {
          "base_uri": "https://localhost:8080/",
          "height": 309
        },
        "outputId": "20a1a7ec-2e4c-452b-cc49-2a9309702e22"
      },
      "source": [
        "print(\"Bar graph of words used 'Positive' in train data\\n\")\n",
        "train_positive_words.head(20).plot(kind='bar',stacked=True,colormap='RdGy')"
      ],
      "execution_count": null,
      "outputs": [
        {
          "output_type": "stream",
          "text": [
            "Bar graph of words used 'Positive' in train data\n",
            "\n"
          ],
          "name": "stdout"
        },
        {
          "output_type": "execute_result",
          "data": {
            "text/plain": [
              "<matplotlib.axes._subplots.AxesSubplot at 0x7f5b375b59b0>"
            ]
          },
          "metadata": {
            "tags": []
          },
          "execution_count": 34
        },
        {
          "output_type": "display_data",
          "data": {
            "image/png": "[encoded data removed]",
            "text/plain": [
              "<Figure size 432x288 with 1 Axes>"
            ]
          },
          "metadata": {
            "tags": []
          }
        }
      ]
    },
    {
      "cell_type": "code",
      "metadata": {
        "id": "2GbhXA6vnAOP",
        "colab": {
          "base_uri": "https://localhost:8080/",
          "height": 309
        },
        "outputId": "b964bc62-b98d-4622-882a-84139a710371"
      },
      "source": [
        "print(\"Bar graph of words used 'Negative' in train data\\n\")\n",
        "train_negative_words.head(20).plot(kind='bar',stacked=True,colormap='plasma_r')"
      ],
      "execution_count": null,
      "outputs": [
        {
          "output_type": "stream",
          "text": [
            "Bar graph of words used 'Negative' in train data\n",
            "\n"
          ],
          "name": "stdout"
        },
        {
          "output_type": "execute_result",
          "data": {
            "text/plain": [
              "<matplotlib.axes._subplots.AxesSubplot at 0x7f5b37344f98>"
            ]
          },
          "metadata": {
            "tags": []
          },
          "execution_count": 35
        },
        {
          "output_type": "display_data",
          "data": {
            "image/png": "[encoded data removed]",
            "text/plain": [
              "<Figure size 432x288 with 1 Axes>"
            ]
          },
          "metadata": {
            "tags": []
          }
        }
      ]
    },
    {
      "cell_type": "code",
      "metadata": {
        "id": "FG1IvppOnAOc",
        "colab": {
          "base_uri": "https://localhost:8080/",
          "height": 309
        },
        "outputId": "c9516db5-bb73-453e-9a6a-045e56622936"
      },
      "source": [
        "print(\"Bar graph of words used 'Positive' in test data\\n\")\n",
        "test_positive_words.head(20).plot(kind='bar',stacked=True,colormap='RdGy')"
      ],
      "execution_count": null,
      "outputs": [
        {
          "output_type": "stream",
          "text": [
            "Bar graph of words used 'Positive' in test data\n",
            "\n"
          ],
          "name": "stdout"
        },
        {
          "output_type": "execute_result",
          "data": {
            "text/plain": [
              "<matplotlib.axes._subplots.AxesSubplot at 0x7f5b34b32e80>"
            ]
          },
          "metadata": {
            "tags": []
          },
          "execution_count": 36
        },
        {
          "output_type": "display_data",
          "data": {
            "image/png": "[encoded data removed]",
            "text/plain": [
              "<Figure size 432x288 with 1 Axes>"
            ]
          },
          "metadata": {
            "tags": []
          }
        }
      ]
    },
    {
      "cell_type": "code",
      "metadata": {
        "id": "bYe69E-lnAOr",
        "colab": {
          "base_uri": "https://localhost:8080/",
          "height": 309
        },
        "outputId": "c1c03254-eb27-46a1-cb62-85f83ff35013"
      },
      "source": [
        "print(\"Bar graph of words used 'Negative' in test data\\n\")\n",
        "test_negative_words.head(20).plot(kind='bar',stacked=True,colormap='plasma_r')"
      ],
      "execution_count": null,
      "outputs": [
        {
          "output_type": "stream",
          "text": [
            "Bar graph of words used 'Negative' in test data\n",
            "\n"
          ],
          "name": "stdout"
        },
        {
          "output_type": "execute_result",
          "data": {
            "text/plain": [
              "<matplotlib.axes._subplots.AxesSubplot at 0x7f5b34a9a048>"
            ]
          },
          "metadata": {
            "tags": []
          },
          "execution_count": 37
        },
        {
          "output_type": "display_data",
          "data": {
            "image/png": "[encoded data removed]",
            "text/plain": [
              "<Figure size 432x288 with 1 Axes>"
            ]
          },
          "metadata": {
            "tags": []
          }
        }
      ]
    },
    {
      "cell_type": "markdown",
      "metadata": {
        "id": "wMw5-nJxnAOy"
      },
      "source": [
        "### Pre-Process Data"
      ]
    },
    {
      "cell_type": "code",
      "metadata": {
        "id": "Ml9ZdWJynAO6"
      },
      "source": [
        "train_dataset=train_dataset.fillna(' ')\n",
        "test_dataset=test_dataset.fillna(' ')"
      ],
      "execution_count": null,
      "outputs": []
    },
    {
      "cell_type": "code",
      "metadata": {
        "id": "GVVkzcUTnAPA",
        "colab": {
          "base_uri": "https://localhost:8080/",
          "height": 1139
        },
        "outputId": "d573b316-2898-44f8-cefc-38cee1a72c10"
      },
      "source": [
        "print(\"Train dataset before pre-processing:\\n\")\n",
        "train_dataset.index.names=['index']\n",
        "train_dataset.columns.name=train_dataset.index.name\n",
        "train_dataset.index.name=None\n",
        "print(train_dataset)"
      ],
      "execution_count": null,
      "outputs": [
        {
          "output_type": "stream",
          "text": [
            "Train dataset before pre-processing:\n",
            "\n",
            "index Sentiment                                             Phrase\n",
            "0      positive   Useful for remodels: I recently remodeled my ...\n",
            "1      positive   decent get what u pay for: I got this set for...\n",
            "2      positive   Rock solid: Perfect solution - stable and acc...\n",
            "3      positive   Fun, humorous, and touching!: I highly recomm...\n",
            "4      positive   Horror that isn't for the faint-hearted: Of t...\n",
            "5      positive   master and margarita fully filmed: after read...\n",
            "6      positive   Love these pens: I started writing with these...\n",
            "7      negative   Bill: liar, draft dodger, amoral, our Prez .....\n",
            "8      negative   not even close...: I was very let down by thi...\n",
            "9      positive   nice little camera: easy to carry, easy to sh...\n",
            "10     positive   Where is EUCLID?: I know little about the per...\n",
            "11     negative   Better to Stay Medievalist than Becoming Bad ...\n",
            "12     positive   Great guitar for the price: I bought the S35 ...\n",
            "13     positive   Great deal with prime membership: I was looki...\n",
            "14     negative   Don't buy: I got this Guitar as a gift, I don...\n",
            "15     positive   Great Guitar!: Bought this for my husband for...\n",
            "16     positive   This is a good guitar.: This is a nice guitar...\n",
            "17     negative   headset wireless: excellent headset... but th...\n",
            "18     negative   A sharp drop off from the first novel . . .: ...\n",
            "19     negative   Finger pincher!: This olive pitter pinches yo...\n",
            "20     positive   I can't believe it's only available from 3rd ...\n",
            "21     negative   disappointed: I had a similar product that wo...\n",
            "22     positive   One for work and home: In my opinion there ar...\n",
            "23     positive   This is great electrical tape: This is an exc...\n",
            "24     positive   Another Happy Customer: After taking a class ...\n",
            "25     negative   Staedtler(R) Multi-4(TM) Multipurpose Writing...\n",
            "26     positive   A boy goes to a site on the net and finds a g...\n",
            "27     positive   Dress for Diana - a review: Book arrived, via...\n",
            "28     negative   What was the SS Really All About?: Having jus...\n",
            "29     positive   Another Excellent Thermaltake PSU!: I bought ...\n",
            "...         ...                                                ...\n",
            "4969   negative   Just one word...ugly: Really ugly mp3 player....\n",
            "4970   positive   Excellent Player...: I bought this mp3 player...\n",
            "4971   negative   Feels and sounds cheap: Maybe it's me but I h...\n",
            "4972   negative   Does not fit all: I had purchased one of thes...\n",
            "4973   positive   With This Kiss: This was a great read. The lo...\n",
            "4974   negative   Could of been wonderful: The heroine desperat...\n",
            "4975   positive   Fresh and Rewarding: If you've read any of th...\n",
            "4976   negative   laundry faucet: Nice cast faucet, mounting br...\n",
            "4977   positive   most of it still sounds great: XL-1 experimen...\n",
            "4978   positive   Heartfelt personalities in these dogs: What a...\n",
            "4979   positive   Excellent!: I was introduced to this author t...\n",
            "4980   positive   The start of it all: This was the book that s...\n",
            "4981   positive   Well Done: \"Rules of Prey\" provides a perfect...\n",
            "4982   positive   Great detective story!: The \"Prey\" series is ...\n",
            "4983   negative   Nice toothbrush, poor battery life: I don't h...\n",
            "4984   positive   A different setting for the usual adventure: ...\n",
            "4985   positive   nice: really nice and you can not beat the pr...\n",
            "4986   negative   New Formula Doesn't Work as Well: The old Gra...\n",
            "4987   negative   Ants are laughing at this.: I bought this for...\n",
            "4988   negative   Does not work anymore!: It used to work great...\n",
            "4989   positive   hopefully they're gone for good.: A week ago ...\n",
            "4990   negative   Did not work for me: I placed it on ant trail...\n",
            "4991   negative   WORTHLESS: Whether stakes, bait traps, gel- G...\n",
            "4992   negative   This may be a recording you either love or ha...\n",
            "4993   positive   This is a great game: I had this game via Rap...\n",
            "4994   negative   JUNK! DON'T BUY: THIS IS NOT MY FIRST ENCLOSU...\n",
            "4995   negative   item did not work.: item did not work. i trie...\n",
            "4996   negative   hard drive is not secured: This product works...\n",
            "4997   negative   Dead after a month -- always spins when left ...\n",
            "4998   negative   It works, but only after I glued it back toge...\n",
            "\n",
            "[4999 rows x 2 columns]\n"
          ],
          "name": "stdout"
        }
      ]
    },
    {
      "cell_type": "code",
      "metadata": {
        "id": "7fcrZH2TnAPG",
        "colab": {
          "base_uri": "https://localhost:8080/",
          "height": 1139
        },
        "outputId": "69cacd6b-7417-49fb-9228-c64abf0ba867"
      },
      "source": [
        "print(\"Test dataset before pre-processing:\\n\")\n",
        "test_dataset.index.names=['index']\n",
        "test_dataset.columns.name=test_dataset.index.name\n",
        "test_dataset.index.name=None\n",
        "print(test_dataset)"
      ],
      "execution_count": null,
      "outputs": [
        {
          "output_type": "stream",
          "text": [
            "Test dataset before pre-processing:\n",
            "\n",
            "index Sentiment                                             Phrase\n",
            "0      negative   Throwing away dollars: The first one I receiv...\n",
            "1      negative   Charging only (will not sync): Be forewarned,...\n",
            "2      negative   Not a real apple cable: This isn't a real app...\n",
            "3      negative   Unreliable Merchant: Ordered this item. My ca...\n",
            "4      negative   Poor: I bought 3 of these. I thought I will j...\n",
            "5      negative   Doesn't charge iPhone: It doesn't charge my i...\n",
            "6      negative   The cables do not work well: The cables do no...\n",
            "7      negative   NOT the real deal: Contrary to what is advert...\n",
            "8      negative   This is not the product shown in the picture....\n",
            "9      negative   Buyer Beware - Not as advertised: This cable ...\n",
            "10     negative   HORRIBLE!: I bought this because my old cord ...\n",
            "11     negative   Nice Connector....but....: This is a nice con...\n",
            "12     positive   Worth the money: Since im always loosing my c...\n",
            "13     negative   WORKS WITH ELECTRICAL OUTLET: THIS CABLE ONLY...\n",
            "14     negative   DO NOT BUY THIS: This is a waste of money for...\n",
            "15     positive   Good Product, Extremely Slow Delivery: The it...\n",
            "16     negative   Product is worthless: I bought this cable and...\n",
            "17     positive   USB connector cables for iPhone: This product...\n",
            "18     negative   did not work: I am very unsatisfied with this...\n",
            "19     negative   Dock to USB 2.0 cable for ipod: I bought this...\n",
            "20     negative   cheap and not worth 2 dollars: The cable disc...\n",
            "21     negative   Broken, bad, no: This broke with light usage ...\n",
            "22     positive   great value: The cord works great and the pri...\n",
            "23     positive   Good but not great: I enjoyed watching this, ...\n",
            "24     positive   SUPERMAN/BATMAN: PUBLIC ENEMIES: This was a g...\n",
            "25     positive   Perfect molds: My wife and I love to work aro...\n",
            "26     negative   complete lack of logic: I could barely finish...\n",
            "27     positive   WONDERFUL PRODUCT GREAT SERVICE: these are th...\n",
            "28     negative   A disappointment - both writing and from a te...\n",
            "29     positive   The free-be bin: I honestly picked this book ...\n",
            "...         ...                                                ...\n",
            "1469   positive   She ran me ragged and I loved it!: I have 6 l...\n",
            "1470   positive   good cd: let me say first of all this isnt th...\n",
            "1471   negative   5 Stars should be for All Time Great Albums: ...\n",
            "1472   negative   Sinking lower.: It seems that every time Subl...\n",
            "1473   positive   GREATEST ALBUM EVER MADE!!!!: It is very rare...\n",
            "1474   positive   I love Sublime!: On this album sublime really...\n",
            "1475   positive   Sublime is one of the best bands, this is as ...\n",
            "1476   positive   the dopest band in the world puts out the dop...\n",
            "1477   positive   soulful and kewl: this is a really, really go...\n",
            "1478   positive   One of the best games i ever played: This is ...\n",
            "1479   negative   Flimsy: I got this \"universal case\" but it's ...\n",
            "1480   negative   Not happy: I received two sewing machine carr...\n",
            "1481   positive   The sewing machine case: The Carrying Case ca...\n",
            "1482   negative   yuck: This case is ugly and very cheap lookin...\n",
            "1483   positive   cr: The item shipped intact. Didn't need it s...\n",
            "1484   negative   Cheaply Made: I was surprised about the quali...\n",
            "1485   negative   Cheap and Flimsy: I am very disappointed in t...\n",
            "1486   negative   Way Too Big for Standard Portable Sewing Mach...\n",
            "1487   negative   First Impression Buyer Beware: Tried to insta...\n",
            "1488   negative   this ozonated olive oil is not so good: Ozona...\n",
            "1489   negative   Not sure if it works, and the smell is absolu...\n",
            "1490   positive   Singstar microphones not compatible: The game...\n",
            "1491   positive   Family Night: Thanks for creating something t...\n",
            "1492   negative   Very poor publication: Unless you like \"Batma...\n",
            "1493   positive   Nice and not so nice: These are two CDs and t...\n",
            "1494   negative   misleading: I feel I paid too much for this b...\n",
            "1495   negative   horrid, horrid book: Perhaps the worst book I...\n",
            "1496   negative   Pale imitation of the original series: Everyo...\n",
            "1497   negative   holey money belt! flimsy fabric tears too eas...\n",
            "1498   positive   Perfect!: This is perfect to wear when you wa...\n",
            "\n",
            "[1499 rows x 2 columns]\n"
          ],
          "name": "stdout"
        }
      ]
    },
    {
      "cell_type": "code",
      "metadata": {
        "id": "ymHDtPvwnAPQ"
      },
      "source": [
        "def remove_punctuation(phrase):\n",
        "    phrase = re.sub(r'[^\\x00-x7f]',r' ',phrase)\n",
        "    return re.sub(\"[\"+string.punctuation+\"]\",\" \",phrase)"
      ],
      "execution_count": null,
      "outputs": []
    },
    {
      "cell_type": "code",
      "metadata": {
        "id": "Qi0NRqMJnAPU"
      },
      "source": [
        "def normalize_text(phrase):\n",
        "   phrase=phrase.strip()\n",
        "   phrase=phrase.lower() \n",
        "   phrase=re.sub('[\\s0-9]',' ',phrase)\n",
        "   return phrase"
      ],
      "execution_count": null,
      "outputs": []
    },
    {
      "cell_type": "code",
      "metadata": {
        "id": "hHvAEswpnAPe"
      },
      "source": [
        "train_dataset['Phrase'] = train_dataset['Phrase'].map(remove_punctuation)\n",
        "\n",
        "train_dataset['Phrase'] = train_dataset['Phrase'].map(normalize_text)\n",
        "\n",
        "test_dataset['Phrase'] = test_dataset['Phrase'].map(remove_punctuation)\n",
        "\n",
        "test_dataset['Phrase'] = test_dataset['Phrase'].map(normalize_text)"
      ],
      "execution_count": null,
      "outputs": []
    },
    {
      "cell_type": "code",
      "metadata": {
        "id": "j1uw-FKVnAPm",
        "colab": {
          "base_uri": "https://localhost:8080/",
          "height": 1190
        },
        "outputId": "afbcddd0-f148-4419-ca06-ece8c2bdaa65"
      },
      "source": [
        "print(\"\\n\\n\\nTrain dataset after pre-processing:\\n\")\n",
        "train_dataset.index.names=['index']\n",
        "train_dataset.columns.name=train_dataset.index.name\n",
        "train_dataset.index.name=None\n",
        "print(train_dataset)"
      ],
      "execution_count": null,
      "outputs": [
        {
          "output_type": "stream",
          "text": [
            "\n",
            "\n",
            "\n",
            "Train dataset after pre-processing:\n",
            "\n",
            "index Sentiment                                             Phrase\n",
            "0      positive  useful for remodels  i recentl  remodeled m  h...\n",
            "1      positive  decent get what u pa  for  i got this set for ...\n",
            "2      positive  rock solid  perfect solution   stable and acce...\n",
            "3      positive  fun  humorous  and touching   i highl  recomme...\n",
            "4      positive  horror that isn t for the faint hearted  of th...\n",
            "5      positive  master and margarita full  filmed  after readi...\n",
            "6      positive  love these pens  i started writing with these ...\n",
            "7      negative  bill  liar  draft dodger  amoral  our pre     ...\n",
            "8      negative  not even close     i was ver  let down b  this...\n",
            "9      positive  nice little camera  eas  to carr   eas  to sho...\n",
            "10     positive  where is euclid   i know little about the peri...\n",
            "11     negative  better to sta  medievalist than becoming bad c...\n",
            "12     positive  great guitar for the price  i bought the s   f...\n",
            "13     positive  great deal with prime membership  i was lookin...\n",
            "14     negative  don t bu   i got this guitar as a gift  i don ...\n",
            "15     positive  great guitar   bought this for m  husband for ...\n",
            "16     positive  this is a good guitar   this is a nice guitar ...\n",
            "17     negative  headset wireless  excellent headset    but the...\n",
            "18     negative  a sharp drop off from the first novel        t...\n",
            "19     negative  finger pincher   this olive pitter pinches  ou...\n",
            "20     positive  i can t believe it s onl  available from  rd p...\n",
            "21     negative  disappointed  i had a similar product that wor...\n",
            "22     positive  one for work and home  in m  opinion there are...\n",
            "23     positive  this is great electrical tape  this is an exce...\n",
            "24     positive  another happ  customer  after taking a class a...\n",
            "25     negative  staedtler r  multi   tm  multipurpose writing ...\n",
            "26     positive  a bo  goes to a site on the net and finds a gr...\n",
            "27     positive  dress for diana   a review  book arrived  via ...\n",
            "28     negative  what was the ss reall  all about   having just...\n",
            "29     positive  another excellent thermaltake psu   i bought t...\n",
            "...         ...                                                ...\n",
            "4969   negative  just one word   ugl   reall  ugl  mp  pla er  ...\n",
            "4970   positive  excellent pla er     i bought this mp  pla er ...\n",
            "4971   negative  feels and sounds cheap  ma be it s me but i ha...\n",
            "4972   negative  does not fit all  i had purchased one of these...\n",
            "4973   positive  with this kiss  this was a great read  the lov...\n",
            "4974   negative  could of been wonderful  the heroine desperate...\n",
            "4975   positive  fresh and rewarding  if  ou ve read an  of the...\n",
            "4976   negative  laundr  faucet  nice cast faucet  mounting bra...\n",
            "4977   positive  most of it still sounds great  xl   experiment...\n",
            "4978   positive  heartfelt personalities in these dogs  what a ...\n",
            "4979   positive  excellent   i was introduced to this author th...\n",
            "4980   positive  the start of it all  this was the book that st...\n",
            "4981   positive  well done   rules of pre   provides a perfect ...\n",
            "4982   positive  great detective stor    the  pre   series is o...\n",
            "4983   negative  nice toothbrush  poor batter  life  i don t ha...\n",
            "4984   positive  a different setting for the usual adventure  t...\n",
            "4985   positive  nice  reall  nice and  ou can not beat the pri...\n",
            "4986   negative  new formula doesn t work as well  the old gran...\n",
            "4987   negative  ants are laughing at this   i bought this for ...\n",
            "4988   negative  does not work an more   it used to work great ...\n",
            "4989   positive  hopefull  the  re gone for good   a week ago i...\n",
            "4990   negative  did not work for me  i placed it on ant trails...\n",
            "4991   negative  worthless  whether stakes  bait traps  gel  gr...\n",
            "4992   negative  this ma  be a recording  ou either love or hat...\n",
            "4993   positive  this is a great game  i had this game via raps...\n",
            "4994   negative  junk  don t buy  this is not my first enclosur...\n",
            "4995   negative  item did not work   item did not work  i tried...\n",
            "4996   negative  hard drive is not secured  this product works ...\n",
            "4997   negative  dead after a month    alwa s spins when left o...\n",
            "4998   negative  it works  but onl  after i glued it back toget...\n",
            "\n",
            "[4999 rows x 2 columns]\n"
          ],
          "name": "stdout"
        }
      ]
    },
    {
      "cell_type": "code",
      "metadata": {
        "id": "Sfm6cga1nAPv",
        "colab": {
          "base_uri": "https://localhost:8080/",
          "height": 1190
        },
        "outputId": "927ec275-227a-47e8-cbf5-3f4d681557c6"
      },
      "source": [
        "print(\"\\n\\n\\nTest dataset after pre-processing:\\n\")\n",
        "test_dataset.index.names=['index']\n",
        "test_dataset.columns.name=test_dataset.index.name\n",
        "test_dataset.index.name=None\n",
        "print(test_dataset)"
      ],
      "execution_count": null,
      "outputs": [
        {
          "output_type": "stream",
          "text": [
            "\n",
            "\n",
            "\n",
            "Test dataset after pre-processing:\n",
            "\n",
            "index Sentiment                                             Phrase\n",
            "0      negative  throwing awa  dollars  the first one i receive...\n",
            "1      negative  charging onl   will not s nc   be forewarned  ...\n",
            "2      negative  not a real apple cable  this isn t a real appl...\n",
            "3      negative  unreliable merchant  ordered this item  m  car...\n",
            "4      negative  poor  i bought   of these  i thought i will ju...\n",
            "5      negative  doesn t charge iphone  it doesn t charge m  ip...\n",
            "6      negative  the cables do not work well  the cables do not...\n",
            "7      negative  not the real deal  contrar  to what is adverti...\n",
            "8      negative  this is not the product shown in the picture  ...\n",
            "9      negative  bu er beware   not as advertised  this cable i...\n",
            "10     negative  horrible   i bought this because m  old cord  ...\n",
            "11     negative  nice connector    but      this is a nice conn...\n",
            "12     positive  worth the mone   since im alwa s loosing m  ch...\n",
            "13     negative  works with electrical outlet  this cable only ...\n",
            "14     negative  do not buy this  this is a waste of mone  for ...\n",
            "15     positive  good product  extremel  slow deliver   the ite...\n",
            "16     negative  product is worthless  i bought this cable and ...\n",
            "17     positive  usb connector cables for iphone  this product ...\n",
            "18     negative  did not work  i am ver  unsatisfied with this ...\n",
            "19     negative  dock to usb     cable for ipod  i bought this ...\n",
            "20     negative  cheap and not worth   dollars  the cable disco...\n",
            "21     negative  broken  bad  no  this broke with light usage i...\n",
            "22     positive  great value  the cord works great and the pric...\n",
            "23     positive  good but not great  i enjo ed watching this  b...\n",
            "24     positive  superman batman  public enemies  this was a gr...\n",
            "25     positive  perfect molds  m  wife and i love to work arou...\n",
            "26     negative  complete lack of logic  i could barel  finish ...\n",
            "27     positive  wonderful product great service  these are the...\n",
            "28     negative  a disappointment   both writing and from a tec...\n",
            "29     positive  the free be bin  i honestl  picked this book b...\n",
            "...         ...                                                ...\n",
            "1469   positive  she ran me ragged and i loved it   i have   le...\n",
            "1470   positive  good cd  let me sa  first of all this isnt tha...\n",
            "1471   negative    stars should be for all time great albums   ...\n",
            "1472   negative  sinking lower   it seems that ever  time subli...\n",
            "1473   positive  greatest album ever made      it is ver  rare ...\n",
            "1474   positive  i love sublime   on this album sublime reall  ...\n",
            "1475   positive  sublime is one of the best bands  this is as g...\n",
            "1476   positive  the dopest band in the world puts out the dope...\n",
            "1477   positive  soulful and kewl  this is a reall   reall  goo...\n",
            "1478   positive  one of the best games i ever pla ed  this is o...\n",
            "1479   negative  flims   i got this  universal case  but it s l...\n",
            "1480   negative  not happ   i received two sewing machine carr ...\n",
            "1481   positive  the sewing machine case  the carr ing case cam...\n",
            "1482   negative  uck  this case is ugl  and ver  cheap looking ...\n",
            "1483   positive  cr  the item shipped intact  didn t need it si...\n",
            "1484   negative  cheapl  made  i was surprised about the qualit...\n",
            "1485   negative  cheap and flims   i am ver  disappointed in th...\n",
            "1486   negative  wa  too big for standard portable sewing machi...\n",
            "1487   negative  first impression bu er beware  tried to instal...\n",
            "1488   negative  this o onated olive oil is not so good  o onat...\n",
            "1489   negative  not sure if it works  and the smell is absolut...\n",
            "1490   positive  singstar microphones not compatible  the game ...\n",
            "1491   positive  famil  night  thanks for creating something th...\n",
            "1492   negative  ver  poor publication  unless  ou like  batman...\n",
            "1493   positive  nice and not so nice  these are two cds and tw...\n",
            "1494   negative  misleading  i feel i paid too much for this bo...\n",
            "1495   negative  horrid  horrid book  perhaps the worst book i ...\n",
            "1496   negative  pale imitation of the original series  ever on...\n",
            "1497   negative  hole  mone  belt  flims  fabric tears too easi...\n",
            "1498   positive  perfect   this is perfect to wear when  ou wan...\n",
            "\n",
            "[1499 rows x 2 columns]\n"
          ],
          "name": "stdout"
        }
      ]
    },
    {
      "cell_type": "markdown",
      "metadata": {
        "id": "wwKsszmonAP1"
      },
      "source": [
        "### Lable Encoding for Test/Train Data"
      ]
    },
    {
      "cell_type": "code",
      "metadata": {
        "id": "ENw5vocznAP7",
        "colab": {
          "base_uri": "https://localhost:8080/",
          "height": 34
        },
        "outputId": "1aaf9425-efa1-4b1a-9c79-221fb68f746d"
      },
      "source": [
        "labelEncoder = LabelEncoder()\n",
        "\n",
        "classes = ['positive','negative']\n",
        "\n",
        "labelEncoder.fit(classes)"
      ],
      "execution_count": null,
      "outputs": [
        {
          "output_type": "execute_result",
          "data": {
            "text/plain": [
              "LabelEncoder()"
            ]
          },
          "metadata": {
            "tags": []
          },
          "execution_count": 46
        }
      ]
    },
    {
      "cell_type": "code",
      "metadata": {
        "id": "oVdzoGG3nAQE",
        "colab": {
          "base_uri": "https://localhost:8080/",
          "height": 2210
        },
        "outputId": "3c145d0a-ea05-49da-a284-b4648c70681a"
      },
      "source": [
        "train_class_encoding = pd.DataFrame(labelEncoder.transform(train_dataset.Sentiment),columns = ['encoded_sentiment'])\n",
        "\n",
        "print(\"Train Dataset Labels Encoding:\\n\")\n",
        "label_encoding = train_dataset.assign(encoded_sentiment = train_class_encoding)\n",
        "\n",
        "print(label_encoding)"
      ],
      "execution_count": null,
      "outputs": [
        {
          "output_type": "stream",
          "text": [
            "Train Dataset Labels Encoding:\n",
            "\n",
            "index Sentiment                                             Phrase  \\\n",
            "0      positive  useful for remodels  i recentl  remodeled m  h...   \n",
            "1      positive  decent get what u pa  for  i got this set for ...   \n",
            "2      positive  rock solid  perfect solution   stable and acce...   \n",
            "3      positive  fun  humorous  and touching   i highl  recomme...   \n",
            "4      positive  horror that isn t for the faint hearted  of th...   \n",
            "5      positive  master and margarita full  filmed  after readi...   \n",
            "6      positive  love these pens  i started writing with these ...   \n",
            "7      negative  bill  liar  draft dodger  amoral  our pre     ...   \n",
            "8      negative  not even close     i was ver  let down b  this...   \n",
            "9      positive  nice little camera  eas  to carr   eas  to sho...   \n",
            "10     positive  where is euclid   i know little about the peri...   \n",
            "11     negative  better to sta  medievalist than becoming bad c...   \n",
            "12     positive  great guitar for the price  i bought the s   f...   \n",
            "13     positive  great deal with prime membership  i was lookin...   \n",
            "14     negative  don t bu   i got this guitar as a gift  i don ...   \n",
            "15     positive  great guitar   bought this for m  husband for ...   \n",
            "16     positive  this is a good guitar   this is a nice guitar ...   \n",
            "17     negative  headset wireless  excellent headset    but the...   \n",
            "18     negative  a sharp drop off from the first novel        t...   \n",
            "19     negative  finger pincher   this olive pitter pinches  ou...   \n",
            "20     positive  i can t believe it s onl  available from  rd p...   \n",
            "21     negative  disappointed  i had a similar product that wor...   \n",
            "22     positive  one for work and home  in m  opinion there are...   \n",
            "23     positive  this is great electrical tape  this is an exce...   \n",
            "24     positive  another happ  customer  after taking a class a...   \n",
            "25     negative  staedtler r  multi   tm  multipurpose writing ...   \n",
            "26     positive  a bo  goes to a site on the net and finds a gr...   \n",
            "27     positive  dress for diana   a review  book arrived  via ...   \n",
            "28     negative  what was the ss reall  all about   having just...   \n",
            "29     positive  another excellent thermaltake psu   i bought t...   \n",
            "...         ...                                                ...   \n",
            "4969   negative  just one word   ugl   reall  ugl  mp  pla er  ...   \n",
            "4970   positive  excellent pla er     i bought this mp  pla er ...   \n",
            "4971   negative  feels and sounds cheap  ma be it s me but i ha...   \n",
            "4972   negative  does not fit all  i had purchased one of these...   \n",
            "4973   positive  with this kiss  this was a great read  the lov...   \n",
            "4974   negative  could of been wonderful  the heroine desperate...   \n",
            "4975   positive  fresh and rewarding  if  ou ve read an  of the...   \n",
            "4976   negative  laundr  faucet  nice cast faucet  mounting bra...   \n",
            "4977   positive  most of it still sounds great  xl   experiment...   \n",
            "4978   positive  heartfelt personalities in these dogs  what a ...   \n",
            "4979   positive  excellent   i was introduced to this author th...   \n",
            "4980   positive  the start of it all  this was the book that st...   \n",
            "4981   positive  well done   rules of pre   provides a perfect ...   \n",
            "4982   positive  great detective stor    the  pre   series is o...   \n",
            "4983   negative  nice toothbrush  poor batter  life  i don t ha...   \n",
            "4984   positive  a different setting for the usual adventure  t...   \n",
            "4985   positive  nice  reall  nice and  ou can not beat the pri...   \n",
            "4986   negative  new formula doesn t work as well  the old gran...   \n",
            "4987   negative  ants are laughing at this   i bought this for ...   \n",
            "4988   negative  does not work an more   it used to work great ...   \n",
            "4989   positive  hopefull  the  re gone for good   a week ago i...   \n",
            "4990   negative  did not work for me  i placed it on ant trails...   \n",
            "4991   negative  worthless  whether stakes  bait traps  gel  gr...   \n",
            "4992   negative  this ma  be a recording  ou either love or hat...   \n",
            "4993   positive  this is a great game  i had this game via raps...   \n",
            "4994   negative  junk  don t buy  this is not my first enclosur...   \n",
            "4995   negative  item did not work   item did not work  i tried...   \n",
            "4996   negative  hard drive is not secured  this product works ...   \n",
            "4997   negative  dead after a month    alwa s spins when left o...   \n",
            "4998   negative  it works  but onl  after i glued it back toget...   \n",
            "\n",
            "index  encoded_sentiment  \n",
            "0                      1  \n",
            "1                      1  \n",
            "2                      1  \n",
            "3                      1  \n",
            "4                      1  \n",
            "5                      1  \n",
            "6                      1  \n",
            "7                      0  \n",
            "8                      0  \n",
            "9                      1  \n",
            "10                     1  \n",
            "11                     0  \n",
            "12                     1  \n",
            "13                     1  \n",
            "14                     0  \n",
            "15                     1  \n",
            "16                     1  \n",
            "17                     0  \n",
            "18                     0  \n",
            "19                     0  \n",
            "20                     1  \n",
            "21                     0  \n",
            "22                     1  \n",
            "23                     1  \n",
            "24                     1  \n",
            "25                     0  \n",
            "26                     1  \n",
            "27                     1  \n",
            "28                     0  \n",
            "29                     1  \n",
            "...                  ...  \n",
            "4969                   0  \n",
            "4970                   1  \n",
            "4971                   0  \n",
            "4972                   0  \n",
            "4973                   1  \n",
            "4974                   0  \n",
            "4975                   1  \n",
            "4976                   0  \n",
            "4977                   1  \n",
            "4978                   1  \n",
            "4979                   1  \n",
            "4980                   1  \n",
            "4981                   1  \n",
            "4982                   1  \n",
            "4983                   0  \n",
            "4984                   1  \n",
            "4985                   1  \n",
            "4986                   0  \n",
            "4987                   0  \n",
            "4988                   0  \n",
            "4989                   1  \n",
            "4990                   0  \n",
            "4991                   0  \n",
            "4992                   0  \n",
            "4993                   1  \n",
            "4994                   0  \n",
            "4995                   0  \n",
            "4996                   0  \n",
            "4997                   0  \n",
            "4998                   0  \n",
            "\n",
            "[4999 rows x 3 columns]\n"
          ],
          "name": "stdout"
        }
      ]
    },
    {
      "cell_type": "code",
      "metadata": {
        "id": "QVZNiHhsnAQU",
        "colab": {
          "base_uri": "https://localhost:8080/",
          "height": 2210
        },
        "outputId": "f932a512-e8e0-4848-c221-f7cbfa274ed5"
      },
      "source": [
        "test_class_encoding = pd.DataFrame(labelEncoder.transform(test_dataset.Sentiment),columns = ['encoded_sentiment'])\n",
        "\n",
        "print(\"Test Dataset Labels Encoding:\\n\")\n",
        "label_encoding = test_dataset.assign(encoded_sentiment = test_class_encoding)\n",
        "\n",
        "print(label_encoding)"
      ],
      "execution_count": null,
      "outputs": [
        {
          "output_type": "stream",
          "text": [
            "Test Dataset Labels Encoding:\n",
            "\n",
            "index Sentiment                                             Phrase  \\\n",
            "0      negative  throwing awa  dollars  the first one i receive...   \n",
            "1      negative  charging onl   will not s nc   be forewarned  ...   \n",
            "2      negative  not a real apple cable  this isn t a real appl...   \n",
            "3      negative  unreliable merchant  ordered this item  m  car...   \n",
            "4      negative  poor  i bought   of these  i thought i will ju...   \n",
            "5      negative  doesn t charge iphone  it doesn t charge m  ip...   \n",
            "6      negative  the cables do not work well  the cables do not...   \n",
            "7      negative  not the real deal  contrar  to what is adverti...   \n",
            "8      negative  this is not the product shown in the picture  ...   \n",
            "9      negative  bu er beware   not as advertised  this cable i...   \n",
            "10     negative  horrible   i bought this because m  old cord  ...   \n",
            "11     negative  nice connector    but      this is a nice conn...   \n",
            "12     positive  worth the mone   since im alwa s loosing m  ch...   \n",
            "13     negative  works with electrical outlet  this cable only ...   \n",
            "14     negative  do not buy this  this is a waste of mone  for ...   \n",
            "15     positive  good product  extremel  slow deliver   the ite...   \n",
            "16     negative  product is worthless  i bought this cable and ...   \n",
            "17     positive  usb connector cables for iphone  this product ...   \n",
            "18     negative  did not work  i am ver  unsatisfied with this ...   \n",
            "19     negative  dock to usb     cable for ipod  i bought this ...   \n",
            "20     negative  cheap and not worth   dollars  the cable disco...   \n",
            "21     negative  broken  bad  no  this broke with light usage i...   \n",
            "22     positive  great value  the cord works great and the pric...   \n",
            "23     positive  good but not great  i enjo ed watching this  b...   \n",
            "24     positive  superman batman  public enemies  this was a gr...   \n",
            "25     positive  perfect molds  m  wife and i love to work arou...   \n",
            "26     negative  complete lack of logic  i could barel  finish ...   \n",
            "27     positive  wonderful product great service  these are the...   \n",
            "28     negative  a disappointment   both writing and from a tec...   \n",
            "29     positive  the free be bin  i honestl  picked this book b...   \n",
            "...         ...                                                ...   \n",
            "1469   positive  she ran me ragged and i loved it   i have   le...   \n",
            "1470   positive  good cd  let me sa  first of all this isnt tha...   \n",
            "1471   negative    stars should be for all time great albums   ...   \n",
            "1472   negative  sinking lower   it seems that ever  time subli...   \n",
            "1473   positive  greatest album ever made      it is ver  rare ...   \n",
            "1474   positive  i love sublime   on this album sublime reall  ...   \n",
            "1475   positive  sublime is one of the best bands  this is as g...   \n",
            "1476   positive  the dopest band in the world puts out the dope...   \n",
            "1477   positive  soulful and kewl  this is a reall   reall  goo...   \n",
            "1478   positive  one of the best games i ever pla ed  this is o...   \n",
            "1479   negative  flims   i got this  universal case  but it s l...   \n",
            "1480   negative  not happ   i received two sewing machine carr ...   \n",
            "1481   positive  the sewing machine case  the carr ing case cam...   \n",
            "1482   negative  uck  this case is ugl  and ver  cheap looking ...   \n",
            "1483   positive  cr  the item shipped intact  didn t need it si...   \n",
            "1484   negative  cheapl  made  i was surprised about the qualit...   \n",
            "1485   negative  cheap and flims   i am ver  disappointed in th...   \n",
            "1486   negative  wa  too big for standard portable sewing machi...   \n",
            "1487   negative  first impression bu er beware  tried to instal...   \n",
            "1488   negative  this o onated olive oil is not so good  o onat...   \n",
            "1489   negative  not sure if it works  and the smell is absolut...   \n",
            "1490   positive  singstar microphones not compatible  the game ...   \n",
            "1491   positive  famil  night  thanks for creating something th...   \n",
            "1492   negative  ver  poor publication  unless  ou like  batman...   \n",
            "1493   positive  nice and not so nice  these are two cds and tw...   \n",
            "1494   negative  misleading  i feel i paid too much for this bo...   \n",
            "1495   negative  horrid  horrid book  perhaps the worst book i ...   \n",
            "1496   negative  pale imitation of the original series  ever on...   \n",
            "1497   negative  hole  mone  belt  flims  fabric tears too easi...   \n",
            "1498   positive  perfect   this is perfect to wear when  ou wan...   \n",
            "\n",
            "index  encoded_sentiment  \n",
            "0                      0  \n",
            "1                      0  \n",
            "2                      0  \n",
            "3                      0  \n",
            "4                      0  \n",
            "5                      0  \n",
            "6                      0  \n",
            "7                      0  \n",
            "8                      0  \n",
            "9                      0  \n",
            "10                     0  \n",
            "11                     0  \n",
            "12                     1  \n",
            "13                     0  \n",
            "14                     0  \n",
            "15                     1  \n",
            "16                     0  \n",
            "17                     1  \n",
            "18                     0  \n",
            "19                     0  \n",
            "20                     0  \n",
            "21                     0  \n",
            "22                     1  \n",
            "23                     1  \n",
            "24                     1  \n",
            "25                     1  \n",
            "26                     0  \n",
            "27                     1  \n",
            "28                     0  \n",
            "29                     1  \n",
            "...                  ...  \n",
            "1469                   1  \n",
            "1470                   1  \n",
            "1471                   0  \n",
            "1472                   0  \n",
            "1473                   1  \n",
            "1474                   1  \n",
            "1475                   1  \n",
            "1476                   1  \n",
            "1477                   1  \n",
            "1478                   1  \n",
            "1479                   0  \n",
            "1480                   0  \n",
            "1481                   1  \n",
            "1482                   0  \n",
            "1483                   1  \n",
            "1484                   0  \n",
            "1485                   0  \n",
            "1486                   0  \n",
            "1487                   0  \n",
            "1488                   0  \n",
            "1489                   0  \n",
            "1490                   1  \n",
            "1491                   1  \n",
            "1492                   0  \n",
            "1493                   1  \n",
            "1494                   0  \n",
            "1495                   0  \n",
            "1496                   0  \n",
            "1497                   0  \n",
            "1498                   1  \n",
            "\n",
            "[1499 rows x 3 columns]\n"
          ],
          "name": "stdout"
        }
      ]
    },
    {
      "cell_type": "markdown",
      "metadata": {
        "id": "E81bIMvFnAQi"
      },
      "source": [
        "### Feature Extraction - Changing Representation of Data \"from String to Vector\""
      ]
    },
    {
      "cell_type": "code",
      "metadata": {
        "id": "cn1334E-nAQj",
        "colab": {
          "base_uri": "https://localhost:8080/",
          "height": 187
        },
        "outputId": "7a267e69-1552-448c-8205-6bc9ac9088cb"
      },
      "source": [
        "vect = TfidfVectorizer(\n",
        "    strip_accents='unicode',\n",
        "    analyzer='word',\n",
        "    token_pattern=r'\\w{1,}',\n",
        "    stop_words='english',\n",
        "    ngram_range=(2,2),\n",
        "  \n",
        "    )\n",
        "\n",
        "print(\"Paramenters of TFIDF Vectorizer and its values:\\n\\n\")\n",
        "\n",
        "print(vect)"
      ],
      "execution_count": null,
      "outputs": [
        {
          "output_type": "stream",
          "text": [
            "Paramenters of TFIDF Vectorizer and its values:\n",
            "\n",
            "\n",
            "TfidfVectorizer(analyzer='word', binary=False, decode_error='strict',\n",
            "        dtype=<class 'numpy.float64'>, encoding='utf-8', input='content',\n",
            "        lowercase=True, max_df=1.0, max_features=None, min_df=1,\n",
            "        ngram_range=(2, 2), norm='l2', preprocessor=None, smooth_idf=True,\n",
            "        stop_words='english', strip_accents='unicode', sublinear_tf=False,\n",
            "        token_pattern='\\\\w{1,}', tokenizer=None, use_idf=True,\n",
            "        vocabulary=None)\n"
          ],
          "name": "stdout"
        }
      ]
    },
    {
      "cell_type": "code",
      "metadata": {
        "id": "YrhD3SEBnAQw"
      },
      "source": [
        "all_data =pd.concat([train_dataset,test_dataset])\n",
        "vect = vect.fit(all_data.Phrase)\n",
        "all_features = vect.transform(all_data.Phrase)\n",
        "test=all_features[train_dataset.shape[0]:]\n",
        "train=all_features[:train_dataset.shape[0]]\n"
      ],
      "execution_count": null,
      "outputs": []
    },
    {
      "cell_type": "code",
      "metadata": {
        "id": "ODJgF6i8nAQ2",
        "colab": {
          "base_uri": "https://localhost:8080/",
          "height": 153
        },
        "outputId": "de3c3b7b-7cd2-4fca-ec92-a0193d40f09c"
      },
      "source": [
        "print(\"\\n\\n\\nCheck shape of the Features:\\n\\n\")\n",
        "\n",
        "print(\"Train Features Shape:\",train.shape)\n",
        "\n",
        "print(\"Test Features Shape:\",test.shape)\n"
      ],
      "execution_count": null,
      "outputs": [
        {
          "output_type": "stream",
          "text": [
            "\n",
            "\n",
            "\n",
            "Check shape of the Features:\n",
            "\n",
            "\n",
            "Train Features Shape: (4999, 185207)\n",
            "Test Features Shape: (1499, 185207)\n"
          ],
          "name": "stdout"
        }
      ]
    },
    {
      "cell_type": "code",
      "metadata": {
        "id": "6RhH-ZsOnAQ_"
      },
      "source": [
        "train_features_df = pd.DataFrame(train.toarray(),columns = vect.get_feature_names())\n",
        "\n",
        "test_features_df = pd.DataFrame(test.toarray(),columns = vect.get_feature_names())\n"
      ],
      "execution_count": null,
      "outputs": []
    },
    {
      "cell_type": "code",
      "metadata": {
        "scrolled": true,
        "id": "4-N65tFvnARH",
        "colab": {
          "base_uri": "https://localhost:8080/",
          "height": 6545
        },
        "outputId": "af45d843-6eb0-46a7-ebbc-52445e05f68d"
      },
      "source": [
        "print(\"\\n\\n\\nTrain Features Before Assigning a 'Sentiment' Column:\\n\")\n",
        "train_features_df.index.names = ['index']\n",
        "train_features_df.columns.name = train_features_df.index.name\n",
        "train_features_df.index.name = None\n",
        "print(train_features_df)"
      ],
      "execution_count": null,
      "outputs": [
        {
          "output_type": "stream",
          "text": [
            "\n",
            "\n",
            "\n",
            "Train Features Before Assigning a 'Sentiment' Column:\n",
            "\n",
            "index  aa batter  aa batteries  aa makes  aaaaaaaaaaaaaaaaaaaaaaaa greeeeaaat  \\\n",
            "0            0.0           0.0       0.0                                  0.0   \n",
            "1            0.0           0.0       0.0                                  0.0   \n",
            "2            0.0           0.0       0.0                                  0.0   \n",
            "3            0.0           0.0       0.0                                  0.0   \n",
            "4            0.0           0.0       0.0                                  0.0   \n",
            "5            0.0           0.0       0.0                                  0.0   \n",
            "6            0.0           0.0       0.0                                  0.0   \n",
            "7            0.0           0.0       0.0                                  0.0   \n",
            "8            0.0           0.0       0.0                                  0.0   \n",
            "9            0.0           0.0       0.0                                  0.0   \n",
            "10           0.0           0.0       0.0                                  0.0   \n",
            "11           0.0           0.0       0.0                                  0.0   \n",
            "12           0.0           0.0       0.0                                  0.0   \n",
            "13           0.0           0.0       0.0                                  0.0   \n",
            "14           0.0           0.0       0.0                                  0.0   \n",
            "15           0.0           0.0       0.0                                  0.0   \n",
            "16           0.0           0.0       0.0                                  0.0   \n",
            "17           0.0           0.0       0.0                                  0.0   \n",
            "18           0.0           0.0       0.0                                  0.0   \n",
            "19           0.0           0.0       0.0                                  0.0   \n",
            "20           0.0           0.0       0.0                                  0.0   \n",
            "21           0.0           0.0       0.0                                  0.0   \n",
            "22           0.0           0.0       0.0                                  0.0   \n",
            "23           0.0           0.0       0.0                                  0.0   \n",
            "24           0.0           0.0       0.0                                  0.0   \n",
            "25           0.0           0.0       0.0                                  0.0   \n",
            "26           0.0           0.0       0.0                                  0.0   \n",
            "27           0.0           0.0       0.0                                  0.0   \n",
            "28           0.0           0.0       0.0                                  0.0   \n",
            "29           0.0           0.0       0.0                                  0.0   \n",
            "...          ...           ...       ...                                  ...   \n",
            "4969         0.0           0.0       0.0                                  0.0   \n",
            "4970         0.0           0.0       0.0                                  0.0   \n",
            "4971         0.0           0.0       0.0                                  0.0   \n",
            "4972         0.0           0.0       0.0                                  0.0   \n",
            "4973         0.0           0.0       0.0                                  0.0   \n",
            "4974         0.0           0.0       0.0                                  0.0   \n",
            "4975         0.0           0.0       0.0                                  0.0   \n",
            "4976         0.0           0.0       0.0                                  0.0   \n",
            "4977         0.0           0.0       0.0                                  0.0   \n",
            "4978         0.0           0.0       0.0                                  0.0   \n",
            "4979         0.0           0.0       0.0                                  0.0   \n",
            "4980         0.0           0.0       0.0                                  0.0   \n",
            "4981         0.0           0.0       0.0                                  0.0   \n",
            "4982         0.0           0.0       0.0                                  0.0   \n",
            "4983         0.0           0.0       0.0                                  0.0   \n",
            "4984         0.0           0.0       0.0                                  0.0   \n",
            "4985         0.0           0.0       0.0                                  0.0   \n",
            "4986         0.0           0.0       0.0                                  0.0   \n",
            "4987         0.0           0.0       0.0                                  0.0   \n",
            "4988         0.0           0.0       0.0                                  0.0   \n",
            "4989         0.0           0.0       0.0                                  0.0   \n",
            "4990         0.0           0.0       0.0                                  0.0   \n",
            "4991         0.0           0.0       0.0                                  0.0   \n",
            "4992         0.0           0.0       0.0                                  0.0   \n",
            "4993         0.0           0.0       0.0                                  0.0   \n",
            "4994         0.0           0.0       0.0                                  0.0   \n",
            "4995         0.0           0.0       0.0                                  0.0   \n",
            "4996         0.0           0.0       0.0                                  0.0   \n",
            "4997         0.0           0.0       0.0                                  0.0   \n",
            "4998         0.0           0.0       0.0                                  0.0   \n",
            "\n",
            "index  aaaaaaaaaaaaaaaaaaaaaaaaaaaaaaaaaa greeeeeeeeeeeeeeeeeaaaaaaaaaaaaaaat  \\\n",
            "0                                                    0.0                        \n",
            "1                                                    0.0                        \n",
            "2                                                    0.0                        \n",
            "3                                                    0.0                        \n",
            "4                                                    0.0                        \n",
            "5                                                    0.0                        \n",
            "6                                                    0.0                        \n",
            "7                                                    0.0                        \n",
            "8                                                    0.0                        \n",
            "9                                                    0.0                        \n",
            "10                                                   0.0                        \n",
            "11                                                   0.0                        \n",
            "12                                                   0.0                        \n",
            "13                                                   0.0                        \n",
            "14                                                   0.0                        \n",
            "15                                                   0.0                        \n",
            "16                                                   0.0                        \n",
            "17                                                   0.0                        \n",
            "18                                                   0.0                        \n",
            "19                                                   0.0                        \n",
            "20                                                   0.0                        \n",
            "21                                                   0.0                        \n",
            "22                                                   0.0                        \n",
            "23                                                   0.0                        \n",
            "24                                                   0.0                        \n",
            "25                                                   0.0                        \n",
            "26                                                   0.0                        \n",
            "27                                                   0.0                        \n",
            "28                                                   0.0                        \n",
            "29                                                   0.0                        \n",
            "...                                                  ...                        \n",
            "4969                                                 0.0                        \n",
            "4970                                                 0.0                        \n",
            "4971                                                 0.0                        \n",
            "4972                                                 0.0                        \n",
            "4973                                                 0.0                        \n",
            "4974                                                 0.0                        \n",
            "4975                                                 0.0                        \n",
            "4976                                                 0.0                        \n",
            "4977                                                 0.0                        \n",
            "4978                                                 0.0                        \n",
            "4979                                                 0.0                        \n",
            "4980                                                 0.0                        \n",
            "4981                                                 0.0                        \n",
            "4982                                                 0.0                        \n",
            "4983                                                 0.0                        \n",
            "4984                                                 0.0                        \n",
            "4985                                                 0.0                        \n",
            "4986                                                 0.0                        \n",
            "4987                                                 0.0                        \n",
            "4988                                                 0.0                        \n",
            "4989                                                 0.0                        \n",
            "4990                                                 0.0                        \n",
            "4991                                                 0.0                        \n",
            "4992                                                 0.0                        \n",
            "4993                                                 0.0                        \n",
            "4994                                                 0.0                        \n",
            "4995                                                 0.0                        \n",
            "4996                                                 0.0                        \n",
            "4997                                                 0.0                        \n",
            "4998                                                 0.0                        \n",
            "\n",
            "index  aaaaaahhhhhhh plumeria  aaaaargh bought  aacounts donner  \\\n",
            "0                         0.0              0.0              0.0   \n",
            "1                         0.0              0.0              0.0   \n",
            "2                         0.0              0.0              0.0   \n",
            "3                         0.0              0.0              0.0   \n",
            "4                         0.0              0.0              0.0   \n",
            "5                         0.0              0.0              0.0   \n",
            "6                         0.0              0.0              0.0   \n",
            "7                         0.0              0.0              0.0   \n",
            "8                         0.0              0.0              0.0   \n",
            "9                         0.0              0.0              0.0   \n",
            "10                        0.0              0.0              0.0   \n",
            "11                        0.0              0.0              0.0   \n",
            "12                        0.0              0.0              0.0   \n",
            "13                        0.0              0.0              0.0   \n",
            "14                        0.0              0.0              0.0   \n",
            "15                        0.0              0.0              0.0   \n",
            "16                        0.0              0.0              0.0   \n",
            "17                        0.0              0.0              0.0   \n",
            "18                        0.0              0.0              0.0   \n",
            "19                        0.0              0.0              0.0   \n",
            "20                        0.0              0.0              0.0   \n",
            "21                        0.0              0.0              0.0   \n",
            "22                        0.0              0.0              0.0   \n",
            "23                        0.0              0.0              0.0   \n",
            "24                        0.0              0.0              0.0   \n",
            "25                        0.0              0.0              0.0   \n",
            "26                        0.0              0.0              0.0   \n",
            "27                        0.0              0.0              0.0   \n",
            "28                        0.0              0.0              0.0   \n",
            "29                        0.0              0.0              0.0   \n",
            "...                       ...              ...              ...   \n",
            "4969                      0.0              0.0              0.0   \n",
            "4970                      0.0              0.0              0.0   \n",
            "4971                      0.0              0.0              0.0   \n",
            "4972                      0.0              0.0              0.0   \n",
            "4973                      0.0              0.0              0.0   \n",
            "4974                      0.0              0.0              0.0   \n",
            "4975                      0.0              0.0              0.0   \n",
            "4976                      0.0              0.0              0.0   \n",
            "4977                      0.0              0.0              0.0   \n",
            "4978                      0.0              0.0              0.0   \n",
            "4979                      0.0              0.0              0.0   \n",
            "4980                      0.0              0.0              0.0   \n",
            "4981                      0.0              0.0              0.0   \n",
            "4982                      0.0              0.0              0.0   \n",
            "4983                      0.0              0.0              0.0   \n",
            "4984                      0.0              0.0              0.0   \n",
            "4985                      0.0              0.0              0.0   \n",
            "4986                      0.0              0.0              0.0   \n",
            "4987                      0.0              0.0              0.0   \n",
            "4988                      0.0              0.0              0.0   \n",
            "4989                      0.0              0.0              0.0   \n",
            "4990                      0.0              0.0              0.0   \n",
            "4991                      0.0              0.0              0.0   \n",
            "4992                      0.0              0.0              0.0   \n",
            "4993                      0.0              0.0              0.0   \n",
            "4994                      0.0              0.0              0.0   \n",
            "4995                      0.0              0.0              0.0   \n",
            "4996                      0.0              0.0              0.0   \n",
            "4997                      0.0              0.0              0.0   \n",
            "4998                      0.0              0.0              0.0   \n",
            "\n",
            "index  aakers kapfrers  aaron delivered  ...  zusak manipulates  zusak s  \\\n",
            "0                  0.0              0.0  ...                0.0      0.0   \n",
            "1                  0.0              0.0  ...                0.0      0.0   \n",
            "2                  0.0              0.0  ...                0.0      0.0   \n",
            "3                  0.0              0.0  ...                0.0      0.0   \n",
            "4                  0.0              0.0  ...                0.0      0.0   \n",
            "5                  0.0              0.0  ...                0.0      0.0   \n",
            "6                  0.0              0.0  ...                0.0      0.0   \n",
            "7                  0.0              0.0  ...                0.0      0.0   \n",
            "8                  0.0              0.0  ...                0.0      0.0   \n",
            "9                  0.0              0.0  ...                0.0      0.0   \n",
            "10                 0.0              0.0  ...                0.0      0.0   \n",
            "11                 0.0              0.0  ...                0.0      0.0   \n",
            "12                 0.0              0.0  ...                0.0      0.0   \n",
            "13                 0.0              0.0  ...                0.0      0.0   \n",
            "14                 0.0              0.0  ...                0.0      0.0   \n",
            "15                 0.0              0.0  ...                0.0      0.0   \n",
            "16                 0.0              0.0  ...                0.0      0.0   \n",
            "17                 0.0              0.0  ...                0.0      0.0   \n",
            "18                 0.0              0.0  ...                0.0      0.0   \n",
            "19                 0.0              0.0  ...                0.0      0.0   \n",
            "20                 0.0              0.0  ...                0.0      0.0   \n",
            "21                 0.0              0.0  ...                0.0      0.0   \n",
            "22                 0.0              0.0  ...                0.0      0.0   \n",
            "23                 0.0              0.0  ...                0.0      0.0   \n",
            "24                 0.0              0.0  ...                0.0      0.0   \n",
            "25                 0.0              0.0  ...                0.0      0.0   \n",
            "26                 0.0              0.0  ...                0.0      0.0   \n",
            "27                 0.0              0.0  ...                0.0      0.0   \n",
            "28                 0.0              0.0  ...                0.0      0.0   \n",
            "29                 0.0              0.0  ...                0.0      0.0   \n",
            "...                ...              ...  ...                ...      ...   \n",
            "4969               0.0              0.0  ...                0.0      0.0   \n",
            "4970               0.0              0.0  ...                0.0      0.0   \n",
            "4971               0.0              0.0  ...                0.0      0.0   \n",
            "4972               0.0              0.0  ...                0.0      0.0   \n",
            "4973               0.0              0.0  ...                0.0      0.0   \n",
            "4974               0.0              0.0  ...                0.0      0.0   \n",
            "4975               0.0              0.0  ...                0.0      0.0   \n",
            "4976               0.0              0.0  ...                0.0      0.0   \n",
            "4977               0.0              0.0  ...                0.0      0.0   \n",
            "4978               0.0              0.0  ...                0.0      0.0   \n",
            "4979               0.0              0.0  ...                0.0      0.0   \n",
            "4980               0.0              0.0  ...                0.0      0.0   \n",
            "4981               0.0              0.0  ...                0.0      0.0   \n",
            "4982               0.0              0.0  ...                0.0      0.0   \n",
            "4983               0.0              0.0  ...                0.0      0.0   \n",
            "4984               0.0              0.0  ...                0.0      0.0   \n",
            "4985               0.0              0.0  ...                0.0      0.0   \n",
            "4986               0.0              0.0  ...                0.0      0.0   \n",
            "4987               0.0              0.0  ...                0.0      0.0   \n",
            "4988               0.0              0.0  ...                0.0      0.0   \n",
            "4989               0.0              0.0  ...                0.0      0.0   \n",
            "4990               0.0              0.0  ...                0.0      0.0   \n",
            "4991               0.0              0.0  ...                0.0      0.0   \n",
            "4992               0.0              0.0  ...                0.0      0.0   \n",
            "4993               0.0              0.0  ...                0.0      0.0   \n",
            "4994               0.0              0.0  ...                0.0      0.0   \n",
            "4995               0.0              0.0  ...                0.0      0.0   \n",
            "4996               0.0              0.0  ...                0.0      0.0   \n",
            "4997               0.0              0.0  ...                0.0      0.0   \n",
            "4998               0.0              0.0  ...                0.0      0.0   \n",
            "\n",
            "index  zusak succeeds  zusak takes  zusak uses  zwan like  zwan ve  zwan zwan  \\\n",
            "0                 0.0          0.0         0.0        0.0      0.0        0.0   \n",
            "1                 0.0          0.0         0.0        0.0      0.0        0.0   \n",
            "2                 0.0          0.0         0.0        0.0      0.0        0.0   \n",
            "3                 0.0          0.0         0.0        0.0      0.0        0.0   \n",
            "4                 0.0          0.0         0.0        0.0      0.0        0.0   \n",
            "5                 0.0          0.0         0.0        0.0      0.0        0.0   \n",
            "6                 0.0          0.0         0.0        0.0      0.0        0.0   \n",
            "7                 0.0          0.0         0.0        0.0      0.0        0.0   \n",
            "8                 0.0          0.0         0.0        0.0      0.0        0.0   \n",
            "9                 0.0          0.0         0.0        0.0      0.0        0.0   \n",
            "10                0.0          0.0         0.0        0.0      0.0        0.0   \n",
            "11                0.0          0.0         0.0        0.0      0.0        0.0   \n",
            "12                0.0          0.0         0.0        0.0      0.0        0.0   \n",
            "13                0.0          0.0         0.0        0.0      0.0        0.0   \n",
            "14                0.0          0.0         0.0        0.0      0.0        0.0   \n",
            "15                0.0          0.0         0.0        0.0      0.0        0.0   \n",
            "16                0.0          0.0         0.0        0.0      0.0        0.0   \n",
            "17                0.0          0.0         0.0        0.0      0.0        0.0   \n",
            "18                0.0          0.0         0.0        0.0      0.0        0.0   \n",
            "19                0.0          0.0         0.0        0.0      0.0        0.0   \n",
            "20                0.0          0.0         0.0        0.0      0.0        0.0   \n",
            "21                0.0          0.0         0.0        0.0      0.0        0.0   \n",
            "22                0.0          0.0         0.0        0.0      0.0        0.0   \n",
            "23                0.0          0.0         0.0        0.0      0.0        0.0   \n",
            "24                0.0          0.0         0.0        0.0      0.0        0.0   \n",
            "25                0.0          0.0         0.0        0.0      0.0        0.0   \n",
            "26                0.0          0.0         0.0        0.0      0.0        0.0   \n",
            "27                0.0          0.0         0.0        0.0      0.0        0.0   \n",
            "28                0.0          0.0         0.0        0.0      0.0        0.0   \n",
            "29                0.0          0.0         0.0        0.0      0.0        0.0   \n",
            "...               ...          ...         ...        ...      ...        ...   \n",
            "4969              0.0          0.0         0.0        0.0      0.0        0.0   \n",
            "4970              0.0          0.0         0.0        0.0      0.0        0.0   \n",
            "4971              0.0          0.0         0.0        0.0      0.0        0.0   \n",
            "4972              0.0          0.0         0.0        0.0      0.0        0.0   \n",
            "4973              0.0          0.0         0.0        0.0      0.0        0.0   \n",
            "4974              0.0          0.0         0.0        0.0      0.0        0.0   \n",
            "4975              0.0          0.0         0.0        0.0      0.0        0.0   \n",
            "4976              0.0          0.0         0.0        0.0      0.0        0.0   \n",
            "4977              0.0          0.0         0.0        0.0      0.0        0.0   \n",
            "4978              0.0          0.0         0.0        0.0      0.0        0.0   \n",
            "4979              0.0          0.0         0.0        0.0      0.0        0.0   \n",
            "4980              0.0          0.0         0.0        0.0      0.0        0.0   \n",
            "4981              0.0          0.0         0.0        0.0      0.0        0.0   \n",
            "4982              0.0          0.0         0.0        0.0      0.0        0.0   \n",
            "4983              0.0          0.0         0.0        0.0      0.0        0.0   \n",
            "4984              0.0          0.0         0.0        0.0      0.0        0.0   \n",
            "4985              0.0          0.0         0.0        0.0      0.0        0.0   \n",
            "4986              0.0          0.0         0.0        0.0      0.0        0.0   \n",
            "4987              0.0          0.0         0.0        0.0      0.0        0.0   \n",
            "4988              0.0          0.0         0.0        0.0      0.0        0.0   \n",
            "4989              0.0          0.0         0.0        0.0      0.0        0.0   \n",
            "4990              0.0          0.0         0.0        0.0      0.0        0.0   \n",
            "4991              0.0          0.0         0.0        0.0      0.0        0.0   \n",
            "4992              0.0          0.0         0.0        0.0      0.0        0.0   \n",
            "4993              0.0          0.0         0.0        0.0      0.0        0.0   \n",
            "4994              0.0          0.0         0.0        0.0      0.0        0.0   \n",
            "4995              0.0          0.0         0.0        0.0      0.0        0.0   \n",
            "4996              0.0          0.0         0.0        0.0      0.0        0.0   \n",
            "4997              0.0          0.0         0.0        0.0      0.0        0.0   \n",
            "4998              0.0          0.0         0.0        0.0      0.0        0.0   \n",
            "\n",
            "index  zzzzzzzzzzzz george  zzzzzzzzzzzzzz group  \n",
            "0                      0.0                   0.0  \n",
            "1                      0.0                   0.0  \n",
            "2                      0.0                   0.0  \n",
            "3                      0.0                   0.0  \n",
            "4                      0.0                   0.0  \n",
            "5                      0.0                   0.0  \n",
            "6                      0.0                   0.0  \n",
            "7                      0.0                   0.0  \n",
            "8                      0.0                   0.0  \n",
            "9                      0.0                   0.0  \n",
            "10                     0.0                   0.0  \n",
            "11                     0.0                   0.0  \n",
            "12                     0.0                   0.0  \n",
            "13                     0.0                   0.0  \n",
            "14                     0.0                   0.0  \n",
            "15                     0.0                   0.0  \n",
            "16                     0.0                   0.0  \n",
            "17                     0.0                   0.0  \n",
            "18                     0.0                   0.0  \n",
            "19                     0.0                   0.0  \n",
            "20                     0.0                   0.0  \n",
            "21                     0.0                   0.0  \n",
            "22                     0.0                   0.0  \n",
            "23                     0.0                   0.0  \n",
            "24                     0.0                   0.0  \n",
            "25                     0.0                   0.0  \n",
            "26                     0.0                   0.0  \n",
            "27                     0.0                   0.0  \n",
            "28                     0.0                   0.0  \n",
            "29                     0.0                   0.0  \n",
            "...                    ...                   ...  \n",
            "4969                   0.0                   0.0  \n",
            "4970                   0.0                   0.0  \n",
            "4971                   0.0                   0.0  \n",
            "4972                   0.0                   0.0  \n",
            "4973                   0.0                   0.0  \n",
            "4974                   0.0                   0.0  \n",
            "4975                   0.0                   0.0  \n",
            "4976                   0.0                   0.0  \n",
            "4977                   0.0                   0.0  \n",
            "4978                   0.0                   0.0  \n",
            "4979                   0.0                   0.0  \n",
            "4980                   0.0                   0.0  \n",
            "4981                   0.0                   0.0  \n",
            "4982                   0.0                   0.0  \n",
            "4983                   0.0                   0.0  \n",
            "4984                   0.0                   0.0  \n",
            "4985                   0.0                   0.0  \n",
            "4986                   0.0                   0.0  \n",
            "4987                   0.0                   0.0  \n",
            "4988                   0.0                   0.0  \n",
            "4989                   0.0                   0.0  \n",
            "4990                   0.0                   0.0  \n",
            "4991                   0.0                   0.0  \n",
            "4992                   0.0                   0.0  \n",
            "4993                   0.0                   0.0  \n",
            "4994                   0.0                   0.0  \n",
            "4995                   0.0                   0.0  \n",
            "4996                   0.0                   0.0  \n",
            "4997                   0.0                   0.0  \n",
            "4998                   0.0                   0.0  \n",
            "\n",
            "[4999 rows x 185207 columns]\n"
          ],
          "name": "stdout"
        }
      ]
    },
    {
      "cell_type": "code",
      "metadata": {
        "scrolled": true,
        "id": "YfH9kd2dnART",
        "colab": {
          "base_uri": "https://localhost:8080/",
          "height": 6545
        },
        "outputId": "1de87730-5e0a-4fa4-dac0-3dbae52c026b"
      },
      "source": [
        "print(\"\\n\\n\\nTest Features Before Assigning a 'Sentiment' Column:\\n\")\n",
        "test_features_df.index.names = ['index']\n",
        "test_features_df.columns.name = train_features_df.index.name\n",
        "test_features_df.index.name = None\n",
        "print(test_features_df)"
      ],
      "execution_count": null,
      "outputs": [
        {
          "output_type": "stream",
          "text": [
            "\n",
            "\n",
            "\n",
            "Test Features Before Assigning a 'Sentiment' Column:\n",
            "\n",
            "      aa batter  aa batteries  aa makes  aaaaaaaaaaaaaaaaaaaaaaaa greeeeaaat  \\\n",
            "0           0.0           0.0       0.0                                  0.0   \n",
            "1           0.0           0.0       0.0                                  0.0   \n",
            "2           0.0           0.0       0.0                                  0.0   \n",
            "3           0.0           0.0       0.0                                  0.0   \n",
            "4           0.0           0.0       0.0                                  0.0   \n",
            "5           0.0           0.0       0.0                                  0.0   \n",
            "6           0.0           0.0       0.0                                  0.0   \n",
            "7           0.0           0.0       0.0                                  0.0   \n",
            "8           0.0           0.0       0.0                                  0.0   \n",
            "9           0.0           0.0       0.0                                  0.0   \n",
            "10          0.0           0.0       0.0                                  0.0   \n",
            "11          0.0           0.0       0.0                                  0.0   \n",
            "12          0.0           0.0       0.0                                  0.0   \n",
            "13          0.0           0.0       0.0                                  0.0   \n",
            "14          0.0           0.0       0.0                                  0.0   \n",
            "15          0.0           0.0       0.0                                  0.0   \n",
            "16          0.0           0.0       0.0                                  0.0   \n",
            "17          0.0           0.0       0.0                                  0.0   \n",
            "18          0.0           0.0       0.0                                  0.0   \n",
            "19          0.0           0.0       0.0                                  0.0   \n",
            "20          0.0           0.0       0.0                                  0.0   \n",
            "21          0.0           0.0       0.0                                  0.0   \n",
            "22          0.0           0.0       0.0                                  0.0   \n",
            "23          0.0           0.0       0.0                                  0.0   \n",
            "24          0.0           0.0       0.0                                  0.0   \n",
            "25          0.0           0.0       0.0                                  0.0   \n",
            "26          0.0           0.0       0.0                                  0.0   \n",
            "27          0.0           0.0       0.0                                  0.0   \n",
            "28          0.0           0.0       0.0                                  0.0   \n",
            "29          0.0           0.0       0.0                                  0.0   \n",
            "...         ...           ...       ...                                  ...   \n",
            "1469        0.0           0.0       0.0                                  0.0   \n",
            "1470        0.0           0.0       0.0                                  0.0   \n",
            "1471        0.0           0.0       0.0                                  0.0   \n",
            "1472        0.0           0.0       0.0                                  0.0   \n",
            "1473        0.0           0.0       0.0                                  0.0   \n",
            "1474        0.0           0.0       0.0                                  0.0   \n",
            "1475        0.0           0.0       0.0                                  0.0   \n",
            "1476        0.0           0.0       0.0                                  0.0   \n",
            "1477        0.0           0.0       0.0                                  0.0   \n",
            "1478        0.0           0.0       0.0                                  0.0   \n",
            "1479        0.0           0.0       0.0                                  0.0   \n",
            "1480        0.0           0.0       0.0                                  0.0   \n",
            "1481        0.0           0.0       0.0                                  0.0   \n",
            "1482        0.0           0.0       0.0                                  0.0   \n",
            "1483        0.0           0.0       0.0                                  0.0   \n",
            "1484        0.0           0.0       0.0                                  0.0   \n",
            "1485        0.0           0.0       0.0                                  0.0   \n",
            "1486        0.0           0.0       0.0                                  0.0   \n",
            "1487        0.0           0.0       0.0                                  0.0   \n",
            "1488        0.0           0.0       0.0                                  0.0   \n",
            "1489        0.0           0.0       0.0                                  0.0   \n",
            "1490        0.0           0.0       0.0                                  0.0   \n",
            "1491        0.0           0.0       0.0                                  0.0   \n",
            "1492        0.0           0.0       0.0                                  0.0   \n",
            "1493        0.0           0.0       0.0                                  0.0   \n",
            "1494        0.0           0.0       0.0                                  0.0   \n",
            "1495        0.0           0.0       0.0                                  0.0   \n",
            "1496        0.0           0.0       0.0                                  0.0   \n",
            "1497        0.0           0.0       0.0                                  0.0   \n",
            "1498        0.0           0.0       0.0                                  0.0   \n",
            "\n",
            "      aaaaaaaaaaaaaaaaaaaaaaaaaaaaaaaaaa greeeeeeeeeeeeeeeeeaaaaaaaaaaaaaaat  \\\n",
            "0                                                   0.0                        \n",
            "1                                                   0.0                        \n",
            "2                                                   0.0                        \n",
            "3                                                   0.0                        \n",
            "4                                                   0.0                        \n",
            "5                                                   0.0                        \n",
            "6                                                   0.0                        \n",
            "7                                                   0.0                        \n",
            "8                                                   0.0                        \n",
            "9                                                   0.0                        \n",
            "10                                                  0.0                        \n",
            "11                                                  0.0                        \n",
            "12                                                  0.0                        \n",
            "13                                                  0.0                        \n",
            "14                                                  0.0                        \n",
            "15                                                  0.0                        \n",
            "16                                                  0.0                        \n",
            "17                                                  0.0                        \n",
            "18                                                  0.0                        \n",
            "19                                                  0.0                        \n",
            "20                                                  0.0                        \n",
            "21                                                  0.0                        \n",
            "22                                                  0.0                        \n",
            "23                                                  0.0                        \n",
            "24                                                  0.0                        \n",
            "25                                                  0.0                        \n",
            "26                                                  0.0                        \n",
            "27                                                  0.0                        \n",
            "28                                                  0.0                        \n",
            "29                                                  0.0                        \n",
            "...                                                 ...                        \n",
            "1469                                                0.0                        \n",
            "1470                                                0.0                        \n",
            "1471                                                0.0                        \n",
            "1472                                                0.0                        \n",
            "1473                                                0.0                        \n",
            "1474                                                0.0                        \n",
            "1475                                                0.0                        \n",
            "1476                                                0.0                        \n",
            "1477                                                0.0                        \n",
            "1478                                                0.0                        \n",
            "1479                                                0.0                        \n",
            "1480                                                0.0                        \n",
            "1481                                                0.0                        \n",
            "1482                                                0.0                        \n",
            "1483                                                0.0                        \n",
            "1484                                                0.0                        \n",
            "1485                                                0.0                        \n",
            "1486                                                0.0                        \n",
            "1487                                                0.0                        \n",
            "1488                                                0.0                        \n",
            "1489                                                0.0                        \n",
            "1490                                                0.0                        \n",
            "1491                                                0.0                        \n",
            "1492                                                0.0                        \n",
            "1493                                                0.0                        \n",
            "1494                                                0.0                        \n",
            "1495                                                0.0                        \n",
            "1496                                                0.0                        \n",
            "1497                                                0.0                        \n",
            "1498                                                0.0                        \n",
            "\n",
            "      aaaaaahhhhhhh plumeria  aaaaargh bought  aacounts donner  \\\n",
            "0                        0.0              0.0              0.0   \n",
            "1                        0.0              0.0              0.0   \n",
            "2                        0.0              0.0              0.0   \n",
            "3                        0.0              0.0              0.0   \n",
            "4                        0.0              0.0              0.0   \n",
            "5                        0.0              0.0              0.0   \n",
            "6                        0.0              0.0              0.0   \n",
            "7                        0.0              0.0              0.0   \n",
            "8                        0.0              0.0              0.0   \n",
            "9                        0.0              0.0              0.0   \n",
            "10                       0.0              0.0              0.0   \n",
            "11                       0.0              0.0              0.0   \n",
            "12                       0.0              0.0              0.0   \n",
            "13                       0.0              0.0              0.0   \n",
            "14                       0.0              0.0              0.0   \n",
            "15                       0.0              0.0              0.0   \n",
            "16                       0.0              0.0              0.0   \n",
            "17                       0.0              0.0              0.0   \n",
            "18                       0.0              0.0              0.0   \n",
            "19                       0.0              0.0              0.0   \n",
            "20                       0.0              0.0              0.0   \n",
            "21                       0.0              0.0              0.0   \n",
            "22                       0.0              0.0              0.0   \n",
            "23                       0.0              0.0              0.0   \n",
            "24                       0.0              0.0              0.0   \n",
            "25                       0.0              0.0              0.0   \n",
            "26                       0.0              0.0              0.0   \n",
            "27                       0.0              0.0              0.0   \n",
            "28                       0.0              0.0              0.0   \n",
            "29                       0.0              0.0              0.0   \n",
            "...                      ...              ...              ...   \n",
            "1469                     0.0              0.0              0.0   \n",
            "1470                     0.0              0.0              0.0   \n",
            "1471                     0.0              0.0              0.0   \n",
            "1472                     0.0              0.0              0.0   \n",
            "1473                     0.0              0.0              0.0   \n",
            "1474                     0.0              0.0              0.0   \n",
            "1475                     0.0              0.0              0.0   \n",
            "1476                     0.0              0.0              0.0   \n",
            "1477                     0.0              0.0              0.0   \n",
            "1478                     0.0              0.0              0.0   \n",
            "1479                     0.0              0.0              0.0   \n",
            "1480                     0.0              0.0              0.0   \n",
            "1481                     0.0              0.0              0.0   \n",
            "1482                     0.0              0.0              0.0   \n",
            "1483                     0.0              0.0              0.0   \n",
            "1484                     0.0              0.0              0.0   \n",
            "1485                     0.0              0.0              0.0   \n",
            "1486                     0.0              0.0              0.0   \n",
            "1487                     0.0              0.0              0.0   \n",
            "1488                     0.0              0.0              0.0   \n",
            "1489                     0.0              0.0              0.0   \n",
            "1490                     0.0              0.0              0.0   \n",
            "1491                     0.0              0.0              0.0   \n",
            "1492                     0.0              0.0              0.0   \n",
            "1493                     0.0              0.0              0.0   \n",
            "1494                     0.0              0.0              0.0   \n",
            "1495                     0.0              0.0              0.0   \n",
            "1496                     0.0              0.0              0.0   \n",
            "1497                     0.0              0.0              0.0   \n",
            "1498                     0.0              0.0              0.0   \n",
            "\n",
            "      aakers kapfrers  aaron delivered  ...  zusak manipulates  zusak s  \\\n",
            "0                 0.0              0.0  ...                0.0      0.0   \n",
            "1                 0.0              0.0  ...                0.0      0.0   \n",
            "2                 0.0              0.0  ...                0.0      0.0   \n",
            "3                 0.0              0.0  ...                0.0      0.0   \n",
            "4                 0.0              0.0  ...                0.0      0.0   \n",
            "5                 0.0              0.0  ...                0.0      0.0   \n",
            "6                 0.0              0.0  ...                0.0      0.0   \n",
            "7                 0.0              0.0  ...                0.0      0.0   \n",
            "8                 0.0              0.0  ...                0.0      0.0   \n",
            "9                 0.0              0.0  ...                0.0      0.0   \n",
            "10                0.0              0.0  ...                0.0      0.0   \n",
            "11                0.0              0.0  ...                0.0      0.0   \n",
            "12                0.0              0.0  ...                0.0      0.0   \n",
            "13                0.0              0.0  ...                0.0      0.0   \n",
            "14                0.0              0.0  ...                0.0      0.0   \n",
            "15                0.0              0.0  ...                0.0      0.0   \n",
            "16                0.0              0.0  ...                0.0      0.0   \n",
            "17                0.0              0.0  ...                0.0      0.0   \n",
            "18                0.0              0.0  ...                0.0      0.0   \n",
            "19                0.0              0.0  ...                0.0      0.0   \n",
            "20                0.0              0.0  ...                0.0      0.0   \n",
            "21                0.0              0.0  ...                0.0      0.0   \n",
            "22                0.0              0.0  ...                0.0      0.0   \n",
            "23                0.0              0.0  ...                0.0      0.0   \n",
            "24                0.0              0.0  ...                0.0      0.0   \n",
            "25                0.0              0.0  ...                0.0      0.0   \n",
            "26                0.0              0.0  ...                0.0      0.0   \n",
            "27                0.0              0.0  ...                0.0      0.0   \n",
            "28                0.0              0.0  ...                0.0      0.0   \n",
            "29                0.0              0.0  ...                0.0      0.0   \n",
            "...               ...              ...  ...                ...      ...   \n",
            "1469              0.0              0.0  ...                0.0      0.0   \n",
            "1470              0.0              0.0  ...                0.0      0.0   \n",
            "1471              0.0              0.0  ...                0.0      0.0   \n",
            "1472              0.0              0.0  ...                0.0      0.0   \n",
            "1473              0.0              0.0  ...                0.0      0.0   \n",
            "1474              0.0              0.0  ...                0.0      0.0   \n",
            "1475              0.0              0.0  ...                0.0      0.0   \n",
            "1476              0.0              0.0  ...                0.0      0.0   \n",
            "1477              0.0              0.0  ...                0.0      0.0   \n",
            "1478              0.0              0.0  ...                0.0      0.0   \n",
            "1479              0.0              0.0  ...                0.0      0.0   \n",
            "1480              0.0              0.0  ...                0.0      0.0   \n",
            "1481              0.0              0.0  ...                0.0      0.0   \n",
            "1482              0.0              0.0  ...                0.0      0.0   \n",
            "1483              0.0              0.0  ...                0.0      0.0   \n",
            "1484              0.0              0.0  ...                0.0      0.0   \n",
            "1485              0.0              0.0  ...                0.0      0.0   \n",
            "1486              0.0              0.0  ...                0.0      0.0   \n",
            "1487              0.0              0.0  ...                0.0      0.0   \n",
            "1488              0.0              0.0  ...                0.0      0.0   \n",
            "1489              0.0              0.0  ...                0.0      0.0   \n",
            "1490              0.0              0.0  ...                0.0      0.0   \n",
            "1491              0.0              0.0  ...                0.0      0.0   \n",
            "1492              0.0              0.0  ...                0.0      0.0   \n",
            "1493              0.0              0.0  ...                0.0      0.0   \n",
            "1494              0.0              0.0  ...                0.0      0.0   \n",
            "1495              0.0              0.0  ...                0.0      0.0   \n",
            "1496              0.0              0.0  ...                0.0      0.0   \n",
            "1497              0.0              0.0  ...                0.0      0.0   \n",
            "1498              0.0              0.0  ...                0.0      0.0   \n",
            "\n",
            "      zusak succeeds  zusak takes  zusak uses  zwan like  zwan ve  zwan zwan  \\\n",
            "0                0.0          0.0         0.0        0.0      0.0        0.0   \n",
            "1                0.0          0.0         0.0        0.0      0.0        0.0   \n",
            "2                0.0          0.0         0.0        0.0      0.0        0.0   \n",
            "3                0.0          0.0         0.0        0.0      0.0        0.0   \n",
            "4                0.0          0.0         0.0        0.0      0.0        0.0   \n",
            "5                0.0          0.0         0.0        0.0      0.0        0.0   \n",
            "6                0.0          0.0         0.0        0.0      0.0        0.0   \n",
            "7                0.0          0.0         0.0        0.0      0.0        0.0   \n",
            "8                0.0          0.0         0.0        0.0      0.0        0.0   \n",
            "9                0.0          0.0         0.0        0.0      0.0        0.0   \n",
            "10               0.0          0.0         0.0        0.0      0.0        0.0   \n",
            "11               0.0          0.0         0.0        0.0      0.0        0.0   \n",
            "12               0.0          0.0         0.0        0.0      0.0        0.0   \n",
            "13               0.0          0.0         0.0        0.0      0.0        0.0   \n",
            "14               0.0          0.0         0.0        0.0      0.0        0.0   \n",
            "15               0.0          0.0         0.0        0.0      0.0        0.0   \n",
            "16               0.0          0.0         0.0        0.0      0.0        0.0   \n",
            "17               0.0          0.0         0.0        0.0      0.0        0.0   \n",
            "18               0.0          0.0         0.0        0.0      0.0        0.0   \n",
            "19               0.0          0.0         0.0        0.0      0.0        0.0   \n",
            "20               0.0          0.0         0.0        0.0      0.0        0.0   \n",
            "21               0.0          0.0         0.0        0.0      0.0        0.0   \n",
            "22               0.0          0.0         0.0        0.0      0.0        0.0   \n",
            "23               0.0          0.0         0.0        0.0      0.0        0.0   \n",
            "24               0.0          0.0         0.0        0.0      0.0        0.0   \n",
            "25               0.0          0.0         0.0        0.0      0.0        0.0   \n",
            "26               0.0          0.0         0.0        0.0      0.0        0.0   \n",
            "27               0.0          0.0         0.0        0.0      0.0        0.0   \n",
            "28               0.0          0.0         0.0        0.0      0.0        0.0   \n",
            "29               0.0          0.0         0.0        0.0      0.0        0.0   \n",
            "...              ...          ...         ...        ...      ...        ...   \n",
            "1469             0.0          0.0         0.0        0.0      0.0        0.0   \n",
            "1470             0.0          0.0         0.0        0.0      0.0        0.0   \n",
            "1471             0.0          0.0         0.0        0.0      0.0        0.0   \n",
            "1472             0.0          0.0         0.0        0.0      0.0        0.0   \n",
            "1473             0.0          0.0         0.0        0.0      0.0        0.0   \n",
            "1474             0.0          0.0         0.0        0.0      0.0        0.0   \n",
            "1475             0.0          0.0         0.0        0.0      0.0        0.0   \n",
            "1476             0.0          0.0         0.0        0.0      0.0        0.0   \n",
            "1477             0.0          0.0         0.0        0.0      0.0        0.0   \n",
            "1478             0.0          0.0         0.0        0.0      0.0        0.0   \n",
            "1479             0.0          0.0         0.0        0.0      0.0        0.0   \n",
            "1480             0.0          0.0         0.0        0.0      0.0        0.0   \n",
            "1481             0.0          0.0         0.0        0.0      0.0        0.0   \n",
            "1482             0.0          0.0         0.0        0.0      0.0        0.0   \n",
            "1483             0.0          0.0         0.0        0.0      0.0        0.0   \n",
            "1484             0.0          0.0         0.0        0.0      0.0        0.0   \n",
            "1485             0.0          0.0         0.0        0.0      0.0        0.0   \n",
            "1486             0.0          0.0         0.0        0.0      0.0        0.0   \n",
            "1487             0.0          0.0         0.0        0.0      0.0        0.0   \n",
            "1488             0.0          0.0         0.0        0.0      0.0        0.0   \n",
            "1489             0.0          0.0         0.0        0.0      0.0        0.0   \n",
            "1490             0.0          0.0         0.0        0.0      0.0        0.0   \n",
            "1491             0.0          0.0         0.0        0.0      0.0        0.0   \n",
            "1492             0.0          0.0         0.0        0.0      0.0        0.0   \n",
            "1493             0.0          0.0         0.0        0.0      0.0        0.0   \n",
            "1494             0.0          0.0         0.0        0.0      0.0        0.0   \n",
            "1495             0.0          0.0         0.0        0.0      0.0        0.0   \n",
            "1496             0.0          0.0         0.0        0.0      0.0        0.0   \n",
            "1497             0.0          0.0         0.0        0.0      0.0        0.0   \n",
            "1498             0.0          0.0         0.0        0.0      0.0        0.0   \n",
            "\n",
            "      zzzzzzzzzzzz george  zzzzzzzzzzzzzz group  \n",
            "0                     0.0                   0.0  \n",
            "1                     0.0                   0.0  \n",
            "2                     0.0                   0.0  \n",
            "3                     0.0                   0.0  \n",
            "4                     0.0                   0.0  \n",
            "5                     0.0                   0.0  \n",
            "6                     0.0                   0.0  \n",
            "7                     0.0                   0.0  \n",
            "8                     0.0                   0.0  \n",
            "9                     0.0                   0.0  \n",
            "10                    0.0                   0.0  \n",
            "11                    0.0                   0.0  \n",
            "12                    0.0                   0.0  \n",
            "13                    0.0                   0.0  \n",
            "14                    0.0                   0.0  \n",
            "15                    0.0                   0.0  \n",
            "16                    0.0                   0.0  \n",
            "17                    0.0                   0.0  \n",
            "18                    0.0                   0.0  \n",
            "19                    0.0                   0.0  \n",
            "20                    0.0                   0.0  \n",
            "21                    0.0                   0.0  \n",
            "22                    0.0                   0.0  \n",
            "23                    0.0                   0.0  \n",
            "24                    0.0                   0.0  \n",
            "25                    0.0                   0.0  \n",
            "26                    0.0                   0.0  \n",
            "27                    0.0                   0.0  \n",
            "28                    0.0                   0.0  \n",
            "29                    0.0                   0.0  \n",
            "...                   ...                   ...  \n",
            "1469                  0.0                   0.0  \n",
            "1470                  0.0                   0.0  \n",
            "1471                  0.0                   0.0  \n",
            "1472                  0.0                   0.0  \n",
            "1473                  0.0                   0.0  \n",
            "1474                  0.0                   0.0  \n",
            "1475                  0.0                   0.0  \n",
            "1476                  0.0                   0.0  \n",
            "1477                  0.0                   0.0  \n",
            "1478                  0.0                   0.0  \n",
            "1479                  0.0                   0.0  \n",
            "1480                  0.0                   0.0  \n",
            "1481                  0.0                   0.0  \n",
            "1482                  0.0                   0.0  \n",
            "1483                  0.0                   0.0  \n",
            "1484                  0.0                   0.0  \n",
            "1485                  0.0                   0.0  \n",
            "1486                  0.0                   0.0  \n",
            "1487                  0.0                   0.0  \n",
            "1488                  0.0                   0.0  \n",
            "1489                  0.0                   0.0  \n",
            "1490                  0.0                   0.0  \n",
            "1491                  0.0                   0.0  \n",
            "1492                  0.0                   0.0  \n",
            "1493                  0.0                   0.0  \n",
            "1494                  0.0                   0.0  \n",
            "1495                  0.0                   0.0  \n",
            "1496                  0.0                   0.0  \n",
            "1497                  0.0                   0.0  \n",
            "1498                  0.0                   0.0  \n",
            "\n",
            "[1499 rows x 185207 columns]\n"
          ],
          "name": "stdout"
        }
      ]
    },
    {
      "cell_type": "code",
      "metadata": {
        "id": "dkZgD51XnARZ",
        "colab": {
          "base_uri": "https://localhost:8080/",
          "height": 231
        },
        "outputId": "cb182905-d44f-4a26-e000-8b15969f02fb"
      },
      "source": [
        "train_features_df=train_features_df.assign(Sentiment=train_class_encoding)\n",
        "\n",
        "test_features_df=test_features_df.assign(Sentiment=test_class_encoding)\n",
        "\n",
        "print(\"\\n\\n\\nTrain Features after Assigning a 'Sentiment' Column:\\n\")\n",
        "\n",
        "print(train_features_df)"
      ],
      "execution_count": null,
      "outputs": [
        {
          "output_type": "error",
          "ename": "NameError",
          "evalue": "ignored",
          "traceback": [
            "\u001b[0;31m---------------------------------------------------------------------------\u001b[0m",
            "\u001b[0;31mNameError\u001b[0m                                 Traceback (most recent call last)",
            "\u001b[0;32m<ipython-input-1-2d1d67542401>\u001b[0m in \u001b[0;36m<module>\u001b[0;34m()\u001b[0m\n\u001b[0;32m----> 1\u001b[0;31m \u001b[0mtrain_features_df\u001b[0m\u001b[0;34m=\u001b[0m\u001b[0mtrain_features_df\u001b[0m\u001b[0;34m.\u001b[0m\u001b[0massign\u001b[0m\u001b[0;34m(\u001b[0m\u001b[0mSentiment\u001b[0m\u001b[0;34m=\u001b[0m\u001b[0mtrain_class_encoding\u001b[0m\u001b[0;34m)\u001b[0m\u001b[0;34m\u001b[0m\u001b[0;34m\u001b[0m\u001b[0m\n\u001b[0m\u001b[1;32m      2\u001b[0m \u001b[0;34m\u001b[0m\u001b[0m\n\u001b[1;32m      3\u001b[0m \u001b[0mtest_features_df\u001b[0m\u001b[0;34m=\u001b[0m\u001b[0mtest_features_df\u001b[0m\u001b[0;34m.\u001b[0m\u001b[0massign\u001b[0m\u001b[0;34m(\u001b[0m\u001b[0mSentiment\u001b[0m\u001b[0;34m=\u001b[0m\u001b[0mtest_class_encoding\u001b[0m\u001b[0;34m)\u001b[0m\u001b[0;34m\u001b[0m\u001b[0;34m\u001b[0m\u001b[0m\n\u001b[1;32m      4\u001b[0m \u001b[0;34m\u001b[0m\u001b[0m\n\u001b[1;32m      5\u001b[0m \u001b[0mprint\u001b[0m\u001b[0;34m(\u001b[0m\u001b[0;34m\"\\n\\n\\nTrain Features after Assigning a 'Sentiment' Column:\\n\"\u001b[0m\u001b[0;34m)\u001b[0m\u001b[0;34m\u001b[0m\u001b[0;34m\u001b[0m\u001b[0m\n",
            "\u001b[0;31mNameError\u001b[0m: name 'train_features_df' is not defined"
          ]
        }
      ]
    },
    {
      "cell_type": "code",
      "metadata": {
        "id": "3EGYUmLcnAR0",
        "colab": {
          "base_uri": "https://localhost:8080/",
          "height": 4403
        },
        "outputId": "571081db-d9ad-43aa-a9aa-7cd38f6cb330"
      },
      "source": [
        "print(\"\\n\\n\\nTest Features after Assigning a 'Sentiment' Column:\\n\")\n",
        "\n",
        "print(test_features_df)"
      ],
      "execution_count": null,
      "outputs": [
        {
          "output_type": "stream",
          "text": [
            "\n",
            "\n",
            "\n",
            "Test Features after Assigning a 'Sentiment' Column:\n",
            "\n",
            "       aa  aaa  aaaaaaaaaaaaaaaaaaaaaaaa  aaaaaaaaaaaaaaaaaaaaaaaaaaaaaaaaaa  \\\n",
            "0     0.0  0.0                       0.0                                 0.0   \n",
            "1     0.0  0.0                       0.0                                 0.0   \n",
            "2     0.0  0.0                       0.0                                 0.0   \n",
            "3     0.0  0.0                       0.0                                 0.0   \n",
            "4     0.0  0.0                       0.0                                 0.0   \n",
            "5     0.0  0.0                       0.0                                 0.0   \n",
            "6     0.0  0.0                       0.0                                 0.0   \n",
            "7     0.0  0.0                       0.0                                 0.0   \n",
            "8     0.0  0.0                       0.0                                 0.0   \n",
            "9     0.0  0.0                       0.0                                 0.0   \n",
            "10    0.0  0.0                       0.0                                 0.0   \n",
            "11    0.0  0.0                       0.0                                 0.0   \n",
            "12    0.0  0.0                       0.0                                 0.0   \n",
            "13    0.0  0.0                       0.0                                 0.0   \n",
            "14    0.0  0.0                       0.0                                 0.0   \n",
            "15    0.0  0.0                       0.0                                 0.0   \n",
            "16    0.0  0.0                       0.0                                 0.0   \n",
            "17    0.0  0.0                       0.0                                 0.0   \n",
            "18    0.0  0.0                       0.0                                 0.0   \n",
            "19    0.0  0.0                       0.0                                 0.0   \n",
            "20    0.0  0.0                       0.0                                 0.0   \n",
            "21    0.0  0.0                       0.0                                 0.0   \n",
            "22    0.0  0.0                       0.0                                 0.0   \n",
            "23    0.0  0.0                       0.0                                 0.0   \n",
            "24    0.0  0.0                       0.0                                 0.0   \n",
            "25    0.0  0.0                       0.0                                 0.0   \n",
            "26    0.0  0.0                       0.0                                 0.0   \n",
            "27    0.0  0.0                       0.0                                 0.0   \n",
            "28    0.0  0.0                       0.0                                 0.0   \n",
            "29    0.0  0.0                       0.0                                 0.0   \n",
            "...   ...  ...                       ...                                 ...   \n",
            "2969  0.0  0.0                       0.0                                 0.0   \n",
            "2970  0.0  0.0                       0.0                                 0.0   \n",
            "2971  0.0  0.0                       0.0                                 0.0   \n",
            "2972  0.0  0.0                       0.0                                 0.0   \n",
            "2973  0.0  0.0                       0.0                                 0.0   \n",
            "2974  0.0  0.0                       0.0                                 0.0   \n",
            "2975  0.0  0.0                       0.0                                 0.0   \n",
            "2976  0.0  0.0                       0.0                                 0.0   \n",
            "2977  0.0  0.0                       0.0                                 0.0   \n",
            "2978  0.0  0.0                       0.0                                 0.0   \n",
            "2979  0.0  0.0                       0.0                                 0.0   \n",
            "2980  0.0  0.0                       0.0                                 0.0   \n",
            "2981  0.0  0.0                       0.0                                 0.0   \n",
            "2982  0.0  0.0                       0.0                                 0.0   \n",
            "2983  0.0  0.0                       0.0                                 0.0   \n",
            "2984  0.0  0.0                       0.0                                 0.0   \n",
            "2985  0.0  0.0                       0.0                                 0.0   \n",
            "2986  0.0  0.0                       0.0                                 0.0   \n",
            "2987  0.0  0.0                       0.0                                 0.0   \n",
            "2988  0.0  0.0                       0.0                                 0.0   \n",
            "2989  0.0  0.0                       0.0                                 0.0   \n",
            "2990  0.0  0.0                       0.0                                 0.0   \n",
            "2991  0.0  0.0                       0.0                                 0.0   \n",
            "2992  0.0  0.0                       0.0                                 0.0   \n",
            "2993  0.0  0.0                       0.0                                 0.0   \n",
            "2994  0.0  0.0                       0.0                                 0.0   \n",
            "2995  0.0  0.0                       0.0                                 0.0   \n",
            "2996  0.0  0.0                       0.0                                 0.0   \n",
            "2997  0.0  0.0                       0.0                                 0.0   \n",
            "2998  0.0  0.0                       0.0                                 0.0   \n",
            "\n",
            "      aaaaaaaaaaaaaaaaghhhhhhhhhhhhhhhh  aaaaaahhhhhhh  aaaaargh  aace  \\\n",
            "0                                   0.0            0.0       0.0   0.0   \n",
            "1                                   0.0            0.0       0.0   0.0   \n",
            "2                                   0.0            0.0       0.0   0.0   \n",
            "3                                   0.0            0.0       0.0   0.0   \n",
            "4                                   0.0            0.0       0.0   0.0   \n",
            "5                                   0.0            0.0       0.0   0.0   \n",
            "6                                   0.0            0.0       0.0   0.0   \n",
            "7                                   0.0            0.0       0.0   0.0   \n",
            "8                                   0.0            0.0       0.0   0.0   \n",
            "9                                   0.0            0.0       0.0   0.0   \n",
            "10                                  0.0            0.0       0.0   0.0   \n",
            "11                                  0.0            0.0       0.0   0.0   \n",
            "12                                  0.0            0.0       0.0   0.0   \n",
            "13                                  0.0            0.0       0.0   0.0   \n",
            "14                                  0.0            0.0       0.0   0.0   \n",
            "15                                  0.0            0.0       0.0   0.0   \n",
            "16                                  0.0            0.0       0.0   0.0   \n",
            "17                                  0.0            0.0       0.0   0.0   \n",
            "18                                  0.0            0.0       0.0   0.0   \n",
            "19                                  0.0            0.0       0.0   0.0   \n",
            "20                                  0.0            0.0       0.0   0.0   \n",
            "21                                  0.0            0.0       0.0   0.0   \n",
            "22                                  0.0            0.0       0.0   0.0   \n",
            "23                                  0.0            0.0       0.0   0.0   \n",
            "24                                  0.0            0.0       0.0   0.0   \n",
            "25                                  0.0            0.0       0.0   0.0   \n",
            "26                                  0.0            0.0       0.0   0.0   \n",
            "27                                  0.0            0.0       0.0   0.0   \n",
            "28                                  0.0            0.0       0.0   0.0   \n",
            "29                                  0.0            0.0       0.0   0.0   \n",
            "...                                 ...            ...       ...   ...   \n",
            "2969                                0.0            0.0       0.0   0.0   \n",
            "2970                                0.0            0.0       0.0   0.0   \n",
            "2971                                0.0            0.0       0.0   0.0   \n",
            "2972                                0.0            0.0       0.0   0.0   \n",
            "2973                                0.0            0.0       0.0   0.0   \n",
            "2974                                0.0            0.0       0.0   0.0   \n",
            "2975                                0.0            0.0       0.0   0.0   \n",
            "2976                                0.0            0.0       0.0   0.0   \n",
            "2977                                0.0            0.0       0.0   0.0   \n",
            "2978                                0.0            0.0       0.0   0.0   \n",
            "2979                                0.0            0.0       0.0   0.0   \n",
            "2980                                0.0            0.0       0.0   0.0   \n",
            "2981                                0.0            0.0       0.0   0.0   \n",
            "2982                                0.0            0.0       0.0   0.0   \n",
            "2983                                0.0            0.0       0.0   0.0   \n",
            "2984                                0.0            0.0       0.0   0.0   \n",
            "2985                                0.0            0.0       0.0   0.0   \n",
            "2986                                0.0            0.0       0.0   0.0   \n",
            "2987                                0.0            0.0       0.0   0.0   \n",
            "2988                                0.0            0.0       0.0   0.0   \n",
            "2989                                0.0            0.0       0.0   0.0   \n",
            "2990                                0.0            0.0       0.0   0.0   \n",
            "2991                                0.0            0.0       0.0   0.0   \n",
            "2992                                0.0            0.0       0.0   0.0   \n",
            "2993                                0.0            0.0       0.0   0.0   \n",
            "2994                                0.0            0.0       0.0   0.0   \n",
            "2995                                0.0            0.0       0.0   0.0   \n",
            "2996                                0.0            0.0       0.0   0.0   \n",
            "2997                                0.0            0.0       0.0   0.0   \n",
            "2998                                0.0            0.0       0.0   0.0   \n",
            "\n",
            "      aacounts  aaf  ...  zunehd  zusak  zwan  zwiesel   zz  zzzzzzz  \\\n",
            "0          0.0  0.0  ...     0.0    0.0   0.0      0.0  0.0      0.0   \n",
            "1          0.0  0.0  ...     0.0    0.0   0.0      0.0  0.0      0.0   \n",
            "2          0.0  0.0  ...     0.0    0.0   0.0      0.0  0.0      0.0   \n",
            "3          0.0  0.0  ...     0.0    0.0   0.0      0.0  0.0      0.0   \n",
            "4          0.0  0.0  ...     0.0    0.0   0.0      0.0  0.0      0.0   \n",
            "5          0.0  0.0  ...     0.0    0.0   0.0      0.0  0.0      0.0   \n",
            "6          0.0  0.0  ...     0.0    0.0   0.0      0.0  0.0      0.0   \n",
            "7          0.0  0.0  ...     0.0    0.0   0.0      0.0  0.0      0.0   \n",
            "8          0.0  0.0  ...     0.0    0.0   0.0      0.0  0.0      0.0   \n",
            "9          0.0  0.0  ...     0.0    0.0   0.0      0.0  0.0      0.0   \n",
            "10         0.0  0.0  ...     0.0    0.0   0.0      0.0  0.0      0.0   \n",
            "11         0.0  0.0  ...     0.0    0.0   0.0      0.0  0.0      0.0   \n",
            "12         0.0  0.0  ...     0.0    0.0   0.0      0.0  0.0      0.0   \n",
            "13         0.0  0.0  ...     0.0    0.0   0.0      0.0  0.0      0.0   \n",
            "14         0.0  0.0  ...     0.0    0.0   0.0      0.0  0.0      0.0   \n",
            "15         0.0  0.0  ...     0.0    0.0   0.0      0.0  0.0      0.0   \n",
            "16         0.0  0.0  ...     0.0    0.0   0.0      0.0  0.0      0.0   \n",
            "17         0.0  0.0  ...     0.0    0.0   0.0      0.0  0.0      0.0   \n",
            "18         0.0  0.0  ...     0.0    0.0   0.0      0.0  0.0      0.0   \n",
            "19         0.0  0.0  ...     0.0    0.0   0.0      0.0  0.0      0.0   \n",
            "20         0.0  0.0  ...     0.0    0.0   0.0      0.0  0.0      0.0   \n",
            "21         0.0  0.0  ...     0.0    0.0   0.0      0.0  0.0      0.0   \n",
            "22         0.0  0.0  ...     0.0    0.0   0.0      0.0  0.0      0.0   \n",
            "23         0.0  0.0  ...     0.0    0.0   0.0      0.0  0.0      0.0   \n",
            "24         0.0  0.0  ...     0.0    0.0   0.0      0.0  0.0      0.0   \n",
            "25         0.0  0.0  ...     0.0    0.0   0.0      0.0  0.0      0.0   \n",
            "26         0.0  0.0  ...     0.0    0.0   0.0      0.0  0.0      0.0   \n",
            "27         0.0  0.0  ...     0.0    0.0   0.0      0.0  0.0      0.0   \n",
            "28         0.0  0.0  ...     0.0    0.0   0.0      0.0  0.0      0.0   \n",
            "29         0.0  0.0  ...     0.0    0.0   0.0      0.0  0.0      0.0   \n",
            "...        ...  ...  ...     ...    ...   ...      ...  ...      ...   \n",
            "2969       0.0  0.0  ...     0.0    0.0   0.0      0.0  0.0      0.0   \n",
            "2970       0.0  0.0  ...     0.0    0.0   0.0      0.0  0.0      0.0   \n",
            "2971       0.0  0.0  ...     0.0    0.0   0.0      0.0  0.0      0.0   \n",
            "2972       0.0  0.0  ...     0.0    0.0   0.0      0.0  0.0      0.0   \n",
            "2973       0.0  0.0  ...     0.0    0.0   0.0      0.0  0.0      0.0   \n",
            "2974       0.0  0.0  ...     0.0    0.0   0.0      0.0  0.0      0.0   \n",
            "2975       0.0  0.0  ...     0.0    0.0   0.0      0.0  0.0      0.0   \n",
            "2976       0.0  0.0  ...     0.0    0.0   0.0      0.0  0.0      0.0   \n",
            "2977       0.0  0.0  ...     0.0    0.0   0.0      0.0  0.0      0.0   \n",
            "2978       0.0  0.0  ...     0.0    0.0   0.0      0.0  0.0      0.0   \n",
            "2979       0.0  0.0  ...     0.0    0.0   0.0      0.0  0.0      0.0   \n",
            "2980       0.0  0.0  ...     0.0    0.0   0.0      0.0  0.0      0.0   \n",
            "2981       0.0  0.0  ...     0.0    0.0   0.0      0.0  0.0      0.0   \n",
            "2982       0.0  0.0  ...     0.0    0.0   0.0      0.0  0.0      0.0   \n",
            "2983       0.0  0.0  ...     0.0    0.0   0.0      0.0  0.0      0.0   \n",
            "2984       0.0  0.0  ...     0.0    0.0   0.0      0.0  0.0      0.0   \n",
            "2985       0.0  0.0  ...     0.0    0.0   0.0      0.0  0.0      0.0   \n",
            "2986       0.0  0.0  ...     0.0    0.0   0.0      0.0  0.0      0.0   \n",
            "2987       0.0  0.0  ...     0.0    0.0   0.0      0.0  0.0      0.0   \n",
            "2988       0.0  0.0  ...     0.0    0.0   0.0      0.0  0.0      0.0   \n",
            "2989       0.0  0.0  ...     0.0    0.0   0.0      0.0  0.0      0.0   \n",
            "2990       0.0  0.0  ...     0.0    0.0   0.0      0.0  0.0      0.0   \n",
            "2991       0.0  0.0  ...     0.0    0.0   0.0      0.0  0.0      0.0   \n",
            "2992       0.0  0.0  ...     0.0    0.0   0.0      0.0  0.0      0.0   \n",
            "2993       0.0  0.0  ...     0.0    0.0   0.0      0.0  0.0      0.0   \n",
            "2994       0.0  0.0  ...     0.0    0.0   0.0      0.0  0.0      0.0   \n",
            "2995       0.0  0.0  ...     0.0    0.0   0.0      0.0  0.0      0.0   \n",
            "2996       0.0  0.0  ...     0.0    0.0   0.0      0.0  0.0      0.0   \n",
            "2997       0.0  0.0  ...     0.0    0.0   0.0      0.0  0.0      0.0   \n",
            "2998       0.0  0.0  ...     0.0    0.0   0.0      0.0  0.0      0.0   \n",
            "\n",
            "      zzzzzzzzzzz  zzzzzzzzzzzz  zzzzzzzzzzzzzz  Sentiment  \n",
            "0             0.0           0.0             0.0          0  \n",
            "1             0.0           0.0             0.0          0  \n",
            "2             0.0           0.0             0.0          0  \n",
            "3             0.0           0.0             0.0          0  \n",
            "4             0.0           0.0             0.0          0  \n",
            "5             0.0           0.0             0.0          0  \n",
            "6             0.0           0.0             0.0          0  \n",
            "7             0.0           0.0             0.0          0  \n",
            "8             0.0           0.0             0.0          0  \n",
            "9             0.0           0.0             0.0          0  \n",
            "10            0.0           0.0             0.0          0  \n",
            "11            0.0           0.0             0.0          0  \n",
            "12            0.0           0.0             0.0          1  \n",
            "13            0.0           0.0             0.0          0  \n",
            "14            0.0           0.0             0.0          0  \n",
            "15            0.0           0.0             0.0          1  \n",
            "16            0.0           0.0             0.0          0  \n",
            "17            0.0           0.0             0.0          1  \n",
            "18            0.0           0.0             0.0          0  \n",
            "19            0.0           0.0             0.0          0  \n",
            "20            0.0           0.0             0.0          0  \n",
            "21            0.0           0.0             0.0          0  \n",
            "22            0.0           0.0             0.0          1  \n",
            "23            0.0           0.0             0.0          1  \n",
            "24            0.0           0.0             0.0          1  \n",
            "25            0.0           0.0             0.0          1  \n",
            "26            0.0           0.0             0.0          0  \n",
            "27            0.0           0.0             0.0          1  \n",
            "28            0.0           0.0             0.0          0  \n",
            "29            0.0           0.0             0.0          1  \n",
            "...           ...           ...             ...        ...  \n",
            "2969          0.0           0.0             0.0          1  \n",
            "2970          0.0           0.0             0.0          0  \n",
            "2971          0.0           0.0             0.0          0  \n",
            "2972          0.0           0.0             0.0          0  \n",
            "2973          0.0           0.0             0.0          0  \n",
            "2974          0.0           0.0             0.0          1  \n",
            "2975          0.0           0.0             0.0          1  \n",
            "2976          0.0           0.0             0.0          1  \n",
            "2977          0.0           0.0             0.0          1  \n",
            "2978          0.0           0.0             0.0          1  \n",
            "2979          0.0           0.0             0.0          1  \n",
            "2980          0.0           0.0             0.0          1  \n",
            "2981          0.0           0.0             0.0          0  \n",
            "2982          0.0           0.0             0.0          0  \n",
            "2983          0.0           0.0             0.0          1  \n",
            "2984          0.0           0.0             0.0          0  \n",
            "2985          0.0           0.0             0.0          0  \n",
            "2986          0.0           0.0             0.0          0  \n",
            "2987          0.0           0.0             0.0          0  \n",
            "2988          0.0           0.0             0.0          0  \n",
            "2989          0.0           0.0             0.0          1  \n",
            "2990          0.0           0.0             0.0          1  \n",
            "2991          0.0           0.0             0.0          0  \n",
            "2992          0.0           0.0             0.0          1  \n",
            "2993          0.0           0.0             0.0          0  \n",
            "2994          0.0           0.0             0.0          1  \n",
            "2995          0.0           0.0             0.0          1  \n",
            "2996          0.0           0.0             0.0          1  \n",
            "2997          0.0           0.0             0.0          0  \n",
            "2998          0.0           0.0             0.0          1  \n",
            "\n",
            "[2999 rows x 35081 columns]\n"
          ],
          "name": "stdout"
        }
      ]
    },
    {
      "cell_type": "code",
      "metadata": {
        "id": "ekxJAix8nASF",
        "colab": {
          "base_uri": "https://localhost:8080/",
          "height": 85
        },
        "outputId": "bc00e583-ee62-4351-e7de-269f8ece2e00"
      },
      "source": [
        "print(\"\\nTrain Features shape:\",train_features_df.shape)\n",
        "print(\"\\nTest Features shape:\",test_features_df.shape)\n"
      ],
      "execution_count": null,
      "outputs": [
        {
          "output_type": "stream",
          "text": [
            "\n",
            "Train Features shape: (10001, 35081)\n",
            "\n",
            "Test Features shape: (2999, 35081)\n"
          ],
          "name": "stdout"
        }
      ]
    },
    {
      "cell_type": "code",
      "metadata": {
        "id": "T5d713VfnAST"
      },
      "source": [
        "train_encoded_labels = train_features_df[['Sentiment']]\n",
        "\n",
        "test_encoded_labels = test_features_df[['Sentiment']]\n",
        "\n",
        "train_features = train_features_df.drop(['Sentiment'],axis=1)\n",
        "\n",
        "\n",
        "test_features = test_features_df.drop(['Sentiment'],axis=1)\n",
        "\n",
        "\n",
        "sparse_train_features = scipy.sparse.csr_matrix(train_features_df.values)\n",
        "\n",
        "sparse_test_features = scipy.sparse.csr_matrix(test_features_df.values)\n",
        "\n",
        "\n"
      ],
      "execution_count": null,
      "outputs": []
    },
    {
      "cell_type": "markdown",
      "metadata": {
        "id": "fitHYYfknASi"
      },
      "source": [
        "### Train Machine Learning Algorithms using Training Data\n"
      ]
    },
    {
      "cell_type": "markdown",
      "metadata": {
        "id": "Yu2Mq3ntnASn"
      },
      "source": [
        "### Random Forest"
      ]
    },
    {
      "cell_type": "code",
      "metadata": {
        "id": "HD5dSJy4nASo"
      },
      "source": [
        "random_forest_classifier = RandomForestClassifier()\n",
        "print(\"Paramenters and their values:\\n\")\n",
        "print(random_forest_classifier)\n",
        "random_forest_classifier.fit(sparse_train_features,np.ravel(train_encoded_labels))\n"
      ],
      "execution_count": null,
      "outputs": []
    },
    {
      "cell_type": "code",
      "metadata": {
        "id": "Tgdp6xu1nAS4"
      },
      "source": [
        "scores=[]\n",
        "print(\"Before Prediction using Random Forest Classifier:\\n\")\n",
        "print(test_dataset)\n",
        "y_pred = random_forest_classifier.predict(sparse_test_features)\n",
        "score = round(accuracy_score(test_encoded_labels,y_pred),2)\n",
        "\n",
        "inverse_transform = labelEncoder.inverse_transform(y_pred)\n",
        "print(\"\\n\\n\\nAfter Prediction using Random Forest Classifier:\\n\")\n",
        "print(test_dataset.assign(predicted_sentiment = inverse_transform))\n",
        "print(\"\\n\\nAccuracy score= \",score)\n",
        "scores.append(score)"
      ],
      "execution_count": null,
      "outputs": []
    },
    {
      "cell_type": "markdown",
      "metadata": {
        "id": "r13YRgSYnAS-"
      },
      "source": [
        "### Application Phase"
      ]
    },
    {
      "cell_type": "code",
      "metadata": {
        "id": "bBq8nYfSnATD"
      },
      "source": [
        "all_features = pd.concat([train_features,test_features])\n",
        "labels = pd.concat([train_encoded_labels,test_encoded_labels])\n",
        "print(\"All Features Dataframe with Labels/output:\\n\")\n",
        "all_features.index.names=['index']\n",
        "all_features.columns.name=all_features.index.name\n",
        "all_features.index.name=None\n",
        "all_features=scipy.sparse.csr_matrix(all_features.values)\n",
        "#print(all_features.assign(Sentiment=labels))"
      ],
      "execution_count": null,
      "outputs": []
    },
    {
      "cell_type": "code",
      "metadata": {
        "id": "vq_eyBobnATI"
      },
      "source": [
        "random_forest_classifier.fit(all_features,np.ravel(labels))"
      ],
      "execution_count": null,
      "outputs": []
    },
    {
      "cell_type": "code",
      "metadata": {
        "id": "D6sDqqAxnATO"
      },
      "source": [
        "pickle.dump(random_forest_classifier, open('RandomForestClassifier.pkl','wb'))"
      ],
      "execution_count": null,
      "outputs": []
    },
    {
      "cell_type": "code",
      "metadata": {
        "id": "uE1y8bl4nATY"
      },
      "source": [
        "classifier=pickle.load(open('RandomForestClassifier.pkl','rb'))"
      ],
      "execution_count": null,
      "outputs": []
    },
    {
      "cell_type": "code",
      "metadata": {
        "id": "SBvzLOPsnATb",
        "colab": {
          "base_uri": "https://localhost:8080/",
          "height": 34
        },
        "outputId": "29af9bfd-286f-4f88-cb1e-b39a45f48859"
      },
      "source": [
        "user_input=input(\"Please enter your Review here: \").strip()\n"
      ],
      "execution_count": null,
      "outputs": [
        {
          "output_type": "stream",
          "text": [
            "Please enter your Review here: this is for the first time that I have bought a product online and I am highly disappointed.\n"
          ],
          "name": "stdout"
        }
      ]
    },
    {
      "cell_type": "code",
      "metadata": {
        "id": "HqKRqQE0nATk",
        "colab": {
          "base_uri": "https://localhost:8080/",
          "height": 445
        },
        "outputId": "3f42448c-9b58-4610-8d2d-7e1e4f7c7500"
      },
      "source": [
        "data=[user_input]\n",
        "transformed_input=vect.transform(data)\n",
        "print(\"\\n\\nVector features: \",vect.get_feature_names(),\"\\n\\n\")\n",
        "user_input_features=pd.DataFrame(transformed_input.toarray(),\n",
        "columns=vect.get_feature_names())\n",
        "print(\"\\n\\nUser input features with weights\\n\\n\",user_input_features,\"\\n\\n\")"
      ],
      "execution_count": null,
      "outputs": [
        {
          "output_type": "stream",
          "text": [
            "\n",
            "\n",
            "Vector features:  ['aa batteries', 'ab smal', 'abbott costello', 'able bu', 'able cd', 'able connect', 'able control', 'able enjo', 'able game', 'able hear', 'able listen', 'able look', 'able make', 'able pla', 'able read', 'able s', 'able tell', 'able use', 'able work', 'able write', 'absolute beginners', 'absolute best', 'absolute favorite', 'absolute worst', 'absolutel ama', 'absolutel awful', 'absolutel beautiful', 'absolutel best', 'absolutel fascinating', 'absolutel hilarious', 'absolutel horrible', 'absolutel love', 'absolutel loved', 'absolutel loves', 'absolutel perfect', 'absolutel wonderful', 'abuse book', 'abuse child', 'ac adapter', 'ac adaptor', 'ac dc', 'access internet', 'accompan ing', 'accompanied b', 'according m', 'acoustic alchem', 'acoustic guitar', 'act like', 'acting bad', 'acting just', 'acting like', 'action figure', 'action movie', 'action movies', 'action ou', 'action packed', 'actors film', 'acts like', 'actual product', 'actuall bought', 'actuall did', 'actuall enjo', 'actuall got', 'actuall ou', 'actuall pla', 'actuall prett', 'actuall read', 'actuall s', 'actuall use', 'actuall ver', 'actuall works', 'adam sandler', 'add collection', 'add m', 'added bonus', 'addict s', 'addition collection', 'addition m', 'adjust volume', 'advanced pla', 'advice book', 'advice don', 'african american', 'agatha christie', 'age old', 'ages m', 'ago bought', 'ago just', 'ago m', 'ago s', 'ago think', 'agoni ing', 'agree man', 'agree previous', 'agree reviewer', 'agree reviewers', 'agree reviews', 'agree s', 'ahead bu', 'ahead time', 'ain t', 'air purifier', 'al son', 'alarm clock', 'alarm volume', 'album actuall', 'album album', 'album ama', 'album b', 'album best', 'album better', 'album blows', 'album cd', 'album covers', 'album da', 'album definatel', 'album definitel', 'album different', 'album does', 'album far', 'album good', 'album got', 'album great', 'album gu', 'album just', 'album like', 'album love', 'album m', 'album man', 'album new', 'album onl', 'album ou', 'album prett', 'album probabl', 'album quite', 'album real', 'album reall', 'album s', 'album solid', 'album songs', 'album t', 'album think', 'album thought', 'album time', 'album trul', 'album ve', 'album ver', 'album wonderful', 'albums ou', 'albums ve', 'allow m', 'allow ou', 'allows ou', 'allows reader', 'alot better', 'alot fun', 'alot people', 'alread bought', 'alread knew', 'alread know', 'alread m', 'alread read', 'alread said', 'altec lansing', 'alwa s', 'ama b', 'ama best', 'ama com', 'ama did', 'ama ed', 'ama got', 'ama great', 'ama ing', 'ama ingl', 'ama just', 'ama m', 'ama onl', 'ama ons', 'ama order', 'ama ou', 'ama prime', 'ama product', 'ama purchase', 'ama reall', 'ama refund', 'ama s', 'ama sa', 'ama sell', 'ama sent', 'ama uk', 'ama ver', 'america s', 'american histor', 'anal sis', 'anime series', 'ann coulter', 'anno ance', 'anno ed', 'anno ing', 'anno ingl', 'anon mous', 'answer questions', 'answered m', 'answering machine', 'answers m', 'answers questions', 'apologi e', 'apparent reason', 'apparentl m', 'apparentl s', 'appears m', 'appl ing', 'apple cable', 'apple ipod', 'appreciate book', 'appreciate good', 'ard o', 'ard s', 'area just', 'area s', 'area ver', 'aren t', 'ari hest', 'ari ona', 'arms legs', 'arrived broken', 'arrived da', 'arrived m', 'arrived promptl', 'arrived quickl', 'arrived time', 'arrived timel', 'art form', 'art just', 'art supplies', 'art teacher', 'art work', 'artist s', 'artists like', 'asian american', 'ask ou', 'ask s', 'asked m', 'assembl instructions', 'assorted colors', 'assure ou', 'astral projection', 'attach m', 'attempt make', 'attention m', 'attention ou', 'attention s', 'audio book', 'audio books', 'audio cd', 'audio qualit', 'audio track', 'audio video', 'author book', 'author clearl', 'author definitel', 'author did', 'author does', 'author doesn', 'author fails', 'author gives', 'author just', 'author know', 'author makes', 'author publisher', 'author reall', 'author s', 'author sa', 'author suggests', 'author tr', 'author uses', 'author ver', 'author write', 'authored b', 'authori ed', 'authors book', 'authors books', 'autistic person', 'available ama', 'available dvd', 'available internet', 'available m', 'available time', 'avant garde', 'average best', 'average person', 'avid liquid', 'avid reader', 'avoid book', 'avoid costs', 'avoid like', 'avoid product', 'awa b', 'awa book', 'awa bought', 'awa da', 'awa don', 'awa m', 'awa onl', 'awa ou', 'awa product', 'awa s', 'awa use', 'award winning', 'aware ou', 'awesome book', 'awesome cd', 'awesome game', 'awesome great', 'awesome just', 'awesome love', 'awesome m', 'awesome ou', 'awesome price', 'awesome product', 'awful awful', 'awful book', 'awful don', 'awful m', 'awful movie', 'awful s', 'b accident', 'b ama', 'b andrew', 'b author', 'b authors', 'b b', 'b band', 'b book', 'b bu', 'b c', 'b chance', 'b compan', 'b comparison', 'b cover', 'b d', 'b david', 'b different', 'b doing', 'b dr', 'b dvd', 'b e', 'b ear', 'b end', 'b fact', 'b far', 'b frank', 'b friend', 'b giving', 'b good', 'b great', 'b h', 'b hand', 'b having', 'b holding', 'b john', 'b just', 'b k', 'b kids', 'b lack', 'b little', 'b looking', 'b m', 'b mail', 'b making', 'b man', 'b markus', 'b means', 'b michael', 'b movie', 'b mr', 'b ms', 'b music', 'b new', 'b numbers', 'b ou', 'b oung', 'b people', 'b product', 'b purchasing', 'b putting', 'b qualit', 'b reading', 'b reviewer', 'b reviews', 'b richard', 'b robert', 'b s', 'b sa', 'b seller', 'b selling', 'b sheer', 'b son', 'b star', 'b step', 'b stor', 'b strong', 'b susan', 'b t', 'b talented', 'b thought', 'b time', 'b toda', 'b using', 'b ver', 'b w', 'b wa', 'b watching', 'bab bo', 'bab book', 'bab boomers', 'bab girl', 'bab s', 'backed b', 'background knowledge', 'background music', 'background noise', 'backstreet bo', 'bad acting', 'bad album', 'bad bad', 'bad batch', 'bad bo', 'bad book', 'bad bought', 'bad bu', 'bad choice', 'bad couldn', 'bad don', 'bad dvd', 'bad experience', 'bad game', 'bad good', 'bad great', 'bad gu', 'bad idea', 'bad just', 'bad little', 'bad love', 'bad luck', 'bad m', 'bad movie', 'bad music', 'bad ou', 'bad people', 'bad picture', 'bad product', 'bad qualit', 'bad reall', 'bad review', 'bad reviews', 'bad s', 'bad sa', 'bad songs', 'bad sound', 'bad stor', 'bad taste', 'bad thing', 'bad things', 'bad ver', 'bad wa', 'bad won', 'bad writing', 'badl written', 'bag m', 'ball m', 'ball z', 'band great', 'band like', 'band member', 'band ou', 'band s', 'bang buck', 'base unit', 'baseball game', 'based m', 'based reviews', 'based true', 'basic book', 'basic concepts', 'basic information', 'basic plot', 'bass pla', 'bass treble', 'batman ond', 'batter batter', 'batter came', 'batter charge', 'batter charged', 'batter charger', 'batter compartment', 'batter did', 'batter died', 'batter does', 'batter doesn', 'batter good', 'batter lasted', 'batter life', 'batter operated', 'batter packs', 'batter power', 'batter s', 'batter works', 'beat game', 'beat price', 'beatrix potter', 'beaut beast', 'beautiful book', 'beautiful music', 'beautiful stor', 'beautiful watch', 'beautifull written', 'bee gees', 'beginners book', 'beginning book', 'beginning end', 'belief s', 'believable characters', 'believe ama', 'believe book', 'believe did', 'believe footage', 'believe god', 'believe m', 'believe ou', 'believe people', 'believe read', 'believe s', 'believe sa', 'bell dance', 'bell tower', 'bells whistles', 'belt clip', 'best album', 'best albums', 'best b', 'best bands', 'best best', 'best book', 'best books', 'best bu', 'best cd', 'best cds', 'best choice', 'best efforts', 'best et', 'best far', 'best feature', 'best friend', 'best game', 'best games', 'best harr', 'best investment', 'best just', 'best like', 'best little', 'best live', 'best love', 'best m', 'best movie', 'best new', 'best ones', 'best ou', 'best price', 'best qualit', 'best read', 'best reall', 'best s', 'best selling', 'best series', 'best shower', 'best simon', 'best song', 'best songs', 'best thing', 'best tracks', 'best used', 'best ve', 'best wa', 'best work', 'best worst', 'bet ou', 'betra al', 'betra ed', 'better alternative', 'better b', 'better better', 'better book', 'better books', 'better bought', 'better bu', 'better built', 'better cd', 'better cheaper', 'better choice', 'better choices', 'better da', 'better deal', 'better did', 'better didn', 'better ears', 'better et', 'better expected', 'better faster', 'better game', 'better gets', 'better good', 'better graphics', 'better great', 'better having', 'better job', 'better just', 'better known', 'better like', 'better little', 'better lot', 'better luck', 'better m', 'better man', 'better movie', 'better onl', 'better original', 'better ou', 'better price', 'better product', 'better qualit', 'better read', 'better reall', 'better s', 'better sa', 'better sound', 'better spent', 'better sta', 'better suited', 'better thing', 'better think', 'better thought', 'better time', 'better understand', 'better understanding', 'better using', 'better wa', 'beware ou', 'bi arre', 'bi kit', 'big band', 'big book', 'big box', 'big bucks', 'big deal', 'big difference', 'big disappointment', 'big fan', 'big fit', 'big heav', 'big help', 'big let', 'big letdown', 'big m', 'big mistake', 'big plus', 'big problem', 'big s', 'big screen', 'big sound', 'big surprise', 'big time', 'big waste', 'bigger si', 'biggest problem', 'bike shop', 'bipolar disorder', 'birthda gift', 'birthda loves', 'birthda present', 'bit better', 'bit disappointed', 'bit hard', 'bit long', 'bit longer', 'bit m', 'bit slow', 'bla bla', 'bla e', 'black album', 'black decker', 'black ink', 'black metal', 'black screen', 'black white', 'blah blah', 'bless ou', 'blew awa', 'block s', 'blood prince', 'blood t', 'blow awa', 'blow dr', 'blown awa', 'blows awa', 'blu ra', 'blue note', 'blue ra', 'blues harp', 'bo band', 'bo bands', 'bo does', 'bo friend', 'bo s', 'bo wrong', 'board book', 'board game', 'bob d', 'bob grant', 'bod language', 'bod s', 'bod soul', 'bod work', 'boll wood', 'bonus features', 'bonus tracks', 'book absolutel', 'book action', 'book actuall', 'book advocates', 'book allows', 'book alot', 'book alread', 'book alwa', 'book ama', 'book appeared', 'book appears', 'book arrived', 'book author', 'book authors', 'book available', 'book awa', 'book awesome', 'book awful', 'book b', 'book bad', 'book based', 'book beautiful', 'book beginner', 'book beginners', 'book believe', 'book best', 'book better', 'book big', 'book bit', 'book book', 'book books', 'book boring', 'book bought', 'book brought', 'book bu', 'book called', 'book came', 'book cd', 'book certainl', 'book change', 'book characters', 'book child', 'book children', 'book christian', 'book christmas', 'book class', 'book clear', 'book clearl', 'book club', 'book collection', 'book college', 'book come', 'book comes', 'book common', 'book complete', 'book completel', 'book contains', 'book couldn', 'book couple', 'book cover', 'book covers', 'book d', 'book da', 'book date', 'book dealing', 'book deals', 'book definitel', 'book described', 'book description', 'book deserves', 'book did', 'book didn', 'book different', 'book difficult', 'book disappointed', 'book disgrace', 'book does', 'book doesn', 'book doing', 'book don', 'book doubt', 'book e', 'book ears', 'book eas', 'book easil', 'book end', 'book ended', 'book enjo', 'book entertaining', 'book entirel', 'book errors', 'book especiall', 'book et', 'book exactl', 'book excellent', 'book expected', 'book explains', 'book extremel', 'book fact', 'book fails', 'book fan', 'book fantastic', 'book far', 'book fast', 'book feel', 'book felt', 'book filled', 'book fine', 'book finished', 'book fit', 'book focuses', 'book friend', 'book friends', 'book fun', 'book funn', 'book garbage', 'book gave', 'book gets', 'book getting', 'book gift', 'book girl', 'book gives', 'book goes', 'book going', 'book good', 'book got', 'book great', 'book group', 'book half', 'book hand', 'book happ', 'book happened', 'book hard', 'book having', 'book held', 'book help', 'book helped', 'book helpful', 'book helps', 'book high', 'book highl', 'book histor', 'book hope', 'book hopes', 'book hoping', 'book horrible', 'book huge', 'book idea', 'book important', 'book includes', 'book incredibl', 'book information', 'book inspired', 'book instead', 'book interested', 'book interesting', 'book isn', 'book jo', 'book joke', 'book just', 'book kept', 'book kids', 'book kind', 'book knew', 'book know', 'book lacks', 'book large', 'book learn', 'book left', 'book let', 'book librar', 'book life', 'book like', 'book liked', 'book little', 'book ll', 'book local', 'book long', 'book look', 'book looking', 'book looks', 'book lot', 'book lots', 'book love', 'book loved', 'book m', 'book ma', 'book main', 'book major', 'book make', 'book makes', 'book making', 'book man', 'book month', 'book mostl', 'book movie', 'book ms', 'book need', 'book needs', 'book new', 'book nice', 'book night', 'book note', 'book obviousl', 'book offered', 'book offers', 'book ok', 'book onl', 'book open', 'book opened', 'book ordered', 'book organi', 'book original', 'book ou', 'book oung', 'book ourself', 'book page', 'book pages', 'book parents', 'book people', 'book perfect', 'book person', 'book picked', 'book plot', 'book poetr', 'book poor', 'book poorl', 'book presents', 'book prett', 'book print', 'book probabl', 'book project', 'book provided', 'book provides', 'book ps', 'book published', 'book pulled', 'book purchase', 'book purchased', 'book quite', 'book read', 'book reading', 'book reads', 'book real', 'book reall', 'book received', 'book recommend', 'book recommended', 'book reference', 'book report', 'book required', 'book rest', 'book returned', 'book reveals', 'book review', 'book right', 'book s', 'book sa', 'book said', 'book save', 'book second', 'book series', 'book seriousl', 'book set', 'book seven', 'book shelf', 'book short', 'book shows', 'book simpl', 'book simple', 'book slow', 'book sounded', 'book sta', 'book star', 'book stars', 'book start', 'book started', 'book starts', 'book stor', 'book store', 'book stories', 'book struggling', 'book stud', 'book subject', 'book sucks', 'book summer', 'book supports', 'book sure', 'book t', 'book takes', 'book talks', 'book teach', 'book teaches', 'book tell', 'book tells', 'book terrible', 'book text', 'book th', 'book thank', 'book thief', 'book thing', 'book think', 'book thinking', 'book thoroughl', 'book thought', 'book time', 'book times', 'book title', 'book took', 'book total', 'book totall', 'book tr', 'book training', 'book trul', 'book understand', 'book unless', 'book use', 'book used', 'book useful', 'book using', 'book valuable', 'book ve', 'book ver', 'book wa', 'book want', 'book wanted', 'book wants', 'book wasn', 'book waste', 'book web', 'book week', 'book weeks', 'book went', 'book wh', 'book won', 'book wonderful', 'book word', 'book work', 'book worst', 'book worth', 'book worthless', 'book wouldn', 'book writer', 'book writing', 'book written', 'book wrote', 'books alwa', 'books ama', 'books available', 'books b', 'books best', 'books better', 'books book', 'books bought', 'books did', 'books enjo', 'books great', 'books just', 'books like', 'books love', 'books m', 'books ou', 'books published', 'books read', 'books real', 'books reall', 'books series', 'books subject', 'books thought', 'books time', 'books ve', 'books ver', 'books written', 'bored tears', 'boring book', 'boring books', 'boring just', 'boring movie', 'boring onl', 'boring ou', 'boring s', 'bother book', 'bother s', 'bothered b', 'bottle brush', 'bought album', 'bought ama', 'bought based', 'bought book', 'bought bought', 'bought brand', 'bought camera', 'bought cd', 'bought charger', 'bought christmas', 'bought cop', 'bought copies', 'bought da', 'bought device', 'bought different', 'bought dvd', 'bought ear', 'bought ears', 'bought friend', 'bought game', 'bought gift', 'bought item', 'bought just', 'bought m', 'bought machine', 'bought man', 'bought movie', 'bought new', 'bought ou', 'bought pair', 'bought pan', 'bought phone', 'bought pla', 'bought product', 'bought replace', 'bought s', 'bought second', 'bought set', 'bought son', 'bought thing', 'bought thinking', 'bought unit', 'bought use', 'bought used', 'bought ver', 'bought video', 'bought wa', 'box came', 'box m', 'box ou', 'box sa', 'box set', 'box ver', 'boxed set', 'bra ilian', 'brad games', 'brain dead', 'brand m', 'brand new', 'bre er', 'break m', 'break ou', 'breath fresh', 'bree e', 'brenda lee', 'bring m', 'britne spears', 'broad range', 'broke da', 'broke ears', 'broke m', 'broke minutes', 'broke months', 'broke onl', 'broke use', 'broke ver', 'broke week', 'broken bought', 'bron e', 'brother law', 'brother s', 'brown s', 'bruce campbell', 'bruce lee', 'brush heads', 'bu album', 'bu b', 'bu best', 'bu better', 'bu book', 'bu books', 'bu bought', 'bu brand', 'bu bu', 'bu camera', 'bu canon', 'bu cd', 'bu compan', 'bu cop', 'bu copies', 'bu different', 'bu doesn', 'bu don', 'bu dvd', 'bu enjo', 'bu er', 'bu ers', 'bu game', 'bu good', 'bu got', 'bu great', 'bu ing', 'bu instead', 'bu item', 'bu just', 'bu like', 'bu listen', 'bu local', 'bu m', 'bu movie', 'bu needed', 'bu new', 'bu onl', 'bu online', 'bu original', 'bu ou', 'bu piece', 'bu product', 'bu products', 'bu rent', 'bu replacement', 'bu right', 'bu s', 'bu season', 'bu second', 'bu seller', 'bu set', 'bu t', 'bu thing', 'bu toda', 'bu unless', 'bu ver', 'bu wish', 'bu won', 'bubble wrap', 'build qualit', 'built gps', 'business ou', 'business people', 'buy book', 'buy game', 'buy product', 'c cle', 'c cles', 'c cling', 'c d', 'c mon', 'c nic', 'c nical', 'c s', 'cable arrived', 'cable box', 'cable m', 'cable worked', 'cable works', 'cake decorating', 'cake plate', 'called ama', 'called compan', 'called customer', 'caller id', 'came apart', 'came awa', 'came big', 'came book', 'came broken', 'came da', 'came just', 'came m', 'came onl', 'came s', 'came ver', 'camera bag', 'camera great', 'camera ou', 'camera ver', 'camera work', 'camp chef', 'canon d', 'canon powershot', 'canon rebel', 'canon s', 'cape breton', 'capitali e', 'car accident', 'car cd', 'car charger', 'car s', 'car seat', 'carboh drate', 'card error', 'card game', 'card reader', 'card s', 'card ver', 'care book', 'care happens', 'care m', 'care ou', 'care people', 'care s', 'careful ou', 'carr ing', 'carr m', 'case m', 'case ou', 'case s', 'case studies', 'cash register', 'cash s', 'cassette tape', 'cast iron', 'cat food', 'cat genie', 'cat litter', 'catch m', 'categorical data', 'catholic church', 'caught m', 'cause ou', 'cause s', 'caused b', 'cd album', 'cd awesome', 'cd b', 'cd best', 'cd better', 'cd bought', 'cd bu', 'cd came', 'cd case', 'cd cd', 'cd classic', 'cd collection', 'cd contains', 'cd cover', 'cd da', 'cd did', 'cd didn', 'cd does', 'cd doesn', 'cd don', 'cd dvd', 'cd ears', 'cd enjo', 'cd excellent', 'cd fan', 'cd good', 'cd got', 'cd great', 'cd heard', 'cd included', 'cd just', 'cd like', 'cd listen', 'cd listened', 'cd love', 'cd m', 'cd ma', 'cd man', 'cd music', 'cd nice', 'cd onl', 'cd ou', 'cd pla', 'cd purchased', 'cd r', 'cd reall', 'cd recommend', 'cd released', 'cd rom', 'cd s', 'cd sa', 'cd set', 'cd songs', 'cd sound', 'cd stars', 'cd t', 'cd thing', 'cd think', 'cd thought', 'cd time', 'cd tracks', 'cd ve', 'cd ver', 'cd worth', 'cell phone', 'certain wa', 'certainl did', 'certainl doesn', 'certainl don', 'certainl worth', 'cf card', 'chain saw', 'chance bu', 'chance ou', 'chance pla', 'change life', 'change m', 'change ou', 'change thing', 'change time', 'changed batter', 'changed m', 'changed wa', 'changing m', 'chapter book', 'chapter ou', 'chapters book', 'chapters like', 'character animation', 'character book', 'character development', 'character m', 'character plot', 'character s', 'characteri ation', 'characters appear', 'characters book', 'characters developed', 'characters dimensional', 'characters good', 'characters great', 'characters interesting', 'characters just', 'characters likeable', 'characters m', 'characters ou', 'characters real', 'characters shallow', 'characters stor', 'characters ver', 'charge batteries', 'charge da', 'charge hours', 'charge m', 'charge onl', 'charge s', 'charge ver', 'charged batter', 'charger work', 'charger works', 'charlie parker', 'charlie s', 'chased b', 'chasing dime', 'cheap bu', 'cheap don', 'cheap imitation', 'cheap looking', 'cheap m', 'cheap ou', 'cheap piece', 'cheap plastic', 'cheap price', 'cheap product', 'cheap qualit', 'cheap s', 'cheap wa', 'cheap worth', 'cheaper price', 'check librar', 'check m', 'check ou', 'check s', 'check si', 'cheddar cheese', 'chi chi', 'child abuse', 'child adult', 'child book', 'child development', 'child like', 'child loves', 'child m', 'child rearing', 'child s', 'children adults', 'children age', 'children ages', 'children book', 'children ear', 'children love', 'children m', 'children ou', 'children pla', 'children read', 'children s', 'children understand', 'chili peppers', 'china ver', 'chinese music', 'cho pat', 'choice ou', 'choking ha', 'chris rock', 'christ s', 'christian book', 'christmas album', 'christmas cd', 'christmas ear', 'christmas gift', 'christmas loves', 'christmas m', 'christmas present', 'christmas reall', 'christmas s', 'christmas time', 'christmas tree', 'christopher moore', 'chronological order', 'circuit board', 'cit s', 'citi en', 'cities unclocked', 'civil rights', 'civil war', 'civili ation', 'clark terr', 'class m', 'classic album', 'classic movie', 'classic rock', 'classic songs', 'classical music', 'classics like', 'clean m', 'cleaning c', 'cleaning m', 'clear concise', 'clear m', 'clear picture', 'clear sound', 'clearl states', 'clearl written', 'cling bin', 'clint eastwood', 'clock face', 'clock m', 'clock radio', 'close shave', 'coffee hot', 'coffee m', 'coffee maker', 'coffee pot', 'coffee table', 'cold weather', 'cole porter', 'collection books', 'collection great', 'collection ou', 'collection s', 'collection short', 'collection songs', 'collector s', 'college level', 'college student', 'college students', 'color change', 'color photos', 'colored pencils', 'colored plastic', 'colors ver', 'com ou', 'come alive', 'come book', 'come close', 'come dvd', 'come expect', 'come hand', 'come home', 'come m', 'come ou', 'come time', 'come true', 'comes close', 'comes mind', 'comes s', 'comfortable grip', 'comfortable wear', 'comic book', 'coming m', 'coming ou', 'comments b', 'common problem', 'common sense', 'commonl used', 'compact flash', 'compan makes', 'compan s', 'compan said', 'compared m', 'compelling stor', 'complete lack', 'complete m', 'complete series', 'complete set', 'complete waste', 'completel dead', 'completel different', 'completel disappointed', 'completel satisfied', 'completel useless', 'computer game', 'computer ou', 'computer s', 'computeri ed', 'concept great', 'connection characters', 'connection m', 'connell s', 'consider m', 'considering bu', 'considering man', 'considering price', 'consumer reports', 'contact ou', 'contacted ama', 'contained book', 'content book', 'continue book', 'continue read', 'continue use', 'conve s', 'convection oven', 'cool game', 'cool love', 'cop book', 'cop ing', 'cop m', 'cop protection', 'cop read', 'cop right', 'correct si', 'correct time', 'cost send', 'couldn t', 'countr music', 'countr s', 'couple chapters', 'couple da', 'couple ears', 'couple hours', 'couple months', 'couple songs', 'couple times', 'couple weeks', 'course m', 'course ou', 'course s', 'cover art', 'cover book', 'cover cover', 'cover ou', 'covered b', 'cr ing', 'cr ptic', 'cr stal', 'cra e', 'cra ed', 'cra ola', 'cra ou', 'crap s', 'created b', 'credit card', 'crime stor', 'critical thinking', 'critici e', 'crock pot', 'cross pen', 'csi ny', 'cuisinart opener', 'culture shock', 'cup coffee', 'cup holders', 'cup tea', 'curling iron', 'current state', 'customer s', 'customer service', 'customer support', 'customi e', 'cut m', 'cute little', 'cute stor', 'cutting edge', 'd better', 'd book', 'd bought', 'd bu', 'd d', 'd e', 'd expect', 'd heard', 'd ing', 'd lan', 'd like', 'd link', 'd love', 'd mannose', 'd namic', 'd namics', 'd namite', 'd nast', 'd onl', 'd pad', 'd prefer', 'd read', 'd recommend', 'd return', 'd s', 'd sa', 'd slexia', 'd stars', 'd suggest', 'd think', 'd tr', 'd want', 'da age', 'da came', 'da da', 'da gift', 'da got', 'da just', 'da life', 'da light', 'da ling', 'da long', 'da m', 'da ou', 'da received', 'da s', 'da time', 'da tr', 'da use', 'da ver', 'da vinci', 'da week', 'dad s', 'dail basis', 'dail use', 'dalai lama', 'damage m', 'dance floor', 'dance music', 'dance ou', 'dark moon', 'daughter christmas', 'daughter got', 'daughter love', 'daughter loved', 'daughter loves', 'daughter months', 'daughter received', 'daughter s', 'dead arrival', 'dead dog', 'dead end', 'dead ou', 'deal ama', 'deal breaker', 'deal good', 'deal just', 'deal price', 'dean gra', 'dear lord', 'death metal', 'debut album', 'debut novel', 'decent book', 'decent cd', 'decent price', 'decent qualit', 'decide ou', 'decided bu', 'decided chance', 'decided m', 'decided order', 'decided purchase', 'decided read', 'decided return', 'decided tr', 'decision making', 'deep fr', 'defective product', 'defective returned', 'definatel recommend', 'definatel worth', 'definitel best', 'definitel bu', 'definitel enjo', 'definitel great', 'definitel m', 'definitel ou', 'definitel read', 'definitel recommend', 'definitel want', 'definitel worth', 'delightful book', 'deliver compan', 'deliver date', 'deliver m', 'deliver time', 'dem stified', 'denise austin', 'depending ou', 'depends ou', 'described book', 'description doesn', 'description product', 'description sa', 'description said', 'desert island', 'deserves better', 'deserves stars', 'design better', 'design flaw', 'design ou', 'design patterns', 'design poor', 'despite fact', 'despite m', 'despite man', 'despite reviews', 'destro ed', 'destro ing', 'detailed book', 'detailed information', 'device m', 'device work', 'device works', 'diaper bag', 'dice cla', 'did better', 'did book', 'did care', 'did charge', 'did come', 'did cover', 'did da', 'did did', 'did disappoint', 'did don', 'did enjo', 'did exist', 'did expect', 'did feel', 'did finish', 'did fit', 'did good', 'did got', 'did great', 'did happen', 'did help', 'did hold', 'did include', 'did job', 'did just', 'did know', 'did learn', 'did like', 'did little', 'did live', 'did long', 'did look', 'did lot', 'did love', 'did m', 'did make', 'did man', 'did mean', 'did mention', 'did need', 'did notice', 'did onl', 'did ou', 'did pla', 'did purchase', 'did read', 'did reali', 'did reall', 'did receive', 'did recogni', 'did research', 'did s', 'did sa', 'did save', 'did sta', 'did thing', 'did think', 'did tr', 'did trick', 'did use', 'did ve', 'did ver', 'did want', 'did work', 'didn t', 'didnt work', 'die hard', 'died months', 'died weeks', 'difference m', 'different book', 'different brand', 'different color', 'different compan', 'different kind', 'different m', 'different parts', 'different people', 'different places', 'different product', 'different s', 'different si', 'different st', 'different t', 'different title', 'different wa', 'difficult follow', 'difficult m', 'difficult open', 'difficult pla', 'difficult read', 'difficult understand', 'difficult use', 'digital answering', 'digital camera', 'digital cameras', 'digitall remastered', 'direct d', 'direct tv', 'directions exactl', 'director s', 'dirt dog', 'disappointed album', 'disappointed ama', 'disappointed b', 'disappointed book', 'disappointed bought', 'disappointed cd', 'disappointed disappointed', 'disappointed like', 'disappointed looking', 'disappointed m', 'disappointed onl', 'disappointed ou', 'disappointed performance', 'disappointed product', 'disappointed purchase', 'disappointed qualit', 'disappointed reall', 'disappointed ve', 'disappointed ver', 'disappointed wa', 'disappointing book', 'disappointing bought', 'disappointing like', 'disappointing m', 'disappointment book', 'disc pla', 'disc set', 'disne s', 'disorgani ed', 'displa ed', 'displa ing', 'displa s', 'dissapointed b', 'dissapointed bought', 'distance time', 'dmr e', 'dob ns', 'doctor s', 'does allow', 'does ama', 'does appear', 'does author', 'does better', 'does bod', 'does book', 'does come', 'does contain', 'does cover', 'does deliver', 'does exactl', 'does explain', 'does fall', 'does feel', 'does fine', 'does fit', 'does good', 'does great', 'does heat', 'does hold', 'does include', 'does job', 'does just', 'does justice', 'does know', 'does leak', 'does like', 'does little', 'does look', 'does lot', 'does m', 'does make', 'does matter', 'does mean', 'does music', 'does need', 'does nice', 'does nt', 'does offer', 'does open', 'does ou', 'does pla', 'does provide', 'does quite', 'does reall', 'does reflect', 'does represent', 'does s', 'does sa', 'does sta', 'does support', 'does supposed', 'does tell', 'does thing', 'does things', 'does turn', 'does ver', 'does wa', 'does want', 'does work', 'doesn t', 'doesnt work', 'dog book', 'dog loves', 'dog ou', 'dog s', 'dog training', 'doing doesn', 'doing exercises', 'doing good', 'doing just', 'doing m', 'doing ou', 'doing s', 'doing thing', 'doing things', 'dollars m', 'dolphin s', 'don steele', 'don t', 'donke kong', 'dont bother', 'dont bu', 'dont buy', 'dont know', 'dont like', 'dont reall', 'dont think', 'dont want', 'dont waste', 'dont wrong', 'doo movies', 'dosen t', 'double check', 'double sided', 'doubt best', 'doubt book', 'doubt m', 'doubt worst', 'downton abbe', 'dr er', 'dr fleiss', 'dr ing', 'dr o', 'dr s', 'dr skin', 'dragon ball', 'drate addict', 'draws ou', 'dream come', 'drill bits', 'drill holes', 'drive m', 'dropped ball', 'drug store', 'dual action', 'duck tape', 'duct tape', 'dull dull', 'durable eas', 'durable product', 'dust dirt', 'dvd arrived', 'dvd bought', 'dvd box', 'dvd case', 'dvd cd', 'dvd collection', 'dvd dvd', 'dvd enjo', 'dvd good', 'dvd got', 'dvd great', 'dvd instead', 'dvd just', 'dvd like', 'dvd m', 'dvd movie', 'dvd onl', 'dvd ou', 'dvd pla', 'dvd product', 'dvd reall', 'dvd release', 'dvd rom', 'dvd s', 'dvd set', 'dvd thought', 'dvd vcr', 'dvd ver', 'dvd version', 'dvd video', 'dvd worth', 'dwa ne', 'e audio', 'e big', 'e book', 'e cand', 'e da', 'e e', 'e ebrows', 'e ed', 'e es', 'e far', 'e fit', 'e fits', 'e g', 'e good', 'e great', 'e hard', 'e jenkins', 'e just', 'e large', 'e m', 'e mail', 'e mails', 'e man', 'e medium', 'e opener', 'e opening', 'e ordered', 'e ou', 'e perfect', 'e problem', 'e s', 'e si', 'e small', 'e smaller', 'e t', 'e thing', 'e time', 'e ver', 'e weight', 'ear ago', 'ear bought', 'ear buds', 'ear ear', 'ear half', 'ear later', 'ear m', 'ear months', 'ear old', 'ear olds', 'ear onl', 'ear ou', 'ear plugs', 'ear reall', 'ear s', 'ear started', 'ear use', 'ear warrant', 'earl da', 'earl ears', 'earl s', 'earlier books', 'earned mone', 'ears ago', 'ears alwa', 'ears ama', 'ears book', 'ears bought', 'ears come', 'ears don', 'ears ears', 'ears expected', 'ears experience', 'ears finall', 'ears got', 'ears great', 'ears just', 'ears later', 'ears like', 'ears love', 'ears m', 'ears man', 'ears needed', 'ears old', 'ears onl', 'ears ou', 'ears problems', 'ears reall', 'ears recommend', 'ears right', 'ears s', 'ears sa', 'ears teaching', 'ears thought', 'ears trouble', 'ears use', 'ears ve', 'ears ver', 'ears wh', 'earth s', 'eas access', 'eas assemble', 'eas carr', 'eas change', 'eas clean', 'eas follow', 'eas install', 'eas just', 'eas listen', 'eas m', 'eas make', 'eas ou', 'eas read', 'eas reading', 'eas set', 'eas understand', 'eas use', 'eas wa', 'eas work', 'ease use', 'easier read', 'easier understand', 'easier use', 'easil m', 'ed b', 'ed best', 'ed book', 'ed cd', 'ed da', 'ed dvd', 'ed ears', 'ed game', 'ed good', 'ed great', 'ed just', 'ed m', 'ed man', 'ed movie', 'ed music', 'ed ou', 'ed pla', 'ed reading', 'ed s', 'ed stor', 'ed time', 'ed times', 'ed ver', 'ed watching', 'ed world', 'edition book', 'electric sharpener', 'electrical tape', 'elementar school', 'eli abeth', 'ellow fever', 'elvis best', 'emphasi es', 'emplo ed', 'emplo ee', 'emplo ees', 'en times', 'enc clopedia', 'end book', 'end chapter', 'end da', 'end just', 'end like', 'end line', 'end m', 'end movie', 'end onl', 'end ou', 'end result', 'end s', 'end world', 'ended bu', 'ended throwing', 'ended using', 'ending abrupt', 'ending great', 'ending ou', 'ends ou', 'english spanish', 'english speaking', 'english teacher', 'enjo able', 'enjo album', 'enjo book', 'enjo cd', 'enjo did', 'enjo dvd', 'enjo ed', 'enjo film', 'enjo good', 'enjo ing', 'enjo m', 'enjo ment', 'enjo music', 'enjo ou', 'enjo reading', 'enjo s', 'enjo watching', 'entertaining book', 'entertaining fun', 'entertaining read', 'entertaining stor', 'entertaining wa', 'entertainment value', 'entire album', 'entire book', 'entire cast', 'entire cd', 'entire life', 'entire movie', 'entire season', 'entire series', 'entire thing', 'episode guide', 'episodes great', 'er beware', 'er game', 'er m', 'er onl', 'er ou', 'er pla', 'er s', 'er ver', 'ero stars', 'error code', 'errors book', 'ers beware', 'es ou', 'especiall like', 'especiall liked', 'especiall ou', 'especiall price', 'essa s', 'et al', 'et don', 'et just', 'et m', 'et ou', 'et s', 'et tried', 'et ver', 'exactl described', 'exactl expected', 'exactl like', 'exactl looking', 'exactl m', 'exactl needed', 'exactl ou', 'exactl thing', 'exactl wanted', 'examples ou', 'exceeded m', 'excellent album', 'excellent book', 'excellent bu', 'excellent cd', 'excellent choice', 'excellent condition', 'excellent customer', 'excellent excellent', 'excellent gps', 'excellent great', 'excellent introduction', 'excellent job', 'excellent m', 'excellent ou', 'excellent overview', 'excellent pla', 'excellent price', 'excellent product', 'excellent qualit', 'excellent read', 'excellent reference', 'excellent resource', 'excellent service', 'excellent source', 'excellent value', 'excellent ver', 'excellent work', 'excited book', 'exciting book', 'exciting new', 'exercises book', 'expands contracts', 'expect better', 'expect great', 'expected better', 'expected book', 'expected m', 'expected ver', 'expecting book', 'expecting lot', 'expensive ou', 'expensive product', 'experience book', 'experience m', 'experience ou', 'expiration date', 'explain wh', 'extension cord', 'extra dollars', 'extra mone', 'extremel difficult', 'extremel disappointed', 'extremel eas', 'extremel happ', 'extremel hard', 'extremel helpful', 'extremel pleased', 'extremel poor', 'extremel slow', 'fact book', 'fact m', 'fact ou', 'fact s', 'factual errors', 'fails deliver', 'fair tale', 'fairl eas', 'fairl good', 'fall apart', 'fall asleep', 'fall love', 'falling apart', 'falls love', 'falls short', 'false advertising', 'famil friends', 'famil life', 'famil loves', 'famil member', 'famil members', 'famil room', 'famil s', 'fan book', 'fan bu', 'fan classic', 'fan don', 'fan just', 'fan like', 'fan love', 'fan m', 'fan ou', 'fan s', 'fan series', 'fan ver', 'fans bu', 'fans just', 'fans know', 'fans m', 'fans ou', 'fantas x', 'fantastic album', 'fantastic book', 'fantastic great', 'fantastic job', 'far awa', 'far best', 'far better', 'far far', 'far fetched', 'far good', 'far great', 'far know', 'far m', 'far man', 'far onl', 'far ou', 'far read', 'far s', 'far superior', 'far tell', 'far ve', 'far worst', 'fascinated b', 'fascinating read', 'fast eas', 'fast forward', 'fast m', 'fast moving', 'fast pace', 'fast paced', 'fast read', 'fast shipping', 'father s', 'favor bu', 'favor don', 'favor read', 'favorite album', 'favorite author', 'favorite authors', 'favorite band', 'favorite book', 'favorite books', 'favorite cd', 'favorite christmas', 'favorite m', 'favorite movie', 'favorite parts', 'favorite pen', 'favorite s', 'favorite song', 'favorite songs', 'features great', 'features like', 'features onl', 'feel bad', 'feel better', 'feel book', 'feel compelled', 'feel good', 'feel great', 'feel like', 'feel need', 'feel ou', 'feel reall', 'feel s', 'feel sorr', 'feel ver', 'feeling ou', 'feels cheap', 'feels great', 'feels like', 'feet awa', 'fell apart', 'fell asleep', 'fell love', 'felt book', 'felt like', 'fibrom algia', 'field guide', 'fight scene', 'fight scenes', 'figure just', 'figure ou', 'figure wh', 'figured d', 'files m', 'filled man', 'film camera', 'film great', 'film just', 'film like', 'film m', 'film making', 'film noir', 'film onl', 'film ou', 'film s', 'film star', 'film ver', 'film worth', 'filter m', 'final fantas', 'finall able', 'finall book', 'finall bought', 'finall broke', 'finall decided', 'finall died', 'finall gave', 'finall got', 'finall m', 'finall ou', 'finding m', 'finding man', 'finding replacement', 'fine book', 'fine job', 'fine just', 'fine m', 'fine ou', 'fine product', 'finish book', 'finish reading', 'finished book', 'finished product', 'finished reading', 'finished watching', 'finishing book', 'firewire reader', 'fisher price', 'fit m', 'fit perfectl', 'fit properl', 'fit right', 'fits m', 'fits perfectl', 'fix problem', 'fixed problem', 'fl ing', 'fl nn', 'flaming lips', 'flash cards', 'fleetwood mac', 'flo d', 'fm radio', 'fm transmitter', 'folk music', 'follow book', 'follow directions', 'follow instructions', 'followed b', 'followed directions', 'followed instructions', 'following instructions', 'fond memories', 'food m', 'food ou', 'food processor', 'food thought', 'foods ou', 'fool ou', 'fooled b', 'force m', 'forward book', 'forward m', 'forward reading', 'fr cutter', 'fr ing', 'fr s', 'frank sinatra', 'free e', 'free er', 'free es', 'free ing', 'free shipping', 'french fr', 'french press', 'fresh air', 'fresh new', 'frida night', 'frida s', 'friend bought', 'friend recommended', 'friend s', 'friend said', 'friends famil', 'friends like', 'fro e', 'fro en', 'fun book', 'fun bought', 'fun eas', 'fun entertaining', 'fun fun', 'fun game', 'fun kids', 'fun listen', 'fun m', 'fun movie', 'fun ou', 'fun pla', 'fun read', 'fun s', 'fun stuff', 'fun time', 'fun wa', 'fun watch', 'function properl', 'functional product', 'funn book', 'funn entertaining', 'funn just', 'funn movie', 'funn ou', 'funn reall', 'funn s', 'funn thing', 'funn ver', 'funn witt', 'future m', 'future releases', 'g d', 'g g', 'g m', 'g o', 'game better', 'game book', 'game boring', 'game bought', 'game bu', 'game came', 'game christmas', 'game cities', 'game comes', 'game da', 'game death', 'game did', 'game didn', 'game doesn', 'game don', 'game enjo', 'game far', 'game fun', 'game game', 'game good', 'game got', 'game graphics', 'game great', 'game horrible', 'game just', 'game like', 'game love', 'game loved', 'game m', 'game ma', 'game makes', 'game man', 'game onl', 'game ou', 'game pla', 'game prett', 'game provides', 'game reall', 'game reason', 'game recommend', 'game requires', 'game right', 'game run', 'game s', 'game stars', 'game supposed', 'game thinking', 'game thought', 'game time', 'game ve', 'game ver', 'game wa', 'game work', 'game worth', 'games like', 'games m', 'games pla', 'games ve', 'garage sale', 'garbage don', 'garmin forerunner', 'garmin gps', 'garmin nuvi', 'garmin training', 'gave awa', 'gave book', 'gave just', 'gave m', 'gave refund', 'gave s', 'gave star', 'gave stars', 'george michael', 'gets better', 'gets boring', 'gets caught', 'gets good', 'gets hot', 'gets job', 'gets old', 'gets ou', 'gets stars', 'gets stuck', 'gets ver', 'getting better', 'getting good', 'getting know', 'getting m', 'getting old', 'getting ou', 'getting rid', 'getting s', 'getting stuck', 'getting used', 'getting worse', 'ghost writer', 'gi mo', 'gift arrived', 'gift bought', 'gift friend', 'gift idea', 'gift love', 'gift m', 'gift received', 'girl girl', 'girl m', 'girl named', 'girl s', 'girls ages', 'girls love', 'given b', 'given book', 'given cd', 'given gift', 'given m', 'given star', 'given stars', 'given tr', 'gives good', 'gives great', 'gives new', 'gives ou', 'gives reader', 'gives ver', 'giving awa', 'giving book', 'giving m', 'giving ou', 'giving star', 'giving stars', 'gl cemic', 'glad ama', 'glad bought', 'glad did', 'glad didn', 'glad got', 'glad ou', 'glad purchased', 'glad s', 'glad went', 'glass water', 'god awful', 'god bless', 'god book', 'god does', 'god love', 'god ou', 'god s', 'god wants', 'goes good', 'goes m', 'goes ond', 'going book', 'going bu', 'going difficult', 'going downhill', 'going great', 'going happen', 'going learn', 'going like', 'going love', 'going m', 'going make', 'going movie', 'going need', 'going order', 'going ou', 'going pla', 'going purchase', 'going read', 'going replace', 'going return', 'going right', 'going s', 'going second', 'going strong', 'going tr', 'going use', 'going work', 'going world', 'gold toe', 'gold tone', 'golf balls', 'gone b', 'gone bad', 'gone m', 'gone s', 'good acting', 'good addition', 'good advice', 'good album', 'good author', 'good b', 'good bad', 'good basic', 'good beginners', 'good best', 'good better', 'good book', 'good books', 'good bought', 'good brand', 'good bu', 'good came', 'good camera', 'good case', 'good cd', 'good characters', 'good choice', 'good clean', 'good collection', 'good come', 'good concept', 'good condition', 'good content', 'good da', 'good deal', 'good description', 'good didn', 'good doesn', 'good don', 'good drama', 'good dvd', 'good e', 'good enjo', 'good especiall', 'good evil', 'good examples', 'good expected', 'good experience', 'good far', 'good feel', 'good film', 'good fit', 'good friends', 'good fun', 'good game', 'good good', 'good got', 'good great', 'good grips', 'good gu', 'good guitar', 'good hand', 'good hard', 'good idea', 'good illustrations', 'good info', 'good information', 'good introduction', 'good investment', 'good item', 'good job', 'good just', 'good kids', 'good know', 'good laugh', 'good laughs', 'good like', 'good listen', 'good little', 'good long', 'good look', 'good looking', 'good luck', 'good m', 'good man', 'good material', 'good minutes', 'good mone', 'good movie', 'good movies', 'good music', 'good new', 'good news', 'good ol', 'good old', 'good ones', 'good onl', 'good original', 'good ou', 'good overall', 'good overview', 'good pan', 'good perfect', 'good phone', 'good photos', 'good picture', 'good pictures', 'good pla', 'good plot', 'good points', 'good price', 'good primer', 'good print', 'good product', 'good purchase', 'good qualit', 'good quick', 'good ra', 'good read', 'good reading', 'good reall', 'good reason', 'good reception', 'good recipes', 'good recommend', 'good reference', 'good resource', 'good results', 'good review', 'good reviews', 'good s', 'good sa', 'good service', 'good set', 'good shape', 'good short', 'good si', 'good small', 'good solid', 'good song', 'good songs', 'good sound', 'good start', 'good starter', 'good step', 'good stor', 'good stories', 'good stuff', 'good sturd', 'good t', 'good taste', 'good theor', 'good thing', 'good things', 'good thought', 'good time', 'good times', 'good tips', 'good tool', 'good tr', 'good true', 'good unit', 'good use', 'good used', 'good value', 'good ve', 'good ver', 'good video', 'good voice', 'good wa', 'good watch', 'good work', 'good workout', 'good works', 'good worth', 'good writing', 'goodb e', 'gospel music', 'got album', 'got bad', 'got best', 'got better', 'got bit', 'got book', 'got bored', 'got cd', 'got chance', 'got christmas', 'got da', 'got defective', 'got dvd', 'got feeling', 'got game', 'got gift', 'got good', 'got great', 'got home', 'got hooked', 'got interested', 'got item', 'got kidding', 'got lemon', 'got librar', 'got lot', 'got m', 'got new', 'got onl', 'got ou', 'got paid', 'got product', 'got read', 'got reall', 'got replacement', 'got rid', 'got right', 'got s', 'got saw', 'got set', 'got stuck', 'got thing', 'got tired', 'got work', 'got worse', 'gotta love', 'gotten better', 'gps m', 'gps s', 'gps unit', 'gra iosi', 'gra s', 'gra son', 'grabs ou', 'grade class', 'grade school', 'grain salt', 'grammatical errors', 'grand daughter', 'grand prix', 'granddaughter christmas', 'grandma s', 'grant s', 'graphics better', 'graphics great', 'graphics ver', 'great accessor', 'great addition', 'great advice', 'great album', 'great albums', 'great artist', 'great author', 'great band', 'great best', 'great better', 'great big', 'great book', 'great books', 'great bought', 'great bu', 'great camera', 'great cd', 'great characters', 'great choice', 'great classic', 'great collection', 'great compan', 'great companion', 'great concept', 'great condition', 'great customer', 'great da', 'great deal', 'great depth', 'great design', 'great did', 'great didn', 'great disappointment', 'great disc', 'great does', 'great don', 'great dvd', 'great ear', 'great eas', 'great especiall', 'great espresso', 'great example', 'great fan', 'great features', 'great feel', 'great film', 'great fun', 'great game', 'great gift', 'great good', 'great got', 'great gps', 'great graphics', 'great great', 'great guide', 'great guitar', 'great headphones', 'great hear', 'great help', 'great high', 'great highl', 'great idea', 'great ideas', 'great information', 'great insight', 'great introduction', 'great investment', 'great iron', 'great item', 'great job', 'great just', 'great kids', 'great know', 'great l', 'great light', 'great like', 'great literature', 'great little', 'great live', 'great long', 'great look', 'great looking', 'great looks', 'great lot', 'great love', 'great m', 'great ma', 'great man', 'great months', 'great mouse', 'great movie', 'great movies', 'great music', 'great musical', 'great new', 'great novel', 'great old', 'great ones', 'great onl', 'great ou', 'great overview', 'great pan', 'great people', 'great phone', 'great pictures', 'great piece', 'great pla', 'great place', 'great plot', 'great price', 'great product', 'great products', 'great purchase', 'great qualit', 'great read', 'great reading', 'great reall', 'great recipes', 'great recommend', 'great record', 'great reference', 'great remote', 'great resource', 'great results', 'great reviews', 'great right', 'great s', 'great sa', 'great season', 'great second', 'great series', 'great service', 'great set', 'great shape', 'great shopping', 'great small', 'great solution', 'great song', 'great songs', 'great sound', 'great soundtrack', 'great start', 'great stor', 'great stories', 'great stud', 'great stuff', 'great success', 'great t', 'great talent', 'great team', 'great thing', 'great things', 'great think', 'great thought', 'great time', 'great tool', 'great tracks', 'great tried', 'great tv', 'great used', 'great value', 'great ver', 'great video', 'great voice', 'great wa', 'great watch', 'great work', 'great worked', 'great workout', 'great works', 'great writing', 'greatest hits', 'green da', 'green light', 'green s', 'green tea', 'grew watching', 'grocer store', 'grounds coffee', 'group ou', 'group s', 'grows ou', 'gu just', 'gu s', 'guarantee ou', 'guess didn', 'guess got', 'guess just', 'guess ll', 'guess m', 'guess onl', 'guess ou', 'guess s', 'guide book', 'guide ou', 'guides ou', 'guitar great', 'guitar licks', 'guitar pla', 'guitar price', 'guitar riffs', 'guitar solos', 'guitar ver', 'guitar work', 'h brid', 'h p', 'h pe', 'h ped', 'h pnotic', 'h pocris', 'h pocrites', 'h poth', 'h pothesis', 'h steria', 'h sterical', 'ha ard', 'ha e', 'ha ha', 'ha nes', 'hack job', 'hackne ed', 'hadn t', 'hair dr', 'hair m', 'half blood', 'half book', 'half en', 'half hour', 'half price', 'half si', 'half time', 'half wa', 'halloween costume', 'hamilton beach', 'hand held', 'hand m', 'hand ou', 'handle broke', 'handle doesn', 'handle snapped', 'hands ou', 'hang wall', 'happ bought', 'happ customer', 'happ dvd', 'happ ending', 'happ just', 'happ m', 'happ product', 'happ purchase', 'happ qualit', 'happ s', 'happen end', 'happen ou', 'happened m', 'hard beat', 'hard believe', 'hard come', 'hard control', 'hard core', 'hard cover', 'hard da', 'hard drive', 'hard earned', 'hard fan', 'hard follow', 'hard like', 'hard listen', 'hard m', 'hard make', 'hard onl', 'hard ou', 'hard plastic', 'hard pressed', 'hard push', 'hard read', 'hard rock', 'hard s', 'hard tell', 'hard time', 'hard understand', 'hard use', 'hard used', 'hard wood', 'hard work', 'harder ou', 'hardl worth', 'hardware store', 'hardwood floor', 'harr potter', 'harr s', 'harris s', 'hasn t', 'hassle return', 'hate book', 'hate m', 'hate ou', 'hate thing', 'hated book', 'haven t', 'havent seen', 'having book', 'having bought', 'having deal', 'having fun', 'having good', 'having hard', 'having just', 'having m', 'having problem', 'having problems', 'having purchased', 'having read', 'having recentl', 'having said', 'having seen', 'having trouble', 'hd drive', 'hd dvd', 'hdmi cable', 'hdtv s', 'headphones great', 'headphones ve', 'headset phone', 'health care', 'hear great', 'hear new', 'hear ou', 'hear songs', 'hear thing', 'heard album', 'heard cd', 'heard long', 'heard m', 'heard man', 'heard song', 'heart rate', 'heart s', 'heart soul', 'heart warming', 'heartil recommend', 'heat evenl', 'heat shield', 'heav dut', 'heav metal', 'heav weight', 'held m', 'help book', 'help don', 'help improve', 'help just', 'help m', 'help ou', 'help understand', 'helped m', 'helpful book', 'helpful information', 'helpful m', 'helps ou', 'hero heroine', 'hesitant bu', 'high end', 'high energ', 'high expectations', 'high hopes', 'high level', 'high low', 'high points', 'high price', 'high priced', 'high qualit', 'high rating', 'high school', 'high speed', 'high tech', 'higher end', 'higher qualit', 'highl disappointed', 'highl recomend', 'highl recommend', 'highl recommended', 'highly recommend', 'hilar duff', 'hip hop', 'histor book', 'histor books', 'histor buff', 'histor lesson', 'histor ou', 'histor read', 'histor s', 'historical background', 'historical facts', 'historical fiction', 'historical information', 'historical novel', 'historicall accurate', 'hit b', 'hit home', 'hit m', 'hit miss', 'hit wonder', 'hits cd', 'hits s', 'ho hum', 'hog wild', 'hol diver', 'hol spirit', 'hold attention', 'hold charge', 'hold em', 'hold m', 'holding m', 'holds lot', 'holida s', 'holl wood', 'home book', 'home depot', 'home m', 'home office', 'home theater', 'home use', 'honestl don', 'honestl sa', 'hong kong', 'hooked m', 'hope book', 'hope helps', 'hope m', 'hope ou', 'hope s', 'hopes book', 'hoping book', 'hori ontal', 'horrible acting', 'horrible book', 'horrible horrible', 'horrible m', 'horrible movie', 'horrible ou', 'horrible product', 'horror movies', 'hot air', 'hot dog', 'hot hot', 'hot water', 'hours da', 'hours later', 'hours m', 'hours ou', 'hours phone', 'hours tr', 'hours use', 'house just', 'house m', 'house s', 'house tree', 'http www', 'huge disappointment', 'huge fan', 'human beings', 'human rights', 'humor ou', 'hurt b', 'husband bought', 'husband christmas', 'husband loves', 'husband m', 'husband s', 'ice cream', 'idea book', 'idea just', 'idea like', 'idea ou', 'idea s', 'idea wh', 'ideas book', 'illustrations ver', 'im going', 'im sure', 'im ver', 'imagine ou', 'important book', 'important thing', 'important work', 'impossible read', 'impossible remove', 'impossible use', 'impressed b', 'impressed sound', 'improve m', 'ina ma', 'inches m', 'included book', 'included set', 'included software', 'including shipping', 'incredible book', 'incredible voice', 'indiana jones', 'indigo children', 'indoor outdoor', 'ine m', 'influenced b', 'info ou', 'information book', 'information books', 'information contained', 'information ou', 'information presented', 'information provided', 'information s', 'informative book', 'ing album', 'ing ama', 'ing attention', 'ing book', 'ing books', 'ing bought', 'ing case', 'ing cd', 'ing d', 'ing did', 'ing figure', 'ing game', 'ing games', 'ing good', 'ing high', 'ing home', 'ing hours', 'ing item', 'ing just', 'ing like', 'ing little', 'ing live', 'ing lot', 'ing love', 'ing m', 'ing ma', 'ing make', 'ing makes', 'ing man', 'ing movie', 'ing music', 'ing new', 'ing old', 'ing onl', 'ing ordered', 'ing ou', 'ing pan', 'ing people', 'ing pla', 'ing problem', 'ing product', 'ing products', 'ing read', 'ing reading', 'ing reall', 'ing recommend', 'ing remove', 'ing run', 'ing s', 'ing sa', 'ing save', 'ing series', 'ing set', 'ing songs', 'ing sound', 'ing sounds', 'ing stor', 'ing talent', 'ing thing', 'ing things', 'ing think', 'ing time', 'ing true', 'ing turn', 'ing understand', 'ing use', 'ing used', 'ing using', 'ing ver', 'ing voice', 'ing wa', 'ing work', 'ing write', 'ink cartridge', 'ink cartridges', 'inner workings', 'inside book', 'inside box', 'inside house', 'inside m', 'inside plastic', 'insight book', 'insight world', 'inspired b', 'install game', 'install software', 'installed m', 'installment series', 'instead got', 'instead having', 'instead ou', 'instead s', 'instead using', 'instead wasting', 'instruction book', 'instruction manual', 'instructions clear', 'instructions poor', 'instructions ver', 'instructor version', 'insult injur', 'interested characters', 'interested getting', 'interested histor', 'interested learning', 'interesting book', 'interesting character', 'interesting characters', 'interesting film', 'interesting m', 'interesting ou', 'interesting parts', 'interesting read', 'interesting reall', 'interesting stor', 'intermediate advanced', 'intermediate level', 'interracial dating', 'intrigued b', 'introductor text', 'invest better', 'iphone ipod', 'ipod earbuds', 'ipod iphone', 'ipod s', 'ironing board', 'isn t', 'issue ou', 'issues book', 'issues don', 'issues like', 'item actuall', 'item ama', 'item arrived', 'item bought', 'item came', 'item da', 'item description', 'item did', 'item didn', 'item does', 'item exactl', 'item gift', 'item good', 'item just', 'item m', 'item new', 'item ordered', 'item ou', 'item picture', 'item purchased', 'item received', 'item s', 'item shipped', 'item stock', 'item store', 'item use', 'item ver', 'items like', 'items m', 'ive seen', 'j ai', 'j k', 'ja ou', 'ja z', 'jack o', 'jesus christ', 'jet li', 'jig saw', 'jo ce', 'jo ful', 'jo ous', 'jo read', 'jo s', 'jo stick', 'job describing', 'job great', 'job m', 'job making', 'joel osteen', 'john lennon', 'john wa', 'johnn cash', 'joshua harris', 'joss stone', 'judge book', 'junior high', 'junk bu', 'junk don', 'just able', 'just advertised', 'just ama', 'just average', 'just awful', 'just b', 'just bad', 'just beginning', 'just better', 'just big', 'just bit', 'just book', 'just boring', 'just bought', 'just broke', 'just bu', 'just bunch', 'just came', 'just case', 'just chapter', 'just cheap', 'just check', 'just collection', 'just come', 'just couldn', 'just couple', 'just cut', 'just d', 'just da', 'just did', 'just didn', 'just died', 'just different', 'just does', 'just doesn', 'just don', 'just dont', 'just ear', 'just ears', 'just enjo', 'just expected', 'just felt', 'just fine', 'just finished', 'just fun', 'just gets', 'just getting', 'just gives', 'just going', 'just good', 'just got', 'just great', 'just happen', 'just happens', 'just hope', 'just horrible', 'just interesting', 'just isn', 'just keeps', 'just kept', 'just kinda', 'just know', 'just let', 'just like', 'just listen', 'just listening', 'just little', 'just long', 'just look', 'just looking', 'just looks', 'just lot', 'just love', 'just loved', 'just m', 'just make', 'just makes', 'just man', 'just mess', 'just minutes', 'just months', 'just movie', 'just music', 'just need', 'just needed', 'just needs', 'just ok', 'just ordered', 'just ou', 'just overall', 'just perfect', 'just pla', 'just plain', 'just purchased', 'just quit', 'just read', 'just reading', 'just reall', 'just received', 'just recentl', 'just released', 'just remember', 'just returned', 'just right', 'just run', 'just s', 'just sa', 'just simple', 'just sit', 'just sitting', 'just small', 'just started', 'just starting', 'just stop', 'just stopped', 'just stuff', 'just sure', 'just t', 'just terrible', 'just thing', 'just think', 'just thought', 'just threw', 'just throw', 'just time', 'just tr', 'just turn', 'just use', 'just used', 'just using', 'just ver', 'just wa', 'just want', 'just wanted', 'just wasn', 'just waste', 'just watch', 'just watching', 'just went', 'just wish', 'just won', 'just works', 'just wrong', 'justif ing', 'k ocera', 'k rowling', 'ka bar', 'karen rose', 'ke board', 'ke boards', 'ke s', 'ke span', 'ke west', 'ke words', 'keeping m', 'keeps falling', 'keeps m', 'keeps ou', 'kendall s', 'kenn g', 'kept getting', 'kept guessing', 'kept m', 'kept reading', 'kept thinking', 'kick axe', 'kid s', 'kids adults', 'kids learn', 'kids like', 'kids love', 'kids loved', 'kids m', 'kids ou', 'kids pla', 'killed b', 'kind book', 'kind expensive', 'kind like', 'kind person', 'kind work', 'kindle edition', 'kindle version', 'kinetic house', 'king s', 'kiss fan', 'kitchen aid', 'knee pain', 'knife great', 'know b', 'know better', 'know book', 'know bu', 'know difference', 'know dvd', 'know exactl', 'know expect', 'know going', 'know good', 'know happened', 'know just', 'know like', 'know ll', 'know lot', 'know love', 'know m', 'know make', 'know man', 'know mean', 'know means', 'know onl', 'know ou', 'know people', 'know pla', 'know plot', 'know problem', 'know reall', 'know s', 'know sa', 'know songs', 'know start', 'know sure', 'know t', 'know talking', 'know thing', 'know true', 'know ver', 'know wa', 'know want', 'know wh', 'know work', 'know works', 'known better', 'kung fu', 'l crow', 'l ing', 'l ric', 'l rical', 'l ricall', 'l rics', 'l s', 'l streep', 'la crosse', 'la er', 'la ered', 'la ers', 'la ing', 'la mon', 'la s', 'lack better', 'laha e', 'laptop bag', 'large number', 'large si', 'larger life', 'las vegas', 'lasted da', 'lasted ear', 'lasted ears', 'lasted longer', 'lasted minutes', 'lasted month', 'lasted months', 'lasted onl', 'lasts long', 'lasts longer', 'late great', 'late night', 'late s', 'later m', 'later s', 'latest book', 'laugh loud', 'laughed loud', 'laughing loud', 'law enforcement', 'law er', 'law school', 'lcd displa', 'lcd screen', 'le creuset', 'le good', 'le guitar', 'le m', 'le makes', 'le music', 'le s', 'le ver', 'le writing', 'lead character', 'lead ou', 'lead singer', 'leading man', 'learn blues', 'learn m', 'learn new', 'learn ou', 'learn pla', 'learn read', 'learn thing', 'learn use', 'learned lot', 'learned m', 'learned new', 'learning curve', 'learning fun', 'learning game', 'learning spanish', 'learning tool', 'leave m', 'leave ou', 'leaves ou', 'leaving ou', 'led b', 'led believe', 'left book', 'left feeling', 'left m', 'left ou', 'left right', 'left series', 'left ver', 'left wanting', 'left wondering', 'lens cap', 'lens cover', 'lesser known', 'lesson learned', 'lessons book', 'let b', 'let dr', 'let know', 'let little', 'let m', 'let ou', 'let people', 'let s', 'let sa', 'let start', 'let tell', 'lets hope', 'lets ou', 'letting know', 'level m', 'level ou', 'level s', 'level ver', 'liar liar', 'librar ou', 'life book', 'life bought', 'life changing', 'life death', 'life don', 'life easier', 'life examples', 'life good', 'life just', 'life like', 'life long', 'life m', 'life ou', 'life reading', 'life reall', 'life s', 'life saver', 'life stor', 'life stories', 'life time', 'life ver', 'lifest le', 'lifetime warrant', 'light batter', 'light bulb', 'light conditions', 'light hearted', 'light m', 'light reading', 'light use', 'light weight', 'lightning thief', 'like actuall', 'like album', 'like alwa', 'like author', 'like b', 'like bad', 'like best', 'like better', 'like big', 'like book', 'like books', 'like bought', 'like bu', 'like business', 'like butter', 'like c', 'like cd', 'like characters', 'like charm', 'like cheap', 'like child', 'like children', 'like collection', 'like cra', 'like d', 'like da', 'like did', 'like didn', 'like does', 'like don', 'like ears', 'like enjo', 'like fact', 'like feel', 'like game', 'like games', 'like going', 'like good', 'like got', 'like great', 'like gu', 'like having', 'like hear', 'like idea', 'like just', 'like kind', 'like know', 'like like', 'like listening', 'like little', 'like lke', 'like lot', 'like love', 'like m', 'like ma', 'like make', 'like man', 'like movie', 'like movies', 'like music', 'like new', 'like nice', 'like old', 'like ones', 'like onl', 'like original', 'like ou', 'like people', 'like person', 'like picture', 'like piece', 'like pla', 'like plague', 'like plastic', 'like previous', 'like product', 'like qualit', 'like read', 'like reading', 'like real', 'like reall', 'like red', 'like reviewer', 'like reviewers', 'like romance', 'like rubber', 'like s', 'like sa', 'like said', 'like series', 'like set', 'like si', 'like sitting', 'like small', 'like songs', 'like sound', 'like start', 'like stor', 'like t', 'like taste', 'like thing', 'like think', 'like time', 'like tr', 'like tracks', 'like use', 'like used', 'like using', 'like ve', 'like ver', 'like wa', 'like watching', 'like work', 'like written', 'liked better', 'liked book', 'liked movie', 'liked read', 'liked songs', 'limp bi', 'line just', 'line ou', 'line s', 'line ver', 'liner notes', 'linux support', 'lip s', 'lis t', 'lisa smith', 'list goes', 'list m', 'list ou', 'list price', 'list songs', 'listed ama', 'listed book', 'listen album', 'listen cd', 'listen just', 'listen m', 'listen music', 'listen ou', 'listened cd', 'listened m', 'listened reviews', 'listening album', 'listening cd', 'listening m', 'listening music', 'literall fell', 'litter box', 'little better', 'little bigger', 'little bit', 'little bo', 'little book', 'little boring', 'little camera', 'little did', 'little different', 'little difficult', 'little disappointed', 'little ear', 'little expensive', 'little extra', 'little gem', 'little girl', 'little girls', 'little gu', 'little heav', 'little kids', 'little m', 'little man', 'little mone', 'little ones', 'little ou', 'little price', 'little s', 'little short', 'little sister', 'little skeptical', 'little slow', 'little space', 'little substance', 'little thing', 'little time', 'little trouble', 'little use', 'little useful', 'little weak', 'live album', 'live albums', 'live bu', 'live cd', 'live concert', 'live h', 'live learn', 'live life', 'live m', 'live ou', 'live performance', 'live performances', 'live reall', 'lives book', 'living past', 'living room', 'lke like', 'll able', 'll admit', 'll bu', 'll definitel', 'll enjo', 'll feel', 'll forget', 'll great', 'll just', 'll know', 'll like', 'll look', 'll love', 'll m', 'll need', 'll ou', 'll probabl', 'll read', 'll reall', 'll returning', 'll sa', 'll stick', 'll tr', 'll update', 'll use', 'll want', 'llo d', 'lo al', 'lo alt', 'lo que', 'local grocer', 'local hardware', 'local librar', 'local store', 'locked m', 'london s', 'lonel planet', 'long ago', 'long book', 'long distance', 'long drawn', 'long dream', 'long hard', 'long just', 'long lasting', 'long life', 'long like', 'long live', 'long long', 'long ou', 'long period', 'long periods', 'long road', 'long run', 'long s', 'long stor', 'long term', 'long time', 'long ver', 'long wa', 'long wait', 'long winded', 'longer available', 'longer months', 'longer ou', 'longer thing', 'longer use', 'longer worked', 'longer works', 'look better', 'look book', 'look cheap', 'look cool', 'look different', 'look forward', 'look good', 'look great', 'look just', 'look life', 'look like', 'look m', 'look man', 'look new', 'look nice', 'look ou', 'look reall', 'look ver', 'looked forward', 'looked good', 'looked great', 'looked like', 'looked prett', 'looked ver', 'looking better', 'looking book', 'looking cheap', 'looking different', 'looking forward', 'looking game', 'looking good', 'looking great', 'looking light', 'looking like', 'looking love', 'looking new', 'looking ou', 'looking product', 'looking read', 'looking reall', 'looking replacement', 'looking thing', 'looking wa', 'looks better', 'looks cheap', 'looks cool', 'looks feels', 'looks good', 'looks great', 'looks just', 'looks like', 'looks nice', 'looks prett', 'looks reall', 'looks ver', 'loose ends', 'lord loss', 'lord rings', 'los alamos', 'los angeles', 'lose weight', 'lost m', 'lost ou', 'lost space', 'lot better', 'lot book', 'lot books', 'lot desired', 'lot different', 'lot fun', 'lot good', 'lot great', 'lot information', 'lot like', 'lot longer', 'lot m', 'lot mone', 'lot music', 'lot ou', 'lot people', 'lot research', 'lot s', 'lot space', 'lot stuff', 'lot things', 'lot time', 'lot work', 'lots fun', 'lots good', 'lots great', 'lots lots', 'lots people', 'lots white', 'loud funn', 'loud noise', 'lous job', 'love able', 'love affair', 'love album', 'love ama', 'love author', 'love band', 'love best', 'love bo', 'love book', 'love books', 'love bought', 'love cd', 'love child', 'love color', 'love dvd', 'love em', 'love fact', 'love game', 'love god', 'love got', 'love great', 'love harr', 'love hate', 'love hear', 'love idea', 'love jesus', 'love just', 'love like', 'love little', 'love look', 'love looks', 'love love', 'love luc', 'love m', 'love movie', 'love music', 'love new', 'love old', 'love onl', 'love ou', 'love peace', 'love pla', 'love product', 'love read', 'love reading', 'love s', 'love series', 'love song', 'love songs', 'love sound', 'love stor', 'love stories', 'love stuff', 'love t', 'love thing', 'love time', 'love use', 'love ve', 'love ver', 'love video', 'love voice', 'love wa', 'love watch', 'love watching', 'loved b', 'loved book', 'loved bought', 'loved great', 'loved loved', 'loved m', 'loved movie', 'loved ones', 'loved product', 'loved s', 'loved st', 'loved stor', 'loved swing', 'loved thing', 'loved ver', 'loved wa', 'lovel book', 'lovel voice', 'loves book', 'loves just', 'loves m', 'loves pla', 'low budget', 'low carb', 'low cost', 'low end', 'low fat', 'low impact', 'low ke', 'low level', 'low light', 'low limit', 'low price', 'low qualit', 'low rating', 'lower price', 'lowest setting', 'luck ou', 'm able', 'm actuall', 'm adult', 'm advice', 'm advise', 'm afraid', 'm alread', 'm alwa', 'm ama', 'm ard', 'm area', 'm arms', 'm attention', 'm b', 'm bab', 'm bathroom', 'm batter', 'm best', 'm big', 'm biggest', 'm bike', 'm birthda', 'm bo', 'm boat', 'm bod', 'm book', 'm bookshelf', 'm box', 'm breath', 'm brother', 'm bu', 'm business', 'm c', 'm cable', 'm camera', 'm canon', 'm car', 'm case', 'm cat', 'm cats', 'm cd', 'm cell', 'm child', 'm childhood', 'm children', 'm chiropractor', 'm choice', 'm christmas', 'm class', 'm classes', 'm classroom', 'm clients', 'm closet', 'm coffee', 'm collection', 'm compan', 'm complaint', 'm computer', 'm concerned', 'm cop', 'm counter', 'm countr', 'm cousin', 'm credit', 'm cup', 'm current', 'm currentl', 'm d', 'm da', 'm dad', 'm dail', 'm data', 'm daughter', 'm daughters', 'm dell', 'm desk', 'm disappointed', 'm disappointment', 'm disc', 'm dishes', 'm disma', 'm doctor', 'm dog', 'm dogs', 'm doing', 'm driving', 'm dvd', 'm e', 'm ear', 'm earl', 'm ears', 'm efforts', 'm email', 'm entire', 'm expectation', 'm expectations', 'm expense', 'm experience', 'm external', 'm extremel', 'm face', 'm famil', 'm fan', 'm father', 'm fault', 'm fav', 'm favorite', 'm favorites', 'm favourite', 'm feet', 'm finger', 'm fingers', 'm floor', 'm foot', 'm free', 'm french', 'm friend', 'm friends', 'm future', 'm g', 'm game', 'm garage', 'm garden', 'm gb', 'm getting', 'm girlfriend', 'm girls', 'm giving', 'm glad', 'm god', 'm going', 'm gonna', 'm gps', 'm grand', 'm grandchildren', 'm granddaughter', 'm grandmother', 'm grandson', 'm great', 'm guessing', 'm guitar', 'm hair', 'm hand', 'm hands', 'm happ', 'm hard', 'm having', 'm head', 'm heart', 'm heels', 'm home', 'm hoping', 'm house', 'm huge', 'm husband', 'm imagination', 'm impressed', 'm initial', 'm introduction', 'm iphone', 'm ipod', 'm job', 'm just', 'm ke', 'm kid', 'm kids', 'm kind', 'm kindle', 'm kitchen', 'm knee', 'm knees', 'm l', 'm laptop', 'm large', 'm lbs', 'm learning', 'm left', 'm legs', 'm lesson', 'm life', 'm liking', 'm line', 'm list', 'm listening', 'm little', 'm local', 'm long', 'm looking', 'm love', 'm m', 'm mac', 'm macbook', 'm machine', 'm main', 'm man', 'm middle', 'm mind', 'm missing', 'm mom', 'm mone', 'm monitor', 'm month', 'm mother', 'm mouth', 'm mp', 'm music', 'm neck', 'm needs', 'm nephew', 'm new', 'm niece', 'm night', 'm normal', 'm o', 'm old', 'm older', 'm onl', 'm opinion', 'm order', 'm ordering', 'm original', 'm ou', 'm oungest', 'm parents', 'm past', 'm pc', 'm personal', 'm phone', 'm pla', 'm pleased', 'm pocket', 'm point', 'm pregnanc', 'm prett', 'm previous', 'm printer', 'm problem', 'm problems', 'm product', 'm ps', 'm purchase', 'm purposes', 'm purse', 'm questions', 'm r', 'm ra', 'm rd', 'm read', 'm reading', 'm real', 'm reall', 'm recommendation', 'm refund', 'm replacement', 'm research', 'm returning', 'm review', 'm riad', 'm roommate', 'm running', 'm s', 'm sad', 'm school', 'm second', 'm self', 'm set', 'm seven', 'm shelf', 'm shop', 'm shoulder', 'm shower', 'm sister', 'm situation', 'm skin', 'm small', 'm son', 'm sons', 'm sorr', 'm soul', 'm st', 'm ster', 'm steries', 'm sterio', 'm sterious', 'm stomach', 'm students', 'm summer', 'm sure', 'm surprise', 'm surprised', 'm t', 'm taste', 'm tastes', 'm teenage', 'm teeth', 'm th', 'm thical', 'm thinking', 'm tholog', 'm thought', 'm thoughts', 'm ths', 'm thumb', 'm time', 'm tired', 'm toddler', 'm tr', 'm trailer', 'm training', 'm trip', 'm truck', 'm tv', 'm understanding', 'm unit', 'm used', 'm using', 'm usuall', 'm vehicle', 'm ver', 'm video', 'm view', 'm wa', 'm waiting', 'm weight', 'm wife', 'm window', 'm windows', 'm word', 'm work', 'm workout', 'm workouts', 'm wrist', 'm x', 'm xbox', 'm zune', 'ma best', 'ma better', 'ma da', 'ma enjo', 'ma er', 'ma good', 'ma got', 'ma hard', 'ma important', 'ma just', 'ma know', 'ma like', 'ma little', 'ma ll', 'ma lot', 'ma m', 'ma ma', 'ma need', 'ma ou', 'ma people', 'ma perfect', 'ma read', 'ma s', 'ma think', 'ma tr', 'ma used', 'ma ver', 'ma want', 'ma work', 'mac os', 'mac s', 'macbook pro', 'machine bought', 'machine just', 'machine s', 'maga ine', 'maga ines', 'magnif ing', 'mail order', 'main character', 'main characters', 'main problem', 'main reason', 'major disappointment', 'major problem', 'make album', 'make better', 'make book', 'make clear', 'make difference', 'make eas', 'make easier', 'make feel', 'make fun', 'make game', 'make good', 'make great', 'make happen', 'make life', 'make like', 'make little', 'make look', 'make m', 'make mistake', 'make mone', 'make movie', 'make new', 'make noise', 'make ou', 'make real', 'make sense', 'make sure', 'make things', 'make ver', 'make work', 'makes album', 'makes best', 'makes better', 'makes book', 'makes difficult', 'makes eas', 'makes feel', 'makes fun', 'makes good', 'makes great', 'makes m', 'makes movie', 'makes nice', 'makes noise', 'makes ou', 'makes reall', 'makes sense', 'makes sound', 'makes think', 'makes ver', 'makes want', 'makes wonder', 'making book', 'making impossible', 'making m', 'making mone', 'making ou', 'making sure', 'making ver', 'man aspects', 'man better', 'man books', 'man bugs', 'man called', 'man characters', 'man compliments', 'man da', 'man different', 'man dvds', 'man ears', 'man errors', 'man examples', 'man facets', 'man features', 'man good', 'man great', 'man hours', 'man ideas', 'man items', 'man just', 'man m', 'man man', 'man mistakes', 'man months', 'man new', 'man options', 'man pages', 'man parts', 'man people', 'man places', 'man problems', 'man products', 'man questions', 'man read', 'man reviewers', 'man reviews', 'man s', 'man sa', 'man songs', 'man t', 'man things', 'man times', 'man wa', 'man woman', 'man women', 'man words', 'manual m', 'manufacturer s', 'mar land', 'mariah care', 'maril n', 'mario lan', 'mario tennis', 'mark m', 'marks m', 'martial arts', 'mass produced', 'master lock', 'master s', 'material ver', 'matter fact', 'matter man', 'matter ou', 'mcgraw hill', 'mean come', 'mean ou', 'mean s', 'mean spirited', 'means bu', 'means ou', 'means s', 'mediocre best', 'medium si', 'mega pixels', 'mei mei', 'melissa doug', 'memor card', 'memor cards', 'memor lane', 'memori e', 'memori ed', 'memories m', 'men s', 'men women', 'mention m', 'mentioned b', 'mentioned book', 'mentioned ou', 'mer l', 'met m', 'metal band', 'metal church', 'metal detector', 'metal gear', 'mic clip', 'michael jackson', 'michael s', 'michael savage', 'mid s', 'middle aged', 'middle school', 'miles awa', 'miller s', 'million times', 'mind blowing', 'mind bod', 'mind book', 'mind m', 'mind ou', 'minutes m', 'minutes movie', 'minutes ou', 'minutes read', 'minutes s', 'minutes use', 'misleading title', 'miss marple', 'miss ou', 'missing book', 'missing pages', 'missing parts', 'mistake bu', 'mitch rapp', 'miter saw', 'mixed feelings', 'mo art', 'model m', 'model number', 'model ou', 'model s', 'moderate use', 'modern da', 'moderni ed', 'moisturi ing', 'moment s', 'mone awa', 'mone b', 'mone belt', 'mone best', 'mone better', 'mone book', 'mone bought', 'mone bu', 'mone cd', 'mone don', 'mone dvd', 'mone far', 'mone good', 'mone got', 'mone great', 'mone just', 'mone like', 'mone love', 'mone m', 'mone ma', 'mone mone', 'mone onl', 'mone ou', 'mone piece', 'mone product', 'mone purchased', 'mone refunded', 'mone s', 'mone save', 'mone spend', 'mone spent', 'mone time', 'mone tr', 'mone u', 'mone unless', 'mone ve', 'mone ver', 'mone waste', 'mone wasted', 'mone wish', 'mone worth', 'monke island', 'month ago', 'month later', 'month m', 'month old', 'month use', 'months ago', 'months bought', 'months bu', 'months great', 'months just', 'months later', 'months light', 'months longer', 'months loves', 'months m', 'months motor', 'months old', 'months onl', 'months ou', 'months problems', 'months purchased', 'months replace', 'months s', 'months started', 'months use', 'months used', 'morrison s', 'mother law', 'mother s', 'motor just', 'motorc cle', 'mount m', 'mounting screws', 'moved b', 'moves ou', 'movie acting', 'movie actuall', 'movie awesome', 'movie bad', 'movie based', 'movie best', 'movie better', 'movie boring', 'movie coming', 'movie da', 'movie did', 'movie didn', 'movie does', 'movie doesn', 'movie don', 'movie dvd', 'movie ears', 'movie end', 'movie enjo', 'movie fantastic', 'movie good', 'movie got', 'movie great', 'movie guess', 'movie horrible', 'movie just', 'movie like', 'movie liked', 'movie loved', 'movie m', 'movie ma', 'movie make', 'movie makes', 'movie movie', 'movie music', 'movie onl', 'movie ou', 'movie pla', 'movie prett', 'movie reall', 'movie s', 'movie seen', 'movie soundtrack', 'movie star', 'movie sucked', 'movie sucks', 'movie t', 'movie think', 'movie thought', 'movie time', 'movie tr', 'movie ve', 'movie ver', 'movie watch', 'movie watched', 'movie wh', 'movie wonderful', 'movie worth', 'movies bad', 'movies good', 'movies like', 'movies m', 'movies onl', 'movies ou', 'movies s', 'movies seen', 'movies ver', 'moving ou', 'moving stor', 'mp pla', 'mp s', 'mr coffee', 'mr d', 'mst k', 'multipla er', 'multiple times', 'murder m', 'muscle milk', 'music actuall', 'music album', 'music b', 'music bad', 'music best', 'music better', 'music book', 'music bu', 'music cd', 'music classic', 'music collection', 'music doesn', 'music enjo', 'music fan', 'music good', 'music great', 'music heard', 'music industr', 'music just', 'music l', 'music like', 'music listen', 'music little', 'music lover', 'music lovers', 'music m', 'music ma', 'music makes', 'music movie', 'music music', 'music new', 'music onl', 'music ou', 'music people', 'music pla', 'music reall', 'music s', 'music songs', 'music sound', 'music sounds', 'music st', 'music store', 'music think', 'music time', 'music ver', 'music video', 'music videos', 'music wa', 'musical journe', 'musical score', 'musical st', 'musical tastes', 'n lon', 'n roll', 'n s', 'na german', 'natalie merchant', 'native american', 'nba live', 'nc m', 'nd edition', 'near future', 'near perfect', 'nearl ears', 'nearl impossible', 'necessit ou', 'need book', 'need bu', 'need good', 'need help', 'need know', 'need learn', 'need look', 'need love', 'need make', 'need new', 'need ou', 'need read', 'need sa', 'need use', 'needed book', 'needed m', 'needless sa', 'needs work', 'neil s', 'neil young', 'new age', 'new album', 'new ama', 'new bab', 'new band', 'new batter', 'new batteries', 'new blades', 'new book', 'new books', 'new cd', 'new computer', 'new condition', 'new cop', 'new digital', 'new dvd', 'new edition', 'new favorite', 'new features', 'new ideas', 'new information', 'new item', 'new just', 'new level', 'new m', 'new material', 'new model', 'new music', 'new ones', 'new orleans', 'new ou', 'new perspective', 'new phone', 'new product', 'new s', 'new season', 'new songs', 'new sound', 'new t', 'new technolog', 'new testament', 'new things', 'new tracks', 'new unit', 'new version', 'new vista', 'new wa', 'new world', 'new york', 'newer model', 'newer version', 'nhat hanh', 'nice able', 'nice addition', 'nice bu', 'nice case', 'nice clean', 'nice color', 'nice cover', 'nice feature', 'nice features', 'nice job', 'nice little', 'nice looking', 'nice m', 'nice movie', 'nice ou', 'nice pictures', 'nice price', 'nice product', 'nice read', 'nice s', 'nice si', 'nice touch', 'nice wa', 'nicel m', 'nicel ou', 'nicole kidman', 'night lights', 'night live', 'night ou', 'night s', 'night sh', 'night time', 'non existant', 'non existent', 'non fiction', 'non professional', 'non stick', 'non stop', 'nopsis book', 'nora roberts', 'normal use', 'norrell b', 'north america', 'north american', 'noticed m', 'notre dame', 'novel b', 'novel book', 'novel characters', 'novel m', 'novel ou', 'novel read', 'novel stor', 'novel ve', 'novel written', 'novels ve', 'nowada s', 'nthesi ed', 'nuclear war', 'nuff said', 'number thing', 'numerous books', 'numerous times', 'nursing home', 'nuts bolts', 'o k', 'o neill', 'o reill', 'o s', 'o son', 'offered b', 'oh don', 'oh eah', 'oh m', 'oh s', 'oh wait', 'ok bad', 'ok best', 'ok great', 'ok m', 'ok ou', 'ok read', 'ok s', 'oka ou', 'ol mpus', 'old age', 'old batter', 'old batteries', 'old bo', 'old book', 'old computer', 'old cop', 'old da', 'old daughter', 'old fashion', 'old fashioned', 'old game', 'old girl', 'old grandson', 'old gu', 'old just', 'old loved', 'old loves', 'old m', 'old man', 'old model', 'old nephew', 'old new', 'old old', 'old ones', 'old ou', 'old s', 'old school', 'old son', 'old st', 'old stuff', 'old testament', 'old time', 'old version', 'old vhs', 'older children', 'older kids', 'older model', 'older ones', 'older version', 'olive oil', 'ond m', 'ones great', 'ones m', 'ones ou', 'ones ve', 'onk o', 'onl able', 'onl b', 'onl bad', 'onl big', 'onl book', 'onl bought', 'onl bu', 'onl cd', 'onl complaint', 'onl couple', 'onl criticism', 'onl da', 'onl did', 'onl disappointment', 'onl discover', 'onl does', 'onl dollars', 'onl downside', 'onl drawback', 'onl ear', 'onl ears', 'onl funn', 'onl gave', 'onl good', 'onl got', 'onl great', 'onl half', 'onl heard', 'onl hold', 'onl hope', 'onl hours', 'onl issue', 'onl just', 'onl knew', 'onl lasted', 'onl like', 'onl liked', 'onl little', 'onl m', 'onl make', 'onl makes', 'onl minor', 'onl minutes', 'onl month', 'onl months', 'onl need', 'onl ones', 'onl onl', 'onl ou', 'onl page', 'onl pages', 'onl paid', 'onl people', 'onl pla', 'onl plus', 'onl problem', 'onl product', 'onl purchase', 'onl question', 'onl read', 'onl real', 'onl reall', 'onl reason', 'onl received', 'onl recommend', 'onl redeemer', 'onl review', 'onl s', 'onl sa', 'onl saving', 'onl seconds', 'onl seen', 'onl slightl', 'onl small', 'onl song', 'onl songs', 'onl star', 'onl stars', 'onl takes', 'onl thing', 'onl things', 'onl time', 'onl took', 'onl use', 'onl used', 'onl useful', 'onl ver', 'onl wa', 'onl weeks', 'onl wish', 'onl work', 'onl worked', 'onl works', 'online help', 'online ou', 'open box', 'open cans', 'open mind', 'opened box', 'opened m', 'opened package', 'opener ou', 'opening closing', 'operating s', 'opinion best', 'opinion book', 'opinion good', 'opinion ou', 'opinion s', 'optimus prime', 'oral b', 'order ama', 'order book', 'order m', 'order make', 'order ou', 'order product', 'order s', 'order ver', 'ordered ama', 'ordered book', 'ordered dvd', 'ordered item', 'ordered m', 'ordered man', 'ordered new', 'ordered product', 'ordered received', 'ordered replacement', 'ordered si', 'ordering ama', 'organi ation', 'organi ations', 'organi e', 'organi ed', 'original artists', 'original batter', 'original game', 'original m', 'original movie', 'original music', 'original packaging', 'original songs', 'original soundtrack', 'original version', 'original versions', 'orson scott', 'os x', 'ou able', 'ou actuall', 'ou alread', 'ou alwa', 'ou ama', 'ou appreciate', 'ou aren', 'ou ask', 'ou author', 'ou avoid', 'ou awa', 'ou b', 'ou bad', 'ou barel', 'ou beat', 'ou begin', 'ou beginner', 'ou believe', 'ou best', 'ou better', 'ou big', 'ou bit', 'ou book', 'ou books', 'ou bought', 'ou bu', 'ou build', 'ou care', 'ou careful', 'ou carr', 'ou cd', 'ou certainl', 'ou chance', 'ou change', 'ou charge', 'ou check', 'ou child', 'ou choose', 'ou close', 'ou come', 'ou compare', 'ou considering', 'ou control', 'ou cook', 'ou couldn', 'ou cr', 'ou create', 'ou d', 'ou da', 'ou decide', 'ou definitel', 'ou did', 'ou didn', 'ou die', 'ou different', 'ou dig', 'ou disappointed', 'ou does', 'ou doing', 'ou don', 'ou dont', 'ou download', 'ou easil', 'ou end', 'ou enjo', 'ou expect', 'ou expecting', 'ou familiar', 'ou fan', 'ou fast', 'ou feel', 'ou feeling', 'ou figure', 'ou finall', 'ou finished', 'ou fix', 'ou follow', 'ou forced', 'ou forget', 'ou free', 'ou fun', 'ou game', 'ou gave', 'ou getting', 'ou god', 'ou going', 'ou gonna', 'ou good', 'ou got', 'ou great', 'ou gu', 'ou guess', 'ou hang', 'ou happ', 'ou happen', 'ou hard', 'ou hardl', 'ou hate', 'ou haven', 'ou having', 'ou hear', 'ou heard', 'ou hearing', 'ou help', 'ou hit', 'ou hooked', 'ou hope', 'ou idea', 'ou imagine', 'ou information', 'ou interested', 'ou just', 'ou kidding', 'ou kids', 'ou kind', 'ou knew', 'ou know', 'ou la', 'ou large', 'ou laugh', 'ou laughing', 'ou learn', 'ou leave', 'ou left', 'ou let', 'ou life', 'ou like', 'ou liked', 'ou likel', 'ou limited', 'ou listen', 'ou listening', 'ou little', 'ou live', 'ou ll', 'ou long', 'ou look', 'ou looking', 'ou lose', 'ou lot', 'ou love', 'ou luck', 'ou m', 'ou ma', 'ou make', 'ou mean', 'ou mind', 'ou minutes', 'ou miss', 'ou missing', 'ou mone', 'ou need', 'ou new', 'ou nice', 'ou ok', 'ou old', 'ou onl', 'ou open', 'ou order', 'ou ordered', 'ou ou', 'ou ourself', 'ou pa', 'ou paid', 'ou pass', 'ou past', 'ou people', 'ou person', 'ou pick', 'ou picture', 'ou pla', 'ou place', 'ou plan', 'ou planning', 'ou plug', 'ou pour', 'ou power', 'ou prefer', 'ou prepared', 'ou press', 'ou prett', 'ou probabl', 'ou product', 'ou pull', 'ou purchase', 'ou purchasing', 'ou push', 'ou qualit', 'ou reach', 'ou read', 'ou reading', 'ou real', 'ou reali', 'ou reall', 'ou receive', 'ou recipes', 'ou remember', 'ou remove', 'ou replace', 'ou return', 'ou right', 'ou run', 'ou s', 'ou sa', 'ou save', 'ou search', 'ou seen', 'ou set', 'ou shoot', 'ou simpl', 'ou sit', 'ou skip', 'ou sleep', 'ou smile', 'ou spend', 'ou sta', 'ou start', 'ou started', 'ou step', 'ou stop', 'ou supposed', 'ou sure', 'ou switch', 'ou t', 'ou talking', 'ou tell', 'ou thank', 'ou thing', 'ou things', 'ou think', 'ou thinking', 'ou thought', 'ou throw', 'ou tight', 'ou time', 'ou tr', 'ou track', 'ou trouble', 'ou true', 'ou trul', 'ou turn', 'ou turning', 'ou understand', 'ou use', 'ou used', 'ou using', 'ou value', 'ou ve', 'ou ver', 'ou view', 'ou wa', 'ou wait', 'ou walk', 'ou wanna', 'ou want', 'ou wanted', 'ou wanting', 'ou waste', 'ou watch', 'ou watching', 'ou wh', 'ou willing', 'ou win', 'ou wish', 'ou won', 'ou wonder', 'ou wondered', 'ou wondering', 'ou wont', 'ou work', 'ou working', 'ou world', 'ou wouldn', 'ou write', 'ou wrong', 'oung adult', 'oung adults', 'oung age', 'oung bo', 'oung child', 'oung children', 'oung girl', 'oung lad', 'oung man', 'oung people', 'oung son', 'oung woman', 'oung women', 'ounger brother', 'ourself favor', 'ourself mone', 'ourself ou', 'outer space', 'outlet store', 'outside temperature', 'overall book', 'overall excellent', 'overall game', 'overall good', 'overall great', 'overall m', 'overall qualit', 'overall reall', 'overall recommend', 'overall s', 'overall think', 'overall ver', 'oversi ed', 'owned m', 'owner s', 'p o', 'p rex', 'p s', 'pa attention', 'pa ed', 'pa extra', 'pa ing', 'pa little', 'pa mone', 'pa price', 'pa return', 'pa s', 'pa ship', 'pa shipping', 'package came', 'package m', 'package sa', 'packaged properl', 'pads m', 'page book', 'page m', 'page onl', 'page ou', 'page page', 'page turner', 'pages book', 'pages didn', 'pages just', 'pages later', 'pages left', 'pages long', 'pages m', 'pages missing', 'pages ou', 'pages pages', 'pages read', 'pages ver', 'paid attention', 'paid book', 'paid extra', 'paid price', 'paid shipping', 'paid ver', 'pain m', 'pain ou', 'paint b', 'pair headphones', 'pan just', 'paper filters', 'paper ou', 'paper printed', 'paper weight', 'paper written', 'para los', 'parent child', 'parents read', 'particular model', 'parts book', 'parts missing', 'parts ou', 'pass b', 'past couple', 'past ears', 'past months', 'past present', 'past s', 'patroni ing', 'paul s', 'pc game', 'pc s', 'pe book', 'pe game', 'pe m', 'pe movie', 'pe music', 'pe ou', 'pe surrounding', 'peace mind', 'peanut butter', 'pearl jam', 'pearl s', 'pen m', 'pen ou', 'pencil sharpener', 'people actuall', 'people book', 'people bu', 'people come', 'people did', 'people different', 'people don', 'people enjo', 'people hear', 'people including', 'people just', 'people know', 'people like', 'people little', 'people live', 'people look', 'people m', 'people make', 'people ou', 'people pla', 'people read', 'people reall', 'people s', 'people sa', 'people said', 'people screwing', 'people think', 'people thought', 'people tr', 'people use', 'people want', 'perc jackson', 'perfect book', 'perfect condition', 'perfect fan', 'perfect fit', 'perfect gift', 'perfect m', 'perfect movie', 'perfect ou', 'perfect s', 'perfect si', 'perfect solution', 'perfectl m', 'performance b', 'performed b', 'period time', 'periods time', 'person m', 'person ou', 'person s', 'person wrote', 'personal experience', 'personal experiences', 'personal favorite', 'personal favorites', 'personal life', 'personal opinion', 'personal trainer', 'personall don', 'personall like', 'personall think', 'pet store', 'peter pan', 'peter s', 'ph sical', 'ph sicall', 'ph sician', 'ph sics', 'phone calls', 'phone m', 'phone number', 'phone ou', 'pick book', 'pick cd', 'picked book', 'picked m', 'picture book', 'picture looks', 'picture m', 'picture ou', 'picture picture', 'picture qualit', 'picture s', 'picture shows', 'picture sound', 'picture ver', 'pictures don', 'pictures m', 'pictures ou', 'pictures ver', 'piece crap', 'piece equipment', 'piece garbage', 'piece junk', 'piece plastic', 'piece set', 'piece trash', 'piece work', 'pieces m', 'pink flo', 'pla able', 'pla ard', 'pla bo', 'pla cd', 'pla cds', 'pla don', 'pla dvd', 'pla ed', 'pla er', 'pla ers', 'pla game', 'pla games', 'pla good', 'pla ing', 'pla instruments', 'pla just', 'pla like', 'pla list', 'pla lot', 'pla m', 'pla movie', 'pla music', 'pla onl', 'pla online', 'pla ou', 'pla pla', 'pla s', 'pla set', 'pla station', 'pla time', 'pla ver', 'pla video', 'place actuall', 'place fell', 'place hell', 'place just', 'place like', 'place m', 'place ou', 'place start', 'placed order', 'plain bad', 'plain simple', 'plan bu', 'plan use', 'plan using', 'plastic bag', 'plastic ou', 'plastic parts', 'pleasant read', 'pleasantl surprised', 'pleased m', 'pleasure read', 'plot book', 'plot characters', 'plot development', 'plot device', 'plot just', 'plot line', 'plot s', 'plot twists', 'plot ver', 'plus new', 'plus ou', 'plus s', 'plus shipping', 'point book', 'point m', 'point shoot', 'point view', 'points view', 'politicall correct', 'poor choice', 'poor customer', 'poor design', 'poor game', 'poor job', 'poor packaging', 'poor performance', 'poor product', 'poor qualit', 'poor service', 'poor sound', 'poor writing', 'poorl constructed', 'poorl designed', 'poorl edited', 'poorl executed', 'poorl organi', 'poorl researched', 'poorl written', 'pop culture', 'pop music', 'pop rock', 'pop song', 'porta pro', 'porter cable', 'portra al', 'portra ed', 'portra s', 'possibl best', 'possibl worst', 'potter book', 'potter books', 'potter series', 'power adaptor', 'power cord', 'power rangers', 'power strip', 'power suppl', 'power switch', 'powerful book', 'powershot s', 'pr ing', 'pra er', 'practical advice', 'practical guide', 'practical information', 'practical use', 'premise book', 'prep book', 'present da', 'present m', 'present ou', 'president bush', 'press button', 'press m', 'prett bad', 'prett badl', 'prett clear', 'prett cool', 'prett darn', 'prett decent', 'prett disappointed', 'prett eas', 'prett good', 'prett hard', 'prett lame', 'prett nice', 'prett ou', 'prett quick', 'prett quickl', 'prett sad', 'prett slow', 'prett straight', 'prett thing', 'prett useless', 'previous albums', 'previous books', 'previous model', 'previous ones', 'previous review', 'previous reviewer', 'previous seasons', 'previous works', 'previousl released', 'previousl unreleased', 'pri e', 'price ama', 'price book', 'price bought', 'price bu', 'price cheap', 'price definitel', 'price does', 'price don', 'price dvd', 'price excellent', 'price free', 'price good', 'price got', 'price great', 'price just', 'price like', 'price little', 'price looking', 'price low', 'price m', 'price ou', 'price pa', 'price paid', 'price point', 'price price', 'price product', 'price purchased', 'price range', 'price reall', 'price received', 'price right', 'price s', 'price sound', 'price t', 'price tag', 'price ve', 'price ver', 'price wa', 'price wonderful', 'price works', 'price worth', 'primaril use', 'principles book', 'print qualit', 'print server', 'printer ver', 'pro s', 'probabl best', 'probabl better', 'probabl bu', 'probabl don', 'probabl end', 'probabl good', 'probabl great', 'probabl just', 'probabl like', 'probabl m', 'probabl onl', 'probabl right', 'probabl wa', 'probabl won', 'probabl worst', 'probabl worth', 'problem ama', 'problem book', 'problem did', 'problem just', 'problem m', 'problem ma', 'problem onl', 'problem ou', 'problem product', 'problem received', 'problem s', 'problem solved', 'problem solving', 'problem t', 'problem ve', 'problem ver', 'problem wasn', 'problems getting', 'problems m', 'problems ou', 'produced b', 'product absolutel', 'product actuall', 'product advertised', 'product ama', 'product appears', 'product arrived', 'product awesome', 'product b', 'product bad', 'product better', 'product big', 'product bought', 'product bu', 'product came', 'product compan', 'product description', 'product details', 'product did', 'product does', 'product doesn', 'product don', 'product ears', 'product eas', 'product exactl', 'product excellent', 'product fit', 'product garbage', 'product good', 'product got', 'product great', 'product help', 'product highl', 'product information', 'product just', 'product like', 'product listed', 'product little', 'product looked', 'product looks', 'product love', 'product m', 'product ma', 'product make', 'product month', 'product needed', 'product onl', 'product ordered', 'product ou', 'product perfect', 'product price', 'product product', 'product purchased', 'product reall', 'product received', 'product recommend', 'product s', 'product sa', 'product said', 'product seller', 'product service', 'product shipped', 'product sold', 'product stars', 'product stopped', 'product store', 'product t', 'product takes', 'product think', 'product thought', 'product time', 'product tried', 'product use', 'product used', 'product ve', 'product ver', 'product wa', 'product waste', 'product week', 'product work', 'product worked', 'product works', 'product wrong', 'production qualit', 'production values', 'products ama', 'products great', 'products just', 'products like', 'products m', 'products ou', 'prog metal', 'program ou', 'program s', 'programming book', 'programming experience', 'prompt shipping', 'properl m', 'pros cons', 'protect m', 'provide good', 'provide ou', 'provided b', 'provides excellent', 'provides good', 'provides great', 'ps ch', 'ps che', 'ps chedelic', 'ps chic', 'ps cho', 'ps cholog', 'ps chological', 'ps chologist', 'ps chotherapist', 'ps chotic', 'pu le', 'pu les', 'pu ling', 'public librar', 'public relations', 'public s', 'published author', 'published b', 'publisher s', 'pull ou', 'pulp fiction', 'pun intended', 'punk bands', 'punk rock', 'purchase book', 'purchase cd', 'purchase cop', 'purchase dvd', 'purchase item', 'purchase m', 'purchase new', 'purchase price', 'purchase product', 'purchase thing', 'purchase ve', 'purchase ver', 'purchased ama', 'purchased b', 'purchased book', 'purchased cd', 'purchased christmas', 'purchased different', 'purchased dvd', 'purchased ears', 'purchased gift', 'purchased item', 'purchased m', 'purchased new', 'purchased onl', 'purchased pack', 'purchased past', 'purchased product', 'purchased replacement', 'purchased second', 'purchased set', 'purchased unit', 'purchased use', 'purchased watch', 'purchasing book', 'purchasing item', 'purchasing product', 'pure simple', 'puriclean ii', 'purse great', 'push button', 'puts shame', 'putting book', 'putting m', 'qualit album', 'qualit ama', 'qualit bad', 'qualit better', 'qualit book', 'qualit bought', 'qualit cd', 'qualit construction', 'qualit control', 'qualit dvd', 'qualit excellent', 'qualit good', 'qualit great', 'qualit item', 'qualit just', 'qualit like', 'qualit m', 'qualit material', 'qualit materials', 'qualit movies', 'qualit music', 'qualit nice', 'qualit onl', 'qualit original', 'qualit ou', 'qualit photos', 'qualit picture', 'qualit pictures', 'qualit poor', 'qualit prett', 'qualit price', 'qualit product', 'qualit products', 'qualit reall', 'qualit s', 'qualit set', 'qualit sound', 'qualit ve', 'qualit ver', 'qualit video', 'queen latifah', 'question answer', 'questions answers', 'questions asked', 'questions book', 'quick check', 'quick eas', 'quick fix', 'quick read', 'quickl came', 'quickl easil', 'quickl good', 'quickl m', 'quickl ou', 'quickl price', 'quiet ou', 'quit running', 'quit working', 'quite beautiful', 'quite bit', 'quite boring', 'quite disappointed', 'quite frankl', 'quite good', 'quite happ', 'quite interesting', 'quite large', 'quite lot', 'quite nicel', 'quite possibl', 'quite right', 'quite simpl', 'quite time', 'r b', 'r don', 'r e', 'r old', 'r olds', 'r p', 'r u', 'ra bradbur', 'ra m', 'ra mond', 'ra pla', 'ra r', 'ra s', 'rabbit ears', 'radio ou', 'radio s', 'radio shack', 'radio station', 'radio stations', 'rain da', 'rap music', 'rate book', 'rate monitor', 'rate stars', 'rated star', 'rated stars', 'rating s', 'rating stars', 'rave reviews', 'rca cable', 'read author', 'read authors', 'read b', 'read better', 'read bible', 'read book', 'read books', 'read bought', 'read characters', 'read couldn', 'read cover', 'read da', 'read dail', 'read dark', 'read directions', 'read don', 'read ear', 'read ears', 'read enjo', 'read entire', 'read et', 'read far', 'read free', 'read good', 'read got', 'read great', 'read half', 'read interesting', 'read just', 'read learn', 'read like', 'read long', 'read lot', 'read love', 'read loved', 'read m', 'read make', 'read man', 'read manual', 'read ms', 'read novel', 'read onl', 'read ou', 'read oung', 'read page', 'read pages', 'read product', 'read read', 'read real', 'read reall', 'read rest', 'read review', 'read reviews', 'read s', 'read sa', 'read series', 'read short', 'read st', 'read stor', 'read t', 'read thing', 'read think', 'read times', 'read ve', 'read ver', 'read wa', 'reader m', 'reader s', 'readil available', 'reading book', 'reading books', 'reading couldn', 'reading good', 'reading great', 'reading just', 'reading level', 'reading like', 'reading m', 'reading man', 'reading material', 'reading ms', 'reading novel', 'reading ou', 'reading read', 'reading review', 'reading reviews', 'reading series', 'reading ver', 'reads like', 'real deal', 'real disappointment', 'real estate', 'real good', 'real life', 'real music', 'real nice', 'real page', 'real pain', 'real people', 'real person', 'real stor', 'real thing', 'real time', 'real world', 'reali e', 'reali ed', 'reali es', 'reali ing', 'realit shows', 'reall ama', 'reall anno', 'reall appreciate', 'reall bad', 'reall believe', 'reall best', 'reall better', 'reall boring', 'reall care', 'reall cheap', 'reall cool', 'reall cute', 'reall did', 'reall didn', 'reall disappointed', 'reall disappointing', 'reall does', 'reall doesn', 'reall don', 'reall eas', 'reall enjo', 'reall excited', 'reall fast', 'reall feel', 'reall fun', 'reall funn', 'reall gets', 'reall gives', 'reall going', 'reall good', 'reall got', 'reall great', 'reall hand', 'reall happ', 'reall hard', 'reall hate', 'reall heav', 'reall help', 'reall helped', 'reall hope', 'reall hoping', 'reall impressed', 'reall interested', 'reall interesting', 'reall isn', 'reall just', 'reall know', 'reall learn', 'reall let', 'reall like', 'reall liked', 'reall likes', 'reall looking', 'reall looks', 'reall love', 'reall loved', 'reall m', 'reall mad', 'reall make', 'reall makes', 'reall matter', 'reall neat', 'reall need', 'reall needed', 'reall nice', 'reall onl', 'reall ou', 'reall poor', 'reall prett', 'reall quickl', 'reall quite', 'reall reall', 'reall recommend', 'reall s', 'reall sa', 'reall sad', 'reall shows', 'reall small', 'reall stand', 'reall strange', 'reall stupid', 'reall sucks', 'reall surprised', 'reall sweet', 'reall t', 'reall teach', 'reall thing', 'reall think', 'reall thought', 'reall tr', 'reall understand', 'reall upset', 'reall use', 'reall used', 'reall useful', 'reall ver', 'reall want', 'reall wanted', 'reall wish', 'reall work', 'reall works', 'reall worth', 'reason book', 'reason bought', 'reason bu', 'reason did', 'reason didn', 'reason don', 'reason gave', 'reason got', 'reason people', 'reason stars', 'reason wh', 'reasonabl priced', 'reasonable price', 'rec cle', 'rec cled', 'rec cling', 'received book', 'received christmas', 'received did', 'received gift', 'received item', 'received m', 'received product', 'recent ears', 'recentl bought', 'recentl purchased', 'recipe book', 'recipes book', 'recogni e', 'recogni ed', 'recogni es', 'recommend album', 'recommend book', 'recommend books', 'recommend bu', 'recommend cd', 'recommend dvd', 'recommend game', 'recommend good', 'recommend highl', 'recommend interested', 'recommend item', 'recommend looking', 'recommend m', 'recommend movie', 'recommend ou', 'recommend product', 'recommend reading', 'recommend series', 'recommend spending', 'recommend unit', 'recommended b', 'recommended book', 'recommended ou', 'record compan', 'record label', 'recording qualit', 'red dog', 'red hot', 'red light', 'reference book', 'reference books', 'reference guide', 'reference manual', 'reference ou', 'refund m', 'regret bu', 'regular basis', 'regular use', 'release dvd', 'release s', 'released dvd', 'remember m', 'remember ou', 'remember reading', 'remote control', 'remote opener', 'rent ou', 'rented game', 'repla tv', 'replace batter', 'replace m', 'replaced b', 'replacement batter', 'replacement blades', 'replacement bulb', 'replacement filter', 'replacement m', 'replacement original', 'replacement parts', 'replacing m', 'required reading', 'resaw depth', 'researched book', 'resident evil', 'resnikoff s', 'resource book', 'response m', 'rest album', 'rest band', 'rest book', 'rest cast', 'rest cd', 'rest just', 'rest life', 'rest m', 'rest movie', 'rest series', 'rest tracks', 'results m', 'results ou', 'retractable cord', 'return ama', 'return item', 'return m', 'return polic', 'return process', 'return product', 'return refund', 'return s', 'return shipping', 'returned book', 'returned bought', 'returned da', 'returned item', 'returned m', 'returned product', 'returned refund', 'returned unit', 'returning item', 'review b', 'review book', 'review bought', 'review don', 'review m', 'review ou', 'review posted', 'review product', 'review questions', 'review read', 'review sa', 'review said', 'review short', 'review ve', 'reviewed b', 'reviewer mentioned', 'reviewer s', 'reviewer said', 'reviewers mentioned', 'reviewers pointed', 'reviewers sa', 'reviewers said', 'reviews ama', 'reviews book', 'reviews bought', 'reviews bu', 'reviews carefull', 'reviews decided', 'reviews just', 'reviews m', 'reviews ordered', 'reviews ou', 'reviews posted', 'reviews product', 'reviews purchased', 'reviews purchasing', 'reviews read', 'reviews reall', 'reviews right', 'reviews s', 'reviews sa', 'reviews said', 'reviews saw', 'reviews site', 'reviews sounds', 'reviews stated', 'reviews thought', 'reviews ve', 'rh mes', 'rh thm', 'rh thms', 'rick gervais', 'rics make', 'rics ou', 'rics songs', 'rics wa', 'right angle', 'right awa', 'right bat', 'right book', 'right box', 'right did', 'right left', 'right m', 'right middle', 'right ou', 'right package', 'right place', 'right s', 'right si', 'right time', 'right track', 'right use', 'right ver', 'right wa', 'right wing', 'right wrong', 'ring true', 'ro al', 'road trip', 'robie s', 'robin hood', 'rock albums', 'rock band', 'rock bands', 'rock ja', 'rock music', 'rock n', 'rock ou', 'rock roll', 'rock solid', 'rod stewart', 'role model', 'role pla', 'rolling pin', 'romance m', 'romantic comed', 'romantic suspense', 'room m', 'room temperature', 'room ver', 'rubber band', 'ruined b', 'ruined m', 'run s', 'running m', 'running windows', 's abilit', 's actuall', 's ago', 's album', 's albums', 's alread', 's alwa', 's ama', 's anno', 's approach', 's art', 's attention', 's author', 's available', 's awesome', 's b', 's bad', 's band', 's basicall', 's beautiful', 's best', 's better', 's beware', 's bible', 's big', 's biggest', 's birthda', 's bit', 's black', 's bo', 's bod', 's book', 's books', 's boring', 's bought', 's box', 's brand', 's brilliant', 's broken', 's bu', 's business', 's called', 's car', 's career', 's case', 's cd', 's cds', 's certainl', 's character', 's cheap', 's cheapl', 's check', 's child', 's children', 's christmas', 's classic', 's clear', 's collection', 's come', 's coming', 's completel', 's cool', 's cop', 's cost', 's course', 's cr', 's customer', 's cute', 's d', 's da', 's dark', 's date', 's daughter', 's dead', 's death', 's debut', 's deep', 's definitel', 's desire', 's did', 's difference', 's different', 's difficult', 's does', 's doing', 's don', 's durable', 's dvd', 's e', 's ear', 's earl', 's ears', 's eas', 's easier', 's end', 's enjo', 's et', 's exactl', 's excellent', 's excuse', 's expected', 's experience', 's experiences', 's extremel', 's face', 's fact', 's fairl', 's famil', 's fan', 's fantastic', 's far', 's father', 's fault', 's favorite', 's favorites', 's feel', 's feet', 's fiction', 's filled', 's final', 's finall', 's fine', 's fits', 's free', 's fun', 's funn', 's game', 's games', 's gets', 's getting', 's giftset', 's girl', 's girls', 's given', 's going', 's gone', 's good', 's got', 's gotta', 's great', 's greatest', 's guide', 's guitar', 's h', 's half', 's hand', 's hands', 's happ', 's happening', 's hard', 's harder', 's hate', 's having', 's head', 's health', 's heard', 's hearing', 's heart', 's heav', 's help', 's high', 's highl', 's histor', 's hit', 's hits', 's hold', 's home', 's hope', 's horrible', 's hot', 's house', 's huge', 's important', 's impossible', 's incredible', 's interesting', 's issues', 's journe', 's just', 's kind', 's know', 's known', 's l', 's large', 's late', 's later', 's lewis', 's life', 's light', 's like', 's liked', 's listen', 's little', 's live', 's living', 's ll', 's loaded', 's long', 's longer', 's look', 's looking', 's lost', 's lot', 's love', 's loved', 's m', 's ma', 's main', 's major', 's make', 's makes', 's man', 's material', 's mbolism', 's mbols', 's mess', 's message', 's mind', 's missing', 's model', 's mone', 's months', 's mostl', 's mother', 's mouth', 's movie', 's movies', 's mpath', 's mpathetic', 's mphon', 's mptoms', 's music', 's nc', 's ndrome', 's nearl', 's need', 's new', 's nice', 's non', 's nopsis', 's novel', 's ntax', 's nth', 's nthesi', 's nthetic', 's obvious', 's ok', 's oka', 's old', 's onl', 's open', 's original', 's ou', 's past', 's people', 's perfect', 's performance', 's personal', 's picture', 's pictures', 's pla', 's place', 's plan', 's plot', 's point', 's poor', 's possible', 's power', 's prett', 's previous', 's price', 's print', 's probabl', 's problem', 's problems', 's product', 's production', 's ps', 's qualit', 's quick', 's quite', 's r', 's read', 's reading', 's real', 's reall', 's reason', 's received', 's recommend', 's red', 's refreshing', 's response', 's return', 's review', 's right', 's rock', 's role', 's room', 's running', 's rup', 's s', 's sa', 's screen', 's second', 's self', 's shadow', 's shame', 's short', 's si', 's simpl', 's simple', 's slow', 's small', 's smooth', 's song', 's songs', 's soul', 's sound', 's special', 's st', 's sta', 's started', 's stem', 's stems', 's stor', 's stuff', 's sturd', 's subject', 's super', 's support', 's supposed', 's sure', 's t', 's talent', 's terrific', 's thanks', 's theme', 's thing', 's things', 's thought', 's time', 's times', 's title', 's total', 's totall', 's tough', 's tr', 's true', 's tunes', 's turn', 's tv', 's unfortunatel', 's unique', 's use', 's used', 's useless', 's using', 's usuall', 's ve', 's ver', 's version', 's video', 's view', 's vocals', 's voice', 's wa', 's want', 's wanted', 's waste', 's website', 's wedding', 's weight', 's wh', 's wife', 's wonderful', 's work', 's worked', 's working', 's works', 's world', 's worst', 's worth', 's worthless', 's writing', 's written', 's wrong', 'sa album', 'sa ama', 'sa best', 'sa book', 'sa bu', 'sa cd', 'sa didn', 'sa disappointed', 'sa don', 'sa good', 'sa great', 'sa ing', 'sa just', 'sa m', 'sa man', 'sa onl', 'sa ou', 'sa product', 'sa s', 'sa thank', 'sa thing', 'sa ver', 'sa wow', 'said book', 'said like', 'said m', 'said ou', 'said si', 'salt pepper', 'sam s', 'san diego', 'san francisco', 'sandra brown', 'sarah brightman', 'satisf ing', 'satisfied product', 'satisfied purchase', 'saturda night', 'savage s', 'save bucks', 'save lot', 'save m', 'save mone', 'save money', 'save ou', 'save ourself', 'save time', 'saved lot', 'saved m', 'saving grace', 'saving m', 'saw concert', 'saw cover', 'saw film', 'saw good', 'saw movie', 'saw tv', 'scare ou', 'scenes book', 'scenes sex', 'school teacher', 'schwar bein', 'sci fi', 'science fiction', 'scoob doo', 'scotch tape', 'scott card', 'screen death', 'screwing america', 'scroll wheel', 'sd card', 'season m', 'season s', 'seat belt', 'second best', 'second book', 'second child', 'second cop', 'second da', 'second half', 'second hand', 'second rate', 'second season', 'second set', 'second time', 'second unit', 'section book', 'sections book', 'seen b', 'seen m', 'seen movie', 'seen ou', 'seen s', 'self book', 'self centered', 'self cleaning', 'self contained', 'self esteem', 'self finish', 'self help', 'self m', 'self read', 'self reading', 'self serving', 'self using', 'self ver', 'sell book', 'sell ou', 'sell product', 'seller s', 'seller ver', 'selling book', 'send new', 'send ou', 'sense book', 'sense humor', 'sense ou', 'sensitive skin', 'sent email', 'sent m', 'sent new', 'sent replacement', 'sent wrong', 'serial killer', 'serial number', 'serial port', 'series b', 'series best', 'series book', 'series books', 'series enjo', 'series far', 'series got', 'series great', 'series hope', 'series just', 'series like', 'series little', 'series m', 'series onl', 'series ou', 'series probabl', 'series read', 'series s', 'series stor', 'series ver', 'seriousl book', 'serves purpose', 'service ama', 'service center', 'service compan', 'service excellent', 'service good', 'service great', 'service line', 'service m', 'service product', 'service rep', 'service sent', 'service support', 'service ver', 'sesame street', 'set b', 'set dvds', 'set glasses', 'set great', 'set like', 'set m', 'set movies', 'set music', 'set onl', 'set ou', 'set price', 'set reall', 'set s', 'set set', 'set thing', 'set time', 'set ver', 'setting m', 'seven ear', 'sewing machine', 'sex cit', 'sex s', 'sex scenes', 'sex violence', 'sexual abuse', 'sh amalan', 'sh awa', 'shame ou', 'shania twain', 'shape m', 'shape ou', 'shape s', 'shape sorter', 'share m', 'sharp edges', 'sheds light', 'sheet metal', 'shelf m', 'sher l', 'sherlock holmes', 'shining force', 'shipped m', 'shipped quickl', 'shipped time', 'shipping charges', 'shipping cost', 'shipping costs', 'shipping handling', 'shipping m', 'shipping price', 'shipping s', 'shirt m', 'shocked b', 'short batter', 'short book', 'short just', 'short lived', 'short m', 'short ou', 'short period', 'short read', 'short s', 'short stor', 'short stories', 'short sweet', 'short time', 'short ver', 'shouldn t', 'shower cadd', 'shower curtain', 'shower gift', 'shower head', 'shower radio', 'shown picture', 'shows great', 'shows like', 'shows ou', 'shrink wrap', 'si e', 'si ed', 'si es', 'si ing', 'si la', 'sical punishment', 'sidewa s', 'signal booster', 'sill fun', 'similar m', 'similar product', 'similar wa', 'simon garfunkel', 'simpl ama', 'simpl beautiful', 'simpl best', 'simpl couldn', 'simpl does', 'simpl don', 'simpl love', 'simpl s', 'simpl t', 'simple book', 'simple eas', 'simple et', 'simple fast', 'simple m', 'simple ou', 'sin cit', 'sinatra s', 'sing song', 'singer s', 'singing dancing', 'singing m', 'single cd', 'single page', 'single pla', 'single song', 'sit read', 'sit relax', 'site s', 'site ver', 'sits m', 'sitting computer', 'sitting m', 'sixth season', 'skin appl', 'skin just', 'skin used', 'skip book', 'skipping pages', 'sleepawa camp', 'sleeping bag', 'slightl better', 'slightl different', 'slightl disappointed', 'slim whitman', 'slow boring', 'slow moving', 'slow ou', 'slow paced', 'slow start', 'small bowl', 'small camera', 'small child', 'small children', 'small compact', 'small fit', 'small jobs', 'small light', 'small m', 'small ou', 'small projects', 'small s', 'small si', 'small town', 'smell burning', 'smell like', 'smells like', 'smile s', 'smith s', 'smooth ja', 'snoo e', 'snug dr', 'soap opera', 'soap water', 'social commentar', 'soft bulletin', 'soft m', 'software comes', 'software doesn', 'software great', 'software package', 'software works', 'solar shower', 'sold ama', 'sold b', 'sole purpose', 'solid construction', 'solo album', 'solution ou', 'solution problem', 'solve m', 'solve problem', 'solve problems', 'solved m', 'solved problem', 'solves problem', 'son christmas', 'son got', 'son likes', 'son loved', 'son loves', 'son reall', 'son s', 'son ver', 'son wanted', 'son wants', 'song album', 'song b', 'song better', 'song called', 'song cd', 'song good', 'song great', 'song just', 'song like', 'song m', 'song ou', 'song pla', 'song s', 'song title', 'song wa', 'songs album', 'songs b', 'songs cd', 'songs don', 'songs eas', 'songs good', 'songs great', 'songs heard', 'songs included', 'songs just', 'songs like', 'songs love', 'songs m', 'songs make', 'songs missing', 'songs movie', 'songs ou', 'songs overall', 'songs pla', 'songs reall', 'songs s', 'songs sound', 'songs time', 'songs ver', 'songs wa', 'songs worth', 'soon ou', 'soon started', 'sorel disappointed', 'sorr bought', 'sorr did', 'sorr gu', 'sorr ou', 'sorr sa', 'sorr wasted', 'sort like', 'sort thing', 'soul music', 'soul sessions', 'sound awesome', 'sound better', 'sound coming', 'sound eas', 'sound effects', 'sound excellent', 'sound fine', 'sound good', 'sound great', 'sound just', 'sound like', 'sound little', 'sound m', 'sound ou', 'sound picture', 'sound pla', 'sound prett', 'sound qualit', 'sound reall', 'sound s', 'sound superb', 'sound t', 'sound think', 'sound track', 'sound ver', 'sounded better', 'sounded good', 'sounded like', 'sounded ver', 'sounds better', 'sounds good', 'sounds great', 'sounds just', 'sounds like', 'sounds reall', 'sounds ver', 'soundtrack movie', 'soundtrack ou', 'source information', 'source material', 'sp ware', 'space heater', 'space m', 'space rock', 'space ship', 'spark plug', 'speaker s', 'special edition', 'special effects', 'special features', 'special place', 'specific information', 'speed deliver', 'spelling errors', 'spend extra', 'spend little', 'spend lot', 'spend m', 'spend mone', 'spend time', 'spending mone', 'spending time', 'spends time', 'spent hours', 'spent lot', 'spent mone', 'spent time', 'spider man', 'spiritual exercises', 'spra ed', 'spra er', 'spra ing', 'spra s', 'square foot', 'squee e', 'st centur', 'st le', 'st les', 'st ling', 'st lings', 'st lish', 'st time', 'sta awa', 'sta ed', 'sta ing', 'sta m', 'sta place', 'sta s', 'stainless steel', 'stand b', 'stand ou', 'stand product', 'standard si', 'star book', 'star movie', 'star onl', 'star rating', 'star review', 'star reviewers', 'star reviews', 'star s', 'star trek', 'star wars', 'stars book', 'stars don', 'stars great', 'stars instead', 'stars just', 'stars like', 'stars m', 'stars movie', 'stars onl', 'stars option', 'stars ou', 'stars s', 'stars sound', 'stars ve', 'start b', 'start book', 'start finish', 'start m', 'start ou', 'start reading', 'started leaking', 'started m', 'started pla', 'started read', 'started reading', 'started reall', 'started using', 'started watching', 'starting point', 'state mind', 'stay away', 'steer clear', 'steering wheel', 'stem does', 'stem just', 'stem m', 'stem ma', 'stem ver', 'stem works', 'step b', 'stephanie laurens', 'stephen king', 'stereot pe', 'stereot pes', 'stereot pical', 'steven seagal', 'stick bu', 'stick m', 'stick ou', 'stick surface', 'stone s', 'stop making', 'stop ou', 'stop reading', 'stop selling', 'stop working', 'stopped pla', 'stopped reading', 'stopped working', 'stor ama', 'stor b', 'stor book', 'stor characters', 'stor does', 'stor good', 'stor great', 'stor interesting', 'stor just', 'stor line', 'stor lines', 'stor m', 'stor onl', 'stor ou', 'stor read', 'stor reall', 'stor s', 'stor stor', 'stor t', 'stor teller', 'stor telling', 'stor told', 'stor ver', 'stor written', 'store bought', 'store just', 'store m', 'store ou', 'store s', 'stories book', 'stories good', 'stories like', 'straight forward', 'straight point', 'strateg guide', 'stream consciousness', 'street names', 'strip cut', 'strong album', 'strongl recommend', 'strongl suggest', 'stuck m', 'stud guide', 'stud ing', 'studio albums', 'stuff book', 'stuff good', 'stuff just', 'stuff like', 'stuff m', 'stuff ou', 'stuff reall', 'su anne', 'sub par', 'sub standard', 'subject matter', 'subject ou', 'sucks ou', 'suction cup', 'suggest bu', 'suggest ou', 'sunda morning', 'sung b', 'super eas', 'super fast', 'support bought', 'support ou', 'support site', 'support told', 'supported b', 'supposed work', 'sure check', 'sure did', 'sure enjo', 'sure going', 'sure great', 'sure hope', 'sure ll', 'sure m', 'sure man', 'sure ou', 'sure people', 'sure problem', 'sure s', 'sure wh', 'sure won', 'sure works', 'surprised b', 'surprised m', 'surprisingl good', 'surve ing', 'sustain pedal', 'swing m', 't able', 't accept', 't actuall', 't add', 't affect', 't afford', 't agree', 't allow', 't alread', 't alwa', 't ama', 't answer', 't appear', 't ask', 't awa', 't b', 't bad', 't beat', 't believe', 't best', 't better', 't big', 't book', 't books', 't bother', 't bothered', 't bought', 't bring', 't bu', 't buy', 't care', 't carr', 't cd', 't chance', 't change', 't charge', 't cheap', 't close', 't come', 't compare', 't cost', 't count', 't cover', 't cut', 't decide', 't disappoint', 't disappointed', 't don', 't dvd', 't eas', 't eat', 't end', 't enjo', 't ero', 't et', 't exactl', 't exist', 't expect', 't expected', 't expecting', 't expensive', 't explain', 't fall', 't fan', 't far', 't fast', 't feel', 't figure', 't finish', 't finished', 't fit', 't flow', 't follow', 't fooled', 't funn', 't game', 't given', 't giving', 't going', 't good', 't got', 't gotten', 't grab', 't great', 't handle', 't happ', 't happen', 't happier', 't hard', 't hate', 't hear', 't heard', 't help', 't hesitate', 't hold', 't horrible', 't huge', 't hurt', 't imagine', 't impressed', 't include', 't ing', 't install', 't interesting', 't issue', 't judge', 't jump', 't just', 't justif', 't know', 't leak', 't learn', 't leave', 't ler', 't let', 't like', 't listen', 't live', 't long', 't look', 't looked', 't looking', 't lot', 't love', 't m', 't make', 't man', 't match', 't matter', 't mean', 't mention', 't mentioned', 't mind', 't miss', 't model', 't mone', 't movie', 't music', 't nearl', 't necessaril', 't need', 't new', 't notice', 't offer', 't open', 't order', 't ou', 't pa', 't past', 't pe', 't ped', 't pes', 't pical', 't picall', 't pick', 't ping', 't pla', 't plan', 't pos', 't problem', 't problems', 't product', 't provide', 't purchase', 't quite', 't reach', 't read', 't real', 't reali', 't reall', 't received', 't recogni', 't recommend', 't regret', 't release', 't remember', 't replacement', 't require', 't resist', 't return', 't run', 't s', 't sa', 't save', 't seen', 't sell', 't shirt', 't shut', 't sing', 't sorr', 't sound', 't spend', 't sta', 't stand', 't star', 't stars', 't started', 't stick', 't stop', 't support', 't sure', 't t', 't talk', 't taste', 't teach', 't tell', 't thing', 't think', 't time', 't touch', 't tr', 't tried', 't true', 't trust', 't turn', 't understand', 't use', 't used', 't usuall', 't v', 't ver', 't wa', 't wait', 't want', 't waste', 't watch', 't wear', 't wh', 't work', 't working', 't worr', 't worth', 't write', 't wrong', 'ta lor', 'table book', 'table contents', 'table saw', 'tai chi', 'taken b', 'takes awa', 'takes forever', 'takes getting', 'takes great', 'takes little', 'takes long', 'takes longer', 'takes lot', 'takes m', 'takes minutes', 'takes ou', 'takes place', 'takes reader', 'takes time', 'takes ver', 'taking chance', 'taking charge', 'taking m', 'taking pictures', 'taking place', 'tale ou', 'talented artist', 'talented writer', 'talk radio', 'talking ou', 'tall s', 'tap water', 'target audience', 'taste great', 'tastes like', 'tea set', 'teach m', 'teach ou', 'teacher man', 'teaches ou', 'tears m', 'tech support', 'technical information', 'technical issues', 'technical support', 'teen bopper', 'teenage bo', 'tell difference', 'tell m', 'tell ou', 'tell people', 'tell s', 'tell stor', 'tell wh', 'telling good', 'telling ou', 'telling stor', 'telling stories', 'tells ou', 'tells stor', 'terrible book', 'terrible does', 'terrible don', 'terrible m', 'terrible movie', 'terrible ou', 'terrible product', 'terrible sound', 'terrible terrible', 'terrible ver', 'terrible waste', 'terrif ing', 'terrific book', 'test book', 'test m', 'test mode', 'test test', 'test time', 'texas histor', 'text book', 'text ver', 'th anniversar', 'th birthda', 'th book', 'th centur', 'th grade', 'th grader', 'th m', 'th percentile', 'th s', 'thank god', 'thank goodness', 'thank ou', 'thanks ama', 'thanks book', 'thanks great', 'thanks reading', 'thats onl', 'theme song', 'thera cane', 'thich nhat', 'thief b', 'thing alread', 'thing ama', 'thing b', 'thing better', 'thing book', 'thing bothered', 'thing bought', 'thing broke', 'thing child', 'thing comes', 'thing compan', 'thing d', 'thing did', 'thing didn', 'thing does', 'thing doesn', 'thing don', 'thing game', 'thing going', 'thing good', 'thing great', 'thing happened', 'thing happens', 'thing including', 'thing isn', 'thing just', 'thing know', 'thing like', 'thing little', 'thing m', 'thing makes', 'thing movie', 'thing need', 'thing needed', 'thing new', 'thing noticed', 'thing onl', 'thing ou', 'thing people', 'thing pla', 'thing read', 'thing reall', 'thing right', 'thing s', 'thing sa', 'thing said', 'thing seen', 'thing seller', 'thing small', 'thing stars', 'thing stop', 'thing thing', 'thing think', 'thing tr', 'thing used', 'thing ve', 'thing ver', 'thing wanted', 'thing wish', 'thing work', 'thing worked', 'thing working', 'thing works', 'thing world', 'thing wrong', 'things better', 'things book', 'things d', 'things didn', 'things don', 'things going', 'things happened', 'things just', 'things know', 'things like', 'things m', 'things make', 'things ou', 'things s', 'things set', 'things think', 'things told', 'things ve', 'things ver', 'things wrong', 'think album', 'think author', 'think b', 'think best', 'think better', 'think book', 'think bu', 'think cd', 'think d', 'think does', 'think game', 'think going', 'think good', 'think got', 'think great', 'think just', 'think like', 'think ll', 'think long', 'think m', 'think ma', 'think man', 'think movie', 'think need', 'think new', 'think ou', 'think ourself', 'think people', 'think product', 'think read', 'think reall', 'think right', 'think s', 'think small', 'think thing', 'think twice', 'think ve', 'think ver', 'think wa', 'think worth', 'thinking bu', 'thinking d', 'thinking getting', 'thinking good', 'thinking m', 'thinking s', 'thinking work', 'thinks s', 'thirt ears', 'thorough job', 'thoroughl disappointed', 'thoroughl enjo', 'thought album', 'thought book', 'thought bu', 'thought d', 'thought fun', 'thought game', 'thought getting', 'thought going', 'thought good', 'thought great', 'thought interesting', 'thought just', 'thought knew', 'thought like', 'thought looked', 'thought m', 'thought ma', 'thought making', 'thought nice', 'thought onl', 'thought ou', 'thought perfect', 'thought prett', 'thought price', 'thought provoking', 'thought purchased', 'thought reall', 'thought s', 'thought series', 'thought tr', 'thought ver', 'thought wrong', 'thousand times', 'threw awa', 'throw awa', 'throwing awa', 'thumb drive', 'time actuall', 'time ago', 'time ama', 'time author', 'time b', 'time better', 'time book', 'time bought', 'time bu', 'time cd', 'time christmas', 'time consuming', 'time date', 'time did', 'time don', 'time effort', 'time fan', 'time favorite', 'time frame', 'time getting', 'time going', 'time good', 'time got', 'time great', 'time heard', 'time highl', 'time just', 'time like', 'time listen', 'time ll', 'time looking', 'time m', 'time machine', 'time make', 'time mone', 'time movie', 'time music', 'time need', 'time new', 'time onl', 'time ou', 'time people', 'time perfect', 'time period', 'time pla', 'time prett', 'time product', 'time purchase', 'time purchased', 'time read', 'time reader', 'time reading', 'time reall', 'time received', 'time recommend', 'time return', 'time s', 'time saw', 'time soon', 'time spent', 'time stor', 'time t', 'time takes', 'time thing', 'time think', 'time thought', 'time time', 'time tr', 'time tried', 'time turn', 'time use', 'time used', 'time using', 'time ve', 'time ver', 'time wa', 'time want', 'time watch', 'time went', 'time work', 'time writing', 'timel fashion', 'timel manner', 'times better', 'times da', 'times did', 'times got', 'times just', 'times m', 'times ou', 'times s', 'times time', 'times ve', 'times ver', 'times week', 'title book', 'title sa', 'title track', 'toaster oven', 'toda s', 'toilet seat', 'told b', 'told m', 'told onl', 'told ou', 'told read', 'told send', 'tom tom', 'tone book', 'toner cartridge', 'tongue cheek', 'took batteries', 'took box', 'took chance', 'took forever', 'took home', 'took long', 'took longer', 'took m', 'took minutes', 'took place', 'took seconds', 'took thing', 'took time', 'took trip', 'took ver', 'took weeks', 'tool box', 'tool great', 'tools just', 'total disappointment', 'total lack', 'total waste', 'totall different', 'totall useless', 'totall worth', 'touch screen', 'tr bu', 'tr ing', 'tr m', 'tr make', 'tr new', 'tr ou', 'tr pla', 'tr s', 'tr use', 'tr ver', 'tra s', 'track like', 'track listing', 'track m', 'tracks album', 'tracks cd', 'tracks great', 'tracks just', 'tracks like', 'trading spaces', 'train child', 'training book', 'training center', 'training m', 'training methods', 'transfer cable', 'transfer data', 'transfer files', 'trash m', 'travel guide', 'travel kit', 'tried contact', 'tried different', 'tried install', 'tried just', 'tried m', 'tried make', 'tried man', 'tried thing', 'tried times', 'tried tried', 'tried use', 'tried using', 'trigger point', 'tripp lite', 'trouble finding', 'true crime', 'true fan', 'true life', 'true love', 'true ou', 'true stor', 'trul ama', 'trul best', 'trul great', 'truth book', 'tub s', 'tunes cd', 'turn based', 'turn m', 'turn ou', 'turn page', 'turn radio', 'turn s', 'turn ver', 'turn volume', 'turned b', 'turned great', 'turning page', 'turning pages', 'tv m', 'tv movie', 'tv series', 'tv shows', 'twent ears', 'twilight zone', 'twin beds', 'twists turns', 'tx u', 'u bek', 'u k', 'u like', 'u s', 'u u', 'u want', 'ultra soft', 'uma thurman', 'unauthori ed', 'underl ing', 'understand m', 'understand s', 'understand ver', 'understand wh', 'underwater case', 'unfortunatel book', 'unfortunatel did', 'unfortunatel didn', 'unfortunatel doesn', 'unfortunatel just', 'unfortunatel m', 'unfortunatel ou', 'unfortunatel ver', 'unique st', 'unit did', 'unit does', 'unit looks', 'unit m', 'unit onl', 'unit ou', 'unit s', 'unit ver', 'unit worked', 'united states', 'unless course', 'unless ou', 'updated version', 'usb cable', 'usb port', 'usb travel', 'use basic', 'use book', 'use da', 'use dail', 'use didn', 'use don', 'use dvd', 'use ear', 'use eas', 'use especiall', 'use et', 'use good', 'use great', 'use hand', 'use help', 'use item', 'use just', 'use knife', 'use like', 'use little', 'use lot', 'use m', 'use man', 'use mouse', 'use onl', 'use ou', 'use pla', 'use power', 'use product', 'use purchased', 'use reference', 'use s', 'use small', 'use thing', 'use time', 'use times', 'use tried', 'use used', 'use ver', 'use wa', 'use work', 'used b', 'used book', 'used cop', 'used da', 'used different', 'used ears', 'used great', 'used item', 'used just', 'used m', 'used man', 'used months', 'used new', 'used onl', 'used ou', 'used pla', 'used product', 'used s', 'used think', 'used time', 'used times', 'used twice', 'used use', 'used ver', 'used work', 'useful book', 'useful information', 'useless book', 'useless ou', 'user friendl', 'user interface', 'using book', 'using da', 'using ear', 'using ears', 'using m', 'using months', 'using old', 'using product', 'using times', 'using ver', 'utili e', 'utili ing', 'v batter', 'v m', 'v s', 'vacuum cleaner', 'valentine s', 'valuable information', 'valuable resource', 'value mone', 'value ou', 'value price', 'van halen', 'van helsing', 'van morrison', 'var ing', 've able', 've alread', 've alwa', 've better', 've bought', 've come', 've ears', 've enjo', 've experienced', 've fan', 've given', 've gone', 've got', 've gotten', 've heard', 've just', 've known', 've learned', 've liked', 've listened', 've looking', 've loved', 've m', 've months', 've noticed', 've onl', 've ordered', 've owned', 've pla', 've purchased', 've read', 've seen', 've spent', 've tried', 've used', 've using', 've ver', 've waiting', 've wasted', 've watched', 've written', 'vehicle mount', 'ver accurate', 'ver angr', 'ver anno', 'ver attractive', 'ver bad', 'ver basic', 'ver beginning', 'ver best', 'ver book', 'ver boring', 'ver careful', 'ver catch', 'ver cheap', 'ver cheapl', 'ver clean', 'ver clear', 'ver close', 'ver colorful', 'ver comfortable', 'ver complete', 'ver confusing', 'ver convenient', 'ver cool', 'ver creative', 'ver cute', 'ver da', 'ver detailed', 'ver different', 'ver difficult', 'ver disapointed', 'ver disappointed', 'ver disappointing', 'ver dissapointed', 'ver dr', 'ver durable', 'ver eas', 'ver easil', 'ver effective', 'ver efficient', 'ver elegant', 'ver end', 'ver enjo', 'ver entertaining', 'ver excited', 'ver expensive', 'ver fast', 'ver fine', 'ver flims', 'ver frustrating', 'ver fun', 'ver funn', 'ver glad', 'ver good', 'ver hand', 'ver happ', 'ver hard', 'ver heav', 'ver helpful', 'ver high', 'ver highl', 'ver important', 'ver impressed', 'ver inconvenient', 'ver inexpensive', 'ver informative', 'ver inspiring', 'ver intelligent', 'ver interesting', 'ver just', 'ver large', 'ver light', 'ver like', 'ver limited', 'ver little', 'ver long', 'ver loud', 'ver low', 'ver m', 'ver man', 'ver melodic', 'ver minor', 'ver misleading', 'ver neat', 'ver nice', 'ver nicel', 'ver nois', 'ver old', 'ver original', 'ver ou', 'ver oung', 'ver pleasant', 'ver pleased', 'ver poor', 'ver poorl', 'ver powerful', 'ver practical', 'ver prett', 'ver quickl', 'ver rarel', 'ver readable', 'ver real', 'ver reasonabl', 'ver reasonable', 'ver repetitive', 'ver rough', 'ver s', 'ver sad', 'ver satisfied', 'ver secure', 'ver sensitive', 'ver sharp', 'ver short', 'ver similar', 'ver simple', 'ver slow', 'ver slowl', 'ver small', 'ver smooth', 'ver soft', 'ver solid', 'ver soon', 'ver sorr', 'ver st', 'ver stable', 'ver strange', 'ver strong', 'ver sturd', 'ver superficial', 'ver surprised', 'ver talented', 'ver technical', 'ver thought', 'ver tight', 'ver time', 'ver ugl', 'ver uncomfortable', 'ver unhapp', 'ver unique', 'ver upset', 'ver use', 'ver useful', 'ver user', 'ver ver', 'ver warm', 'ver weak', 'ver weird', 'ver wide', 'ver worth', 'ver written', 'version book', 'version great', 'version just', 'version m', 'version movie', 'version ou', 'version s', 'vhs tape', 'vhs version', 'vice versa', 'video audio', 'video card', 'video game', 'video games', 'video good', 'video m', 'video ou', 'video ver', 'video video', 'vin l', 'vince fl', 'vinci code', 'vision m', 'vo ager', 'voice acting', 'voice actors', 'voice ou', 'voice s', 'volle ball', 'volume control', 'volume level', 'volume m', 'volume ou', 'von trapp', 'vs s', 'w o', 'wa album', 'wa author', 'wa best', 'wa better', 'wa big', 'wa book', 'wa bought', 'wa cd', 'wa did', 'wa does', 'wa end', 'wa fast', 'wa great', 'wa information', 'wa just', 'wa learn', 'wa life', 'wa like', 'wa long', 'wa loud', 'wa m', 'wa make', 'wa making', 'wa man', 'wa movie', 'wa ne', 'wa old', 'wa onl', 'wa ou', 'wa past', 'wa people', 'wa protect', 'wa read', 'wa reall', 'wa recommend', 'wa s', 'wa short', 'wa small', 'wa stor', 'wa tell', 'wa think', 'wa time', 'wa train', 'wa use', 'wa using', 'wa ver', 'wa wa', 'wa written', 'wa wrong', 'wait book', 'wait come', 'wait ears', 'wait finish', 'wait m', 'wait minute', 'wait new', 'wait pla', 'wait read', 'wait season', 'wait till', 'waited hours', 'waited long', 'waiting long', 'waiting m', 'waiting months', 'wal mart', 'walk awa', 'walks ou', 'wall outlet', 'want add', 'want album', 'want better', 'want book', 'want bu', 'want change', 'want check', 'want child', 'want consider', 'want dance', 'want dvd', 'want game', 'want good', 'want hear', 'want just', 'want kind', 'want know', 'want learn', 'want little', 'want live', 'want look', 'want m', 'want make', 'want ou', 'want pa', 'want pla', 'want read', 'want real', 'want run', 'want s', 'want sa', 'want spend', 'want spoil', 'want sta', 'want start', 'want support', 'want tell', 'want think', 'want understand', 'want use', 'want wa', 'want waste', 'want watch', 'want work', 'want write', 'wanted add', 'wanted good', 'wanted know', 'wanted learn', 'wanted like', 'wanted m', 'wanted make', 'wanted onl', 'wanted read', 'wanted replace', 'wanted sa', 'wanted simple', 'wanted small', 'wanted tr', 'wanted use', 'wanted wa', 'wanting know', 'wanting read', 'wants know', 'wants read', 'war ii', 'warm heart', 'warn ou', 'warned ou', 'warner bros', 'warning ou', 'warrant bu', 'warrant expired', 'warrant period', 'warrant replacement', 'wars fan', 'washington s', 'washington state', 'wasn t', 'waste hard', 'waste m', 'waste mone', 'waste money', 'waste ou', 'waste paper', 'waste s', 'waste time', 'wasted m', 'wasted mone', 'wasted time', 'wasting m', 'wasting mone', 'wasting time', 'watch dvd', 'watch episode', 'watch great', 'watch just', 'watch love', 'watch m', 'watch movie', 'watch ou', 'watch reall', 'watch steven', 'watch thing', 'watch tv', 'watch ver', 'watch watch', 'watch worked', 'watched dvd', 'watched movie', 'watched times', 'watching dvd', 'watching film', 'watching just', 'watching m', 'watching movie', 'watching movies', 'watchman nee', 'water damage', 'water level', 'water m', 'water onl', 'water ou', 'water resistant', 'wealth information', 'wear m', 'weather report', 'weather station', 'web page', 'web services', 'web site', 'website does', 'website m', 'week ago', 'week later', 'week m', 'week s', 'week using', 'weeks ago', 'weeks arrive', 'weeks just', 'weeks later', 'weeks m', 'weeks old', 'weeks s', 'weeks use', 'weeks using', 'weighs lbs', 'weight gold', 'weight loss', 'weight m', 'went ama', 'went awa', 'went bad', 'went black', 'went book', 'went bought', 'went m', 'went straight', 'went ver', 'weren t', 'west coast', 'west wing', 'wh book', 'wh bother', 'wh bought', 'wh bu', 'wh cd', 'wh chose', 'wh couldn', 'wh did', 'wh didn', 'wh does', 'wh don', 'wh earth', 'wh gave', 'wh isn', 'wh kids', 'wh like', 'wh m', 'wh make', 'wh man', 'wh movie', 'wh onl', 'wh ou', 'wh pa', 'wh people', 'wh s', 'wh spend', 'wh star', 'wh t', 'wh things', 'wh want', 'wh won', 'whats going', 'white house', 'white space', 'wi ard', 'wi ards', 'wide range', 'wide screen', 'wide variet', 'widel available', 'wife just', 'wife s', 'wife ver', 'willing pa', 'windows vista', 'windows xp', 'wine glass', 'wireless remote', 'wish book', 'wish bought', 'wish d', 'wish ero', 'wish hadn', 'wish m', 'wish ou', 'wish read', 'wish return', 'wish stars', 'woman s', 'women book', 'women m', 'women s', 'won t', 'wonder wh', 'wonderful book', 'wonderful cd', 'wonderful children', 'wonderful collection', 'wonderful gift', 'wonderful job', 'wonderful just', 'wonderful movie', 'wonderful ou', 'wonderful pictures', 'wonderful product', 'wonderful read', 'wonderful s', 'wonderful series', 'wonderful stor', 'wonderful world', 'wonderfull written', 'wondering wh', 'wont work', 'wood s', 'wood woodpecker', 'word book', 'word caution', 'word m', 'word s', 'word word', 'words b', 'words book', 'words m', 'words ou', 'words phrases', 'words s', 'work advertised', 'work album', 'work art', 'work b', 'work best', 'work better', 'work book', 'work bought', 'work box', 'work bu', 'work constantl', 'work correctl', 'work da', 'work did', 'work didn', 'work does', 'work don', 'work fine', 'work good', 'work got', 'work great', 'work hard', 'work highl', 'work home', 'work just', 'work left', 'work like', 'work little', 'work m', 'work ma', 'work mac', 'work new', 'work ok', 'work onl', 'work ou', 'work properl', 'work right', 'work s', 'work t', 'work think', 'work tried', 'work used', 'work ve', 'work ver', 'work vista', 'work wa', 'work windows', 'work wish', 'worked better', 'worked da', 'worked fine', 'worked flawlessl', 'worked great', 'worked just', 'worked like', 'worked m', 'worked months', 'worked ok', 'worked onl', 'worked perfectl', 'worked properl', 'worked time', 'worked ver', 'working da', 'working fine', 'working great', 'working m', 'working months', 'working new', 'working s', 'working ver', 'workout dvd', 'workout ou', 'works better', 'works does', 'works expected', 'works fine', 'works good', 'works great', 'works just', 'works like', 'works m', 'works ok', 'works onl', 'works ou', 'works perfect', 'works perfectl', 'works reall', 'works s', 'works ver', 'world bank', 'world m', 'world ou', 'world real', 'world s', 'world war', 'worse m', 'worse worse', 'worst album', 'worst book', 'worst books', 'worst dvd', 'worst game', 'worst movie', 'worst movies', 'worst phone', 'worst product', 'worst thing', 'worst ve', 'worst written', 'worth book', 'worth bu', 'worth bucks', 'worth cent', 'worth checking', 'worth cost', 'worth dime', 'worth dollars', 'worth effort', 'worth extra', 'worth getting', 'worth having', 'worth investment', 'worth just', 'worth listen', 'worth listening', 'worth look', 'worth m', 'worth mone', 'worth paid', 'worth paper', 'worth penn', 'worth picking', 'worth pla', 'worth price', 'worth purchase', 'worth purchasing', 'worth qualit', 'worth read', 'worth reading', 'worth rental', 'worth s', 'worth star', 'worth stars', 'worth time', 'worth tr', 'worth trouble', 'worth ver', 'worth wait', 'worth watching', 'worthless bought', 'worthless m', 'wouldn t', 'wow just', 'wow sa', 'wrist pad', 'write book', 'write review', 'write reviews', 'writer book', 'writer s', 'writes like', 'writing book', 'writing m', 'writing review', 'writing st', 'writing ver', 'written b', 'written book', 'written eas', 'written onl', 'written ou', 'written pages', 'written poorl', 'written review', 'written reviews', 'written s', 'written stor', 'written ver', 'wrong book', 'wrong item', 'wrong m', 'wrong onl', 'wrong ou', 'wrong place', 'wrong product', 'wrong s', 'wrong si', 'wrote book', 'ww ii', 'www ama', 'x acto', 'x box', 'x files', 'x inches', 'x s', 'x x', 'xp did', 'xp professional', 'years ago', 'years later', 'yellow fever', 'yes s', 'york cit', 'zero stars', 'zune g'] \n",
            "\n",
            "\n",
            "\n",
            "\n",
            "User input features with weights\n",
            "\n",
            "    aa batteries  ab smal  abbott costello  able bu  able cd  able connect  \\\n",
            "0           0.0      0.0              0.0      0.0      0.0           0.0   \n",
            "\n",
            "   able control  able enjo  able game  able hear  ...  x x  xp did  \\\n",
            "0           0.0        0.0        0.0        0.0  ...  0.0     0.0   \n",
            "\n",
            "   xp professional  years ago  years later  yellow fever  yes s  york cit  \\\n",
            "0              0.0        0.0          0.0           0.0    0.0       0.0   \n",
            "\n",
            "   zero stars  zune g  \n",
            "0         0.0     0.0  \n",
            "\n",
            "[1 rows x 10000 columns] \n",
            "\n",
            "\n"
          ],
          "name": "stdout"
        }
      ]
    },
    {
      "cell_type": "code",
      "metadata": {
        "id": "qdbKCB4GnATw",
        "colab": {
          "base_uri": "https://localhost:8080/",
          "height": 68
        },
        "outputId": "8ada1c38-e8ff-46e6-8a48-1c760a83e323"
      },
      "source": [
        "print(\"\\n\\nPrediction: \",end='')\n",
        "pred=classifier.predict(transformed_input)\n",
        "\n",
        "if(pred==1):\n",
        "    print(\"Positive\")\n",
        "\n",
        "if(pred==0):\n",
        "    print(\"Negative\")\n",
        "        "
      ],
      "execution_count": null,
      "outputs": [
        {
          "output_type": "stream",
          "text": [
            "\n",
            "\n",
            "Prediction: Positive\n"
          ],
          "name": "stdout"
        }
      ]
    },
    {
      "cell_type": "code",
      "metadata": {
        "id": "GlwVwnmFnAT_"
      },
      "source": [
        ""
      ],
      "execution_count": null,
      "outputs": []
    },
    {
      "cell_type": "code",
      "metadata": {
        "id": "eFle81CenAUH"
      },
      "source": [
        ""
      ],
      "execution_count": null,
      "outputs": []
    }
  ]
}